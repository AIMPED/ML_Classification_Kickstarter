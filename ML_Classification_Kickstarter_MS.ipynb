{
 "cells": [
  {
   "cell_type": "code",
   "execution_count": 1,
   "id": "14c6c52e",
   "metadata": {},
   "outputs": [],
   "source": [
    "import pandas as pd\n",
    "import numpy as np\n",
    "import os # doesnt have to be installed with pip"
   ]
  },
  {
   "cell_type": "code",
   "execution_count": 5,
   "id": "095720e7",
   "metadata": {},
   "outputs": [
    {
     "name": "stdout",
     "output_type": "stream",
     "text": [
      "data/Kickstarter038.csv\n",
      "(3781, 37)\n",
      "data/Kickstarter041.csv\n",
      "(3792, 37)\n",
      "data/Kickstarter039.csv\n",
      "(3786, 37)\n",
      "data/Kickstarter000.csv\n",
      "(3779, 37)\n",
      "data/Kickstarter022.csv\n",
      "(3778, 37)\n",
      "data/Kickstarter015.csv\n",
      "(3792, 37)\n",
      "data/Kickstarter004.csv\n",
      "(3789, 37)\n",
      "data/Kickstarter002.csv\n",
      "(3790, 37)\n",
      "data/Kickstarter042.csv\n",
      "(3786, 37)\n",
      "data/Kickstarter047.csv\n",
      "(3788, 37)\n",
      "data/Kickstarter031.csv\n",
      "(3787, 37)\n",
      "data/Kickstarter019.csv\n",
      "(3791, 37)\n",
      "data/Kickstarter036.csv\n",
      "(3784, 37)\n",
      "data/Kickstarter016.csv\n",
      "(3782, 37)\n",
      "data/Kickstarter055.csv\n",
      "(965, 37)\n",
      "data/Kickstarter024.csv\n",
      "(3796, 37)\n",
      "data/Kickstarter023.csv\n",
      "(3780, 37)\n",
      "data/Kickstarter017.csv\n",
      "(3786, 37)\n",
      "data/Kickstarter037.csv\n",
      "(3793, 37)\n",
      "data/Kickstarter014.csv\n",
      "(3786, 37)\n",
      "data/Kickstarter029.csv\n",
      "(3785, 37)\n",
      "data/Kickstarter050.csv\n",
      "(3789, 37)\n",
      "data/Kickstarter018.csv\n",
      "(3785, 37)\n",
      "data/Kickstarter003.csv\n",
      "(3795, 37)\n",
      "data/Kickstarter006.csv\n",
      "(3786, 37)\n",
      "data/Kickstarter005.csv\n",
      "(3780, 37)\n",
      "data/Kickstarter027.csv\n",
      "(3779, 37)\n",
      "data/Kickstarter053.csv\n",
      "(3787, 37)\n",
      "data/Kickstarter054.csv\n",
      "(3793, 37)\n",
      "data/Kickstarter045.csv\n",
      "(3787, 37)\n",
      "data/Kickstarter030.csv\n",
      "(3793, 37)\n",
      "data/Kickstarter034.csv\n",
      "(3784, 37)\n",
      "data/Kickstarter020.csv\n",
      "(3786, 37)\n",
      "data/Kickstarter013.csv\n",
      "(3793, 37)\n",
      "data/Kickstarter044.csv\n",
      "(3779, 37)\n",
      "data/Kickstarter043.csv\n",
      "(3790, 37)\n",
      "data/Kickstarter046.csv\n",
      "(3786, 37)\n",
      "data/Kickstarter021.csv\n",
      "(3787, 37)\n",
      "data/Kickstarter051.csv\n",
      "(3780, 37)\n",
      "data/Kickstarter026.csv\n",
      "(3793, 37)\n",
      "data/Kickstarter040.csv\n",
      "(3779, 37)\n",
      "data/Kickstarter009.csv\n",
      "(3790, 37)\n",
      "data/Kickstarter012.csv\n",
      "(3781, 37)\n",
      "data/Kickstarter008.csv\n",
      "(3784, 37)\n",
      "data/Kickstarter033.csv\n",
      "(3780, 37)\n",
      "data/Kickstarter028.csv\n",
      "(3785, 37)\n",
      "data/Kickstarter052.csv\n",
      "(3791, 37)\n",
      "data/Kickstarter001.csv\n",
      "(3784, 37)\n",
      "data/Kickstarter011.csv\n",
      "(3784, 37)\n",
      "data/Kickstarter032.csv\n",
      "(3788, 37)\n",
      "data/Kickstarter025.csv\n",
      "(3784, 37)\n",
      "data/Kickstarter035.csv\n",
      "(3794, 37)\n",
      "data/Kickstarter007.csv\n",
      "(3788, 37)\n",
      "data/Kickstarter048.csv\n",
      "(3792, 37)\n",
      "data/Kickstarter049.csv\n",
      "(3784, 37)\n",
      "data/Kickstarter010.csv\n",
      "(3786, 37)\n"
     ]
    }
   ],
   "source": [
    "# Checking the dimensions of the tables, same columns, same number of rows?\n",
    "directory = 'data/'\n",
    "for filename in os.listdir(directory):\n",
    "    if filename.endswith(\".csv\"):\n",
    "        file_directory = os.path.join(directory, filename)\n",
    "        df = pd.read_csv(file_directory)\n",
    "        print(file_directory)\n",
    "        print(df.shape)"
   ]
  },
  {
   "cell_type": "code",
   "execution_count": 20,
   "id": "3bc85241",
   "metadata": {},
   "outputs": [],
   "source": [
    "def mult_csv_to_one_df(directory: str, axis=0):\n",
    "    '''\n",
    "    Searches a directory (absolute or relative path) for csv files (they need to have the csv ending, comma as delimiter).\n",
    "    Returns a dataframe of concatenated tables. Axis as in Pandas.\n",
    "    Dependencies: pandas and os\n",
    "    '''\n",
    "    first = True\n",
    "    for filename in os.listdir(directory):\n",
    "        if first == True:\n",
    "            first = False\n",
    "            df = pd.read_csv(os.path.join(directory, filename))\n",
    "        else:\n",
    "            if filename.endswith(\".csv\"):\n",
    "                file_directory = os.path.join(directory, filename)\n",
    "                df_next = pd.read_csv(file_directory)\n",
    "                df = pd.concat([df,df_next], axis=axis)\n",
    "    return df"
   ]
  },
  {
   "cell_type": "code",
   "execution_count": 19,
   "id": "519a30c2",
   "metadata": {},
   "outputs": [],
   "source": [
    "df = mult_csv_to_one_df('data/')"
   ]
  },
  {
   "cell_type": "code",
   "execution_count": 7,
   "id": "e0e6d1d8",
   "metadata": {},
   "outputs": [
    {
     "name": "stdout",
     "output_type": "stream",
     "text": [
      "<class 'pandas.core.frame.DataFrame'>\n",
      "Int64Index: 209222 entries, 0 to 3785\n",
      "Data columns (total 37 columns):\n",
      " #   Column                    Non-Null Count   Dtype  \n",
      "---  ------                    --------------   -----  \n",
      " 0   backers_count             209222 non-null  int64  \n",
      " 1   blurb                     209214 non-null  object \n",
      " 2   category                  209222 non-null  object \n",
      " 3   converted_pledged_amount  209222 non-null  int64  \n",
      " 4   country                   209222 non-null  object \n",
      " 5   created_at                209222 non-null  int64  \n",
      " 6   creator                   209222 non-null  object \n",
      " 7   currency                  209222 non-null  object \n",
      " 8   currency_symbol           209222 non-null  object \n",
      " 9   currency_trailing_code    209222 non-null  bool   \n",
      " 10  current_currency          209222 non-null  object \n",
      " 11  deadline                  209222 non-null  int64  \n",
      " 12  disable_communication     209222 non-null  bool   \n",
      " 13  friends                   300 non-null     object \n",
      " 14  fx_rate                   209222 non-null  float64\n",
      " 15  goal                      209222 non-null  float64\n",
      " 16  id                        209222 non-null  int64  \n",
      " 17  is_backing                300 non-null     object \n",
      " 18  is_starrable              209222 non-null  bool   \n",
      " 19  is_starred                300 non-null     object \n",
      " 20  launched_at               209222 non-null  int64  \n",
      " 21  location                  208996 non-null  object \n",
      " 22  name                      209222 non-null  object \n",
      " 23  permissions               300 non-null     object \n",
      " 24  photo                     209222 non-null  object \n",
      " 25  pledged                   209222 non-null  float64\n",
      " 26  profile                   209222 non-null  object \n",
      " 27  slug                      209222 non-null  object \n",
      " 28  source_url                209222 non-null  object \n",
      " 29  spotlight                 209222 non-null  bool   \n",
      " 30  staff_pick                209222 non-null  bool   \n",
      " 31  state                     209222 non-null  object \n",
      " 32  state_changed_at          209222 non-null  int64  \n",
      " 33  static_usd_rate           209222 non-null  float64\n",
      " 34  urls                      209222 non-null  object \n",
      " 35  usd_pledged               209222 non-null  float64\n",
      " 36  usd_type                  208742 non-null  object \n",
      "dtypes: bool(5), float64(5), int64(7), object(20)\n",
      "memory usage: 53.7+ MB\n"
     ]
    }
   ],
   "source": [
    "df.info()"
   ]
  },
  {
   "cell_type": "code",
   "execution_count": 15,
   "id": "a538fa71",
   "metadata": {},
   "outputs": [
    {
     "data": {
      "text/plain": [
       "array(['[]'], dtype=object)"
      ]
     },
     "execution_count": 15,
     "metadata": {},
     "output_type": "execute_result"
    }
   ],
   "source": [
    "df[df.friends.isnull() == False]['friends'].unique()"
   ]
  },
  {
   "cell_type": "code",
   "execution_count": 16,
   "id": "7d5f4479",
   "metadata": {},
   "outputs": [
    {
     "data": {
      "text/plain": [
       "array([nan, '[]'], dtype=object)"
      ]
     },
     "execution_count": 16,
     "metadata": {},
     "output_type": "execute_result"
    }
   ],
   "source": [
    "df.friends.unique()"
   ]
  },
  {
   "cell_type": "code",
   "execution_count": null,
   "id": "fa988443",
   "metadata": {},
   "outputs": [],
   "source": []
  }
 ],
 "metadata": {
  "kernelspec": {
   "display_name": "Python 3",
   "language": "python",
   "name": "python3"
  },
  "language_info": {
   "codemirror_mode": {
    "name": "ipython",
    "version": 3
   },
   "file_extension": ".py",
   "mimetype": "text/x-python",
   "name": "python",
   "nbconvert_exporter": "python",
   "pygments_lexer": "ipython3",
   "version": "3.8.5"
  }
 },
 "nbformat": 4,
 "nbformat_minor": 5
}
