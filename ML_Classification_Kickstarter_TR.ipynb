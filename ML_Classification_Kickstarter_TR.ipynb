{
 "cells": [
  {
   "cell_type": "code",
   "execution_count": 1,
   "id": "49fd0d59-ea1d-41c8-8890-2a7c258cfa2c",
   "metadata": {},
   "outputs": [],
   "source": [
    "import numpy as np\n",
    "import matplotlib.pyplot as plt\n",
    "import seaborn as sns\n",
    "import pandas as pd\n",
    "from datetime import datetime\n",
    "\n",
    "# set default figure size\n",
    "plt.rcParams[\"figure.figsize\"] = (8, 5)"
   ]
  },
  {
   "cell_type": "code",
   "execution_count": 2,
   "id": "4530bda7-c2c7-44d0-90b9-eec3460d78b3",
   "metadata": {},
   "outputs": [],
   "source": [
    "pd.options.display.max_columns = None"
   ]
  },
  {
   "cell_type": "code",
   "execution_count": 3,
   "id": "bfccec50-4bcf-4828-9670-619a6f84ba03",
   "metadata": {},
   "outputs": [],
   "source": [
    "# Import data\n",
    "df = pd.read_csv('data/Kickstarter_preprocessed.csv')"
   ]
  },
  {
   "cell_type": "code",
   "execution_count": 4,
   "id": "d660a1c3-62a3-48fc-a071-49338c188868",
   "metadata": {
    "collapsed": true,
    "jupyter": {
     "outputs_hidden": true
    },
    "tags": []
   },
   "outputs": [
    {
     "name": "stdout",
     "output_type": "stream",
     "text": [
      "<class 'pandas.core.frame.DataFrame'>\n",
      "RangeIndex: 209222 entries, 0 to 209221\n",
      "Data columns (total 76 columns):\n",
      " #   Column                             Non-Null Count   Dtype  \n",
      "---  ------                             --------------   -----  \n",
      " 0   Unnamed: 0                         209222 non-null  int64  \n",
      " 1   backers_count                      209222 non-null  int64  \n",
      " 2   blurb                              209214 non-null  object \n",
      " 3   converted_pledged_amount           209222 non-null  int64  \n",
      " 4   country                            209222 non-null  object \n",
      " 5   created_at                         209222 non-null  int64  \n",
      " 6   currency                           209222 non-null  object \n",
      " 7   currency_symbol                    209222 non-null  object \n",
      " 8   currency_trailing_code             209222 non-null  bool   \n",
      " 9   current_currency                   209222 non-null  object \n",
      " 10  deadline                           209222 non-null  int64  \n",
      " 11  disable_communication              209222 non-null  bool   \n",
      " 12  friends                            300 non-null     object \n",
      " 13  fx_rate                            209222 non-null  float64\n",
      " 14  goal                               209222 non-null  float64\n",
      " 15  id                                 209222 non-null  int64  \n",
      " 16  is_backing                         300 non-null     object \n",
      " 17  is_starrable                       209222 non-null  bool   \n",
      " 18  is_starred                         300 non-null     object \n",
      " 19  launched_at                        209222 non-null  int64  \n",
      " 20  name                               209222 non-null  object \n",
      " 21  permissions                        300 non-null     object \n",
      " 22  photo                              209222 non-null  object \n",
      " 23  pledged                            209222 non-null  float64\n",
      " 24  slug                               209222 non-null  object \n",
      " 25  source_url                         209222 non-null  object \n",
      " 26  spotlight                          209222 non-null  bool   \n",
      " 27  staff_pick                         209222 non-null  bool   \n",
      " 28  state                              209222 non-null  object \n",
      " 29  state_changed_at                   209222 non-null  int64  \n",
      " 30  static_usd_rate                    209222 non-null  float64\n",
      " 31  urls                               209222 non-null  object \n",
      " 32  usd_pledged                        209222 non-null  float64\n",
      " 33  usd_type                           208742 non-null  object \n",
      " 34  id_category                        209222 non-null  int64  \n",
      " 35  name_category                      209222 non-null  object \n",
      " 36  slug_category                      209222 non-null  object \n",
      " 37  position                           209222 non-null  int64  \n",
      " 38  parent_id                          200181 non-null  float64\n",
      " 39  color                              209222 non-null  int64  \n",
      " 40  urls_category                      209222 non-null  object \n",
      " 41  id_creator                         209109 non-null  float64\n",
      " 42  name_creator                       209109 non-null  object \n",
      " 43  is_registered                      0 non-null       float64\n",
      " 44  chosen_currency                    0 non-null       float64\n",
      " 45  avatar                             125499 non-null  object \n",
      " 46  urls_creator                       83610 non-null   object \n",
      " 47  slug_creator                       64014 non-null   object \n",
      " 48  id_location                        209114 non-null  float64\n",
      " 49  name_location                      209114 non-null  object \n",
      " 50  slug_location                      208622 non-null  object \n",
      " 51  short_name                         209114 non-null  object \n",
      " 52  displayable_name                   209114 non-null  object \n",
      " 53  localized_name                     209114 non-null  object \n",
      " 54  country_location                   209106 non-null  object \n",
      " 55  state_location                     209054 non-null  object \n",
      " 56  type                               209114 non-null  object \n",
      " 57  is_root                            209114 non-null  float64\n",
      " 58  urls_location                      209114 non-null  object \n",
      " 59  id_profile                         205528 non-null  float64\n",
      " 60  project_id                         205528 non-null  float64\n",
      " 61  state_profile                      205528 non-null  object \n",
      " 62  state_changed_at_profile           205528 non-null  float64\n",
      " 63  name_profile                       42408 non-null   object \n",
      " 64  blurb_profile                      42138 non-null   object \n",
      " 65  background_color                   15457 non-null   object \n",
      " 66  text_color                         16470 non-null   object \n",
      " 67  link_background_color              18345 non-null   object \n",
      " 68  link_text_color                    3272 non-null    object \n",
      " 69  link_text                          41234 non-null   object \n",
      " 70  link_url                           39752 non-null   object \n",
      " 71  show_feature_image                 205528 non-null  float64\n",
      " 72  background_image_opacity           205528 non-null  float64\n",
      " 73  should_show_feature_image_section  205528 non-null  float64\n",
      " 74  feature_image_attributes           200854 non-null  object \n",
      " 75  background_image_attributes        12863 non-null   object \n",
      "dtypes: bool(5), float64(17), int64(11), object(43)\n",
      "memory usage: 114.3+ MB\n"
     ]
    }
   ],
   "source": [
    "df.info()"
   ]
  },
  {
   "cell_type": "code",
   "execution_count": 5,
   "id": "e8057d76-f40f-45a4-b0f7-1edde5f712a1",
   "metadata": {},
   "outputs": [],
   "source": [
    "# delete first column\n",
    "df.drop(['Unnamed: 0'],axis=1,inplace=True);"
   ]
  },
  {
   "cell_type": "code",
   "execution_count": 6,
   "id": "63af55e4-fc18-4ac2-bc04-61b038c2b748",
   "metadata": {},
   "outputs": [],
   "source": [
    "# rename some columns\n",
    "df.rename(columns={'name_category':'category_sub','slug_category':'category'},inplace=True)"
   ]
  },
  {
   "cell_type": "code",
   "execution_count": 7,
   "id": "8a878911-07be-4bd0-959e-72827c047bd5",
   "metadata": {},
   "outputs": [],
   "source": [
    "# split text in column category, keep only left part of string\n",
    "df.category = df.category.apply(lambda x: x.split('/')[0])"
   ]
  },
  {
   "cell_type": "code",
   "execution_count": 8,
   "id": "6fb18cd7-0c77-4266-9d83-cde5e1c879f4",
   "metadata": {},
   "outputs": [],
   "source": [
    "# change to lower case string\n",
    "df.category_sub = df.category_sub.str.lower()"
   ]
  },
  {
   "cell_type": "code",
   "execution_count": 9,
   "id": "35b32f28-5c49-4d94-a2be-ec24bdea9933",
   "metadata": {
    "tags": []
   },
   "outputs": [],
   "source": [
    "# convert description (blurp) into integer --> number of words\n",
    "df.blurb = df['blurb'].apply(lambda x: len(str(x).split()));"
   ]
  },
  {
   "cell_type": "markdown",
   "id": "0541ef2e-ff61-40da-afa7-61a057009797",
   "metadata": {},
   "source": [
    "## Change unixtime into human readible time"
   ]
  },
  {
   "cell_type": "code",
   "execution_count": 10,
   "id": "84afd513-7c46-4b26-a283-7a93457859e4",
   "metadata": {},
   "outputs": [],
   "source": [
    "# create function for format change\n",
    "# we could also use lambda x: datetime.utcfromtimestamp(x)\n",
    "\n",
    "def chg_date(x):\n",
    "    return datetime.utcfromtimestamp(x)"
   ]
  },
  {
   "cell_type": "code",
   "execution_count": 11,
   "id": "7590cc59-5abb-4737-bcad-bf928f9f3af5",
   "metadata": {},
   "outputs": [],
   "source": [
    "# apply on dataframe\n",
    "\n",
    "time_col = ['created_at','deadline','launched_at']\n",
    "df[time_col] = df[time_col].applymap(chg_date)"
   ]
  },
  {
   "cell_type": "code",
   "execution_count": 12,
   "id": "87f5b4c7-2fdf-491e-bc0d-ac924ca83524",
   "metadata": {
    "tags": []
   },
   "outputs": [],
   "source": [
    "# create new feature called duration\n",
    "df['duration'] = df.deadline - df.launched_at"
   ]
  },
  {
   "cell_type": "code",
   "execution_count": 13,
   "id": "b90b34c3-09dc-4627-81b1-8e25c032c985",
   "metadata": {},
   "outputs": [],
   "source": [
    "# calculate usd_goal\n",
    "df['usd_goal'] = df.goal * df.static_usd_rate"
   ]
  },
  {
   "cell_type": "markdown",
   "id": "03062691-08eb-40ef-9f84-9971a585e6bb",
   "metadata": {},
   "source": [
    "## Show target, count classes"
   ]
  },
  {
   "cell_type": "markdown",
   "id": "d1e82c85-c0de-4fa3-a758-d529fed25b1a",
   "metadata": {},
   "source": [
    "Let's take a look on our target."
   ]
  },
  {
   "cell_type": "code",
   "execution_count": 14,
   "id": "d33c1609-e048-4644-9b7c-3382f26d4148",
   "metadata": {},
   "outputs": [
    {
     "data": {
      "text/plain": [
       "successful    117465\n",
       "failed         75199\n",
       "canceled        8624\n",
       "live            7311\n",
       "suspended        623\n",
       "Name: state, dtype: int64"
      ]
     },
     "execution_count": 14,
     "metadata": {},
     "output_type": "execute_result"
    }
   ],
   "source": [
    "df.state.value_counts()"
   ]
  },
  {
   "cell_type": "markdown",
   "id": "b6778b40-cd3f-414a-9192-ed6e9f6318a3",
   "metadata": {},
   "source": [
    "We have found four different categories:\n",
    "- successful\n",
    "- failed\n",
    "- live\n",
    "- suspended\n",
    "\n",
    "We are restricting the analysis on projects which have been finished, therefore we delete all rows of the categories **canceled**, **live** and **suspended**."
   ]
  },
  {
   "cell_type": "code",
   "execution_count": 15,
   "id": "155ff3e3-dddb-4b36-92a7-ef10f1acf833",
   "metadata": {
    "tags": []
   },
   "outputs": [],
   "source": [
    "df = df[df.state.isin(['successful','failed'])]"
   ]
  },
  {
   "cell_type": "code",
   "execution_count": 16,
   "id": "462e71f9-c96e-49c9-ba5d-d812cb0280d8",
   "metadata": {},
   "outputs": [
    {
     "data": {
      "text/plain": [
       "successful    117465\n",
       "failed         75199\n",
       "Name: state, dtype: int64"
      ]
     },
     "execution_count": 16,
     "metadata": {},
     "output_type": "execute_result"
    }
   ],
   "source": [
    "df.state.value_counts()"
   ]
  },
  {
   "cell_type": "markdown",
   "id": "5353acfb-6104-443b-b922-a7c97724f22b",
   "metadata": {},
   "source": [
    "## Target & Features"
   ]
  },
  {
   "cell_type": "code",
   "execution_count": 17,
   "id": "f53ae770-5cf2-40c5-b3c5-b679d8fa7ca2",
   "metadata": {
    "tags": []
   },
   "outputs": [],
   "source": [
    "# define target\n",
    "target = ['state']"
   ]
  },
  {
   "cell_type": "code",
   "execution_count": 18,
   "id": "19c552f6-61e0-4290-b582-d36c9167f64d",
   "metadata": {
    "tags": []
   },
   "outputs": [],
   "source": [
    "# define features\n",
    "features = ['blurb','category','category_sub',\\\n",
    "            'duration','currency','usd_goal','country',\\\n",
    "            'localized_name','type','staff_pick']"
   ]
  },
  {
   "cell_type": "code",
   "execution_count": 19,
   "id": "197834db-43a3-4d08-a471-a4740b81269e",
   "metadata": {},
   "outputs": [
    {
     "data": {
      "text/html": [
       "<div>\n",
       "<style scoped>\n",
       "    .dataframe tbody tr th:only-of-type {\n",
       "        vertical-align: middle;\n",
       "    }\n",
       "\n",
       "    .dataframe tbody tr th {\n",
       "        vertical-align: top;\n",
       "    }\n",
       "\n",
       "    .dataframe thead th {\n",
       "        text-align: right;\n",
       "    }\n",
       "</style>\n",
       "<table border=\"1\" class=\"dataframe\">\n",
       "  <thead>\n",
       "    <tr style=\"text-align: right;\">\n",
       "      <th></th>\n",
       "      <th>blurb</th>\n",
       "      <th>category</th>\n",
       "      <th>category_sub</th>\n",
       "      <th>duration</th>\n",
       "      <th>currency</th>\n",
       "      <th>usd_goal</th>\n",
       "      <th>country</th>\n",
       "      <th>localized_name</th>\n",
       "      <th>type</th>\n",
       "      <th>staff_pick</th>\n",
       "    </tr>\n",
       "  </thead>\n",
       "  <tbody>\n",
       "    <tr>\n",
       "      <th>0</th>\n",
       "      <td>20</td>\n",
       "      <td>games</td>\n",
       "      <td>live games</td>\n",
       "      <td>60 days</td>\n",
       "      <td>USD</td>\n",
       "      <td>5000.0</td>\n",
       "      <td>US</td>\n",
       "      <td>Douglas</td>\n",
       "      <td>Town</td>\n",
       "      <td>False</td>\n",
       "    </tr>\n",
       "    <tr>\n",
       "      <th>1</th>\n",
       "      <td>15</td>\n",
       "      <td>film &amp; video</td>\n",
       "      <td>drama</td>\n",
       "      <td>30 days</td>\n",
       "      <td>USD</td>\n",
       "      <td>6000.0</td>\n",
       "      <td>US</td>\n",
       "      <td>Douglas</td>\n",
       "      <td>Town</td>\n",
       "      <td>False</td>\n",
       "    </tr>\n",
       "    <tr>\n",
       "      <th>2</th>\n",
       "      <td>19</td>\n",
       "      <td>film &amp; video</td>\n",
       "      <td>experimental</td>\n",
       "      <td>30 days</td>\n",
       "      <td>USD</td>\n",
       "      <td>10000.0</td>\n",
       "      <td>US</td>\n",
       "      <td>San Francisco</td>\n",
       "      <td>Town</td>\n",
       "      <td>False</td>\n",
       "    </tr>\n",
       "    <tr>\n",
       "      <th>3</th>\n",
       "      <td>25</td>\n",
       "      <td>journalism</td>\n",
       "      <td>journalism</td>\n",
       "      <td>30 days</td>\n",
       "      <td>USD</td>\n",
       "      <td>8000.0</td>\n",
       "      <td>US</td>\n",
       "      <td>San Francisco</td>\n",
       "      <td>Town</td>\n",
       "      <td>False</td>\n",
       "    </tr>\n",
       "    <tr>\n",
       "      <th>4</th>\n",
       "      <td>11</td>\n",
       "      <td>games</td>\n",
       "      <td>mobile games</td>\n",
       "      <td>30 days</td>\n",
       "      <td>USD</td>\n",
       "      <td>2000.0</td>\n",
       "      <td>US</td>\n",
       "      <td>Jacksonville</td>\n",
       "      <td>Town</td>\n",
       "      <td>False</td>\n",
       "    </tr>\n",
       "  </tbody>\n",
       "</table>\n",
       "</div>"
      ],
      "text/plain": [
       "   blurb      category  category_sub duration currency  usd_goal country  \\\n",
       "0     20         games    live games  60 days      USD    5000.0      US   \n",
       "1     15  film & video         drama  30 days      USD    6000.0      US   \n",
       "2     19  film & video  experimental  30 days      USD   10000.0      US   \n",
       "3     25    journalism    journalism  30 days      USD    8000.0      US   \n",
       "4     11         games  mobile games  30 days      USD    2000.0      US   \n",
       "\n",
       "  localized_name  type  staff_pick  \n",
       "0        Douglas  Town       False  \n",
       "1        Douglas  Town       False  \n",
       "2  San Francisco  Town       False  \n",
       "3  San Francisco  Town       False  \n",
       "4   Jacksonville  Town       False  "
      ]
     },
     "execution_count": 19,
     "metadata": {},
     "output_type": "execute_result"
    }
   ],
   "source": [
    "df[features].head()"
   ]
  },
  {
   "cell_type": "code",
   "execution_count": 20,
   "id": "5bafc191-c15b-4538-9040-d410074d681c",
   "metadata": {
    "collapsed": true,
    "jupyter": {
     "outputs_hidden": true
    },
    "tags": []
   },
   "outputs": [
    {
     "name": "stdout",
     "output_type": "stream",
     "text": [
      "<class 'pandas.core.frame.DataFrame'>\n",
      "Int64Index: 192664 entries, 0 to 209221\n",
      "Data columns (total 10 columns):\n",
      " #   Column          Non-Null Count   Dtype          \n",
      "---  ------          --------------   -----          \n",
      " 0   blurb           192664 non-null  int64          \n",
      " 1   category        192664 non-null  object         \n",
      " 2   category_sub    192664 non-null  object         \n",
      " 3   duration        192664 non-null  timedelta64[ns]\n",
      " 4   currency        192664 non-null  object         \n",
      " 5   usd_goal        192664 non-null  float64        \n",
      " 6   country         192664 non-null  object         \n",
      " 7   localized_name  192565 non-null  object         \n",
      " 8   type            192565 non-null  object         \n",
      " 9   staff_pick      192664 non-null  bool           \n",
      "dtypes: bool(1), float64(1), int64(1), object(6), timedelta64[ns](1)\n",
      "memory usage: 14.9+ MB\n"
     ]
    }
   ],
   "source": [
    "df[features].info()"
   ]
  },
  {
   "cell_type": "code",
   "execution_count": 21,
   "id": "fb7f7d44-2648-4718-83a7-0533fd5f7881",
   "metadata": {},
   "outputs": [],
   "source": [
    "# convert all features into categories\n",
    "df = df.astype({name:'category' for name in features})"
   ]
  },
  {
   "cell_type": "code",
   "execution_count": 22,
   "id": "cf6570bc-9ad0-4e19-ae38-cd92b0792c71",
   "metadata": {},
   "outputs": [],
   "source": [
    "# convert blurb into int, usd_goal into float\n",
    "df.usd_goal = df.usd_goal.astype(float)\n",
    "df.blurb = df.blurb.astype(int)"
   ]
  },
  {
   "cell_type": "code",
   "execution_count": 23,
   "id": "738fcb09-2bd3-4d48-837c-2590db71adfa",
   "metadata": {
    "collapsed": true,
    "jupyter": {
     "outputs_hidden": true
    },
    "tags": []
   },
   "outputs": [
    {
     "name": "stdout",
     "output_type": "stream",
     "text": [
      "<class 'pandas.core.frame.DataFrame'>\n",
      "Int64Index: 192664 entries, 0 to 209221\n",
      "Data columns (total 10 columns):\n",
      " #   Column          Non-Null Count   Dtype   \n",
      "---  ------          --------------   -----   \n",
      " 0   blurb           192664 non-null  int64   \n",
      " 1   category        192664 non-null  category\n",
      " 2   category_sub    192664 non-null  category\n",
      " 3   duration        192664 non-null  category\n",
      " 4   currency        192664 non-null  category\n",
      " 5   usd_goal        192664 non-null  float64 \n",
      " 6   country         192664 non-null  category\n",
      " 7   localized_name  192565 non-null  category\n",
      " 8   type            192565 non-null  category\n",
      " 9   staff_pick      192664 non-null  category\n",
      "dtypes: category(8), float64(1), int64(1)\n",
      "memory usage: 8.5 MB\n"
     ]
    }
   ],
   "source": [
    "df[features].info()"
   ]
  },
  {
   "cell_type": "code",
   "execution_count": 24,
   "id": "4b3a6cbd-beed-48cc-92ee-7aa95715f04f",
   "metadata": {},
   "outputs": [],
   "source": [
    "# convert categorical features into integer classes\n",
    "cat = ['category','category_sub','duration','currency','country','localized_name','type','staff_pick']\n",
    "df[cat] = df[cat].apply(lambda x: x.cat.codes);"
   ]
  },
  {
   "cell_type": "code",
   "execution_count": 25,
   "id": "fda6e40e-ad2b-43c6-9f17-85a8cb483d28",
   "metadata": {
    "collapsed": true,
    "jupyter": {
     "outputs_hidden": true
    },
    "tags": []
   },
   "outputs": [
    {
     "name": "stdout",
     "output_type": "stream",
     "text": [
      "<class 'pandas.core.frame.DataFrame'>\n",
      "Int64Index: 192664 entries, 0 to 209221\n",
      "Data columns (total 10 columns):\n",
      " #   Column          Non-Null Count   Dtype  \n",
      "---  ------          --------------   -----  \n",
      " 0   blurb           192664 non-null  int64  \n",
      " 1   category        192664 non-null  int8   \n",
      " 2   category_sub    192664 non-null  int16  \n",
      " 3   duration        192664 non-null  int32  \n",
      " 4   currency        192664 non-null  int8   \n",
      " 5   usd_goal        192664 non-null  float64\n",
      " 6   country         192664 non-null  int8   \n",
      " 7   localized_name  192664 non-null  int16  \n",
      " 8   type            192664 non-null  int8   \n",
      " 9   staff_pick      192664 non-null  int8   \n",
      "dtypes: float64(1), int16(2), int32(1), int64(1), int8(5)\n",
      "memory usage: 6.8 MB\n"
     ]
    }
   ],
   "source": [
    "df[features].info()"
   ]
  },
  {
   "cell_type": "code",
   "execution_count": 26,
   "id": "f67e1c27-8581-427d-b8fb-f9c749054b54",
   "metadata": {},
   "outputs": [],
   "source": [
    "# calculate the correlation matrix \n",
    "feat = df[features]\n",
    "corr = feat.corr()"
   ]
  },
  {
   "cell_type": "code",
   "execution_count": 27,
   "id": "cd7214f1-40f7-4da5-afe6-0c7cfe344216",
   "metadata": {},
   "outputs": [
    {
     "data": {
      "text/html": [
       "<div>\n",
       "<style scoped>\n",
       "    .dataframe tbody tr th:only-of-type {\n",
       "        vertical-align: middle;\n",
       "    }\n",
       "\n",
       "    .dataframe tbody tr th {\n",
       "        vertical-align: top;\n",
       "    }\n",
       "\n",
       "    .dataframe thead th {\n",
       "        text-align: right;\n",
       "    }\n",
       "</style>\n",
       "<table border=\"1\" class=\"dataframe\">\n",
       "  <thead>\n",
       "    <tr style=\"text-align: right;\">\n",
       "      <th></th>\n",
       "      <th>blurb</th>\n",
       "      <th>category</th>\n",
       "      <th>category_sub</th>\n",
       "      <th>duration</th>\n",
       "      <th>currency</th>\n",
       "      <th>usd_goal</th>\n",
       "      <th>country</th>\n",
       "      <th>localized_name</th>\n",
       "      <th>type</th>\n",
       "      <th>staff_pick</th>\n",
       "    </tr>\n",
       "  </thead>\n",
       "  <tbody>\n",
       "    <tr>\n",
       "      <th>0</th>\n",
       "      <td>20</td>\n",
       "      <td>8</td>\n",
       "      <td>84</td>\n",
       "      <td>47445</td>\n",
       "      <td>13</td>\n",
       "      <td>5000.0</td>\n",
       "      <td>21</td>\n",
       "      <td>2267</td>\n",
       "      <td>7</td>\n",
       "      <td>0</td>\n",
       "    </tr>\n",
       "    <tr>\n",
       "      <th>1</th>\n",
       "      <td>15</td>\n",
       "      <td>6</td>\n",
       "      <td>40</td>\n",
       "      <td>21975</td>\n",
       "      <td>13</td>\n",
       "      <td>6000.0</td>\n",
       "      <td>21</td>\n",
       "      <td>2267</td>\n",
       "      <td>7</td>\n",
       "      <td>0</td>\n",
       "    </tr>\n",
       "    <tr>\n",
       "      <th>2</th>\n",
       "      <td>19</td>\n",
       "      <td>6</td>\n",
       "      <td>45</td>\n",
       "      <td>21975</td>\n",
       "      <td>13</td>\n",
       "      <td>10000.0</td>\n",
       "      <td>21</td>\n",
       "      <td>7043</td>\n",
       "      <td>7</td>\n",
       "      <td>0</td>\n",
       "    </tr>\n",
       "    <tr>\n",
       "      <th>3</th>\n",
       "      <td>25</td>\n",
       "      <td>9</td>\n",
       "      <td>77</td>\n",
       "      <td>21975</td>\n",
       "      <td>13</td>\n",
       "      <td>8000.0</td>\n",
       "      <td>21</td>\n",
       "      <td>7043</td>\n",
       "      <td>7</td>\n",
       "      <td>0</td>\n",
       "    </tr>\n",
       "    <tr>\n",
       "      <th>4</th>\n",
       "      <td>11</td>\n",
       "      <td>8</td>\n",
       "      <td>88</td>\n",
       "      <td>21975</td>\n",
       "      <td>13</td>\n",
       "      <td>2000.0</td>\n",
       "      <td>21</td>\n",
       "      <td>3881</td>\n",
       "      <td>7</td>\n",
       "      <td>0</td>\n",
       "    </tr>\n",
       "  </tbody>\n",
       "</table>\n",
       "</div>"
      ],
      "text/plain": [
       "   blurb  category  category_sub  duration  currency  usd_goal  country  \\\n",
       "0     20         8            84     47445        13    5000.0       21   \n",
       "1     15         6            40     21975        13    6000.0       21   \n",
       "2     19         6            45     21975        13   10000.0       21   \n",
       "3     25         9            77     21975        13    8000.0       21   \n",
       "4     11         8            88     21975        13    2000.0       21   \n",
       "\n",
       "   localized_name  type  staff_pick  \n",
       "0            2267     7           0  \n",
       "1            2267     7           0  \n",
       "2            7043     7           0  \n",
       "3            7043     7           0  \n",
       "4            3881     7           0  "
      ]
     },
     "execution_count": 27,
     "metadata": {},
     "output_type": "execute_result"
    }
   ],
   "source": [
    "feat.head()"
   ]
  },
  {
   "cell_type": "code",
   "execution_count": 83,
   "id": "e8a07f86-9b5e-48ce-bc20-3f51d1607ac8",
   "metadata": {},
   "outputs": [
    {
     "data": {
      "image/png": "[encoded data removed]",
      "text/plain": [
       "<Figure size 576x360 with 2 Axes>"
      ]
     },
     "metadata": {
      "needs_background": "light"
     },
     "output_type": "display_data"
    }
   ],
   "source": [
    "# plot heatmap\n",
    "\n",
    "fig, ax = plt.subplots()\n",
    "sns.heatmap(corr, xticklabels=feat.columns, yticklabels=feat.columns, annot=True,cmap='cividis')\n",
    "\n",
    "fig.text(s=\"Correlation factor Heat Map\",x=.5,y=0.95, fontsize = 24,ha='center', va='center')\n",
    "plt.xticks(rotation=45, fontsize=14, ha='right')\n",
    "plt.yticks(rotation=0, fontsize=14);"
   ]
  },
  {
   "cell_type": "markdown",
   "id": "ce62e545-cbe1-461d-bb97-9f9268544d37",
   "metadata": {},
   "source": [
    "Due to the high correlation between country and currency, we decided not to use currency as a feature"
   ]
  },
  {
   "cell_type": "code",
   "execution_count": 29,
   "id": "ebaa5f4c-d782-4cbd-8257-07687b17a727",
   "metadata": {},
   "outputs": [],
   "source": [
    "features.pop(features.index('currency'));"
   ]
  },
  {
   "cell_type": "markdown",
   "id": "647a83b0-c61b-4b16-b68b-d0be8de533fc",
   "metadata": {},
   "source": [
    "## Train test split"
   ]
  },
  {
   "cell_type": "code",
   "execution_count": 30,
   "id": "9ec10140-fa81-4594-8f13-aa959cb2a566",
   "metadata": {},
   "outputs": [],
   "source": [
    "# import\n",
    "from sklearn.model_selection import train_test_split\n",
    "from sklearn.metrics import f1_score, accuracy_score"
   ]
  },
  {
   "cell_type": "code",
   "execution_count": 31,
   "id": "81eacd7a-f5d4-484d-80de-4d7f06be38c3",
   "metadata": {},
   "outputs": [],
   "source": [
    "X = df[features]\n",
    "y = df[target]"
   ]
  },
  {
   "cell_type": "code",
   "execution_count": 32,
   "id": "88e289a3-21aa-460a-a119-c59938b28308",
   "metadata": {},
   "outputs": [
    {
     "name": "stdout",
     "output_type": "stream",
     "text": [
      "Train set: (144498, 9) (144498, 1)\n",
      "Test set:  (48166, 9) (48166, 1)\n"
     ]
    }
   ],
   "source": [
    "X_train, X_test, y_train, y_test = train_test_split(X, y, test_size=0.25, random_state=42)\n",
    "print ('Train set:', X_train.shape, y_train.shape)\n",
    "print ('Test set: ', X_test.shape , y_test.shape)"
   ]
  },
  {
   "cell_type": "markdown",
   "id": "d398c432-0e8e-49b2-83c3-ab53f76022b9",
   "metadata": {},
   "source": [
    "## Set up Random forrest classifier"
   ]
  },
  {
   "cell_type": "markdown",
   "id": "2454f321-a60c-4a3d-af56-b29f27358b66",
   "metadata": {},
   "source": [
    "Import necesarry modules "
   ]
  },
  {
   "cell_type": "code",
   "execution_count": 33,
   "id": "6e2ac44b-d6c8-44d6-9341-ff6a00eb5dd7",
   "metadata": {},
   "outputs": [],
   "source": [
    "from sklearn.ensemble import RandomForestClassifier\n",
    "from sklearn.metrics import classification_report, confusion_matrix, plot_confusion_matrix"
   ]
  },
  {
   "cell_type": "markdown",
   "id": "42c8815f-771a-4756-ae83-2bbc7c98917b",
   "metadata": {},
   "source": [
    "Create Random forrest object and fit with train values. `values.ravel()` transforms the y_train into 1D array"
   ]
  },
  {
   "cell_type": "code",
   "execution_count": 34,
   "id": "397b250e-4e77-4e25-9566-d1850002ec44",
   "metadata": {},
   "outputs": [],
   "source": [
    "rfc = RandomForestClassifier()\n",
    "rfc.fit(X_train,y_train.values.ravel());"
   ]
  },
  {
   "cell_type": "markdown",
   "id": "909fc9f4-96fd-49cf-8519-5186438a4712",
   "metadata": {},
   "source": [
    "Predict the target values for the test data"
   ]
  },
  {
   "cell_type": "code",
   "execution_count": 35,
   "id": "449538ee-554b-431b-92a2-a4ae3cf1ce19",
   "metadata": {},
   "outputs": [],
   "source": [
    "y_pred = rfc.predict(X_test)"
   ]
  },
  {
   "cell_type": "markdown",
   "id": "b14b33f4-2b7b-4d41-b7cc-11e55cebebf6",
   "metadata": {},
   "source": [
    "Print the classifictaion report and the confusin matrix"
   ]
  },
  {
   "cell_type": "code",
   "execution_count": 36,
   "id": "f1428f4f-889c-478d-a9b1-e8a86836da29",
   "metadata": {},
   "outputs": [
    {
     "name": "stdout",
     "output_type": "stream",
     "text": [
      "              precision    recall  f1-score   support\n",
      "\n",
      "      failed       0.77      0.71      0.74     18879\n",
      "  successful       0.82      0.86      0.84     29287\n",
      "\n",
      "    accuracy                           0.80     48166\n",
      "   macro avg       0.80      0.79      0.79     48166\n",
      "weighted avg       0.80      0.80      0.80     48166\n",
      "\n"
     ]
    }
   ],
   "source": [
    "print(classification_report(y_test,y_pred))"
   ]
  },
  {
   "cell_type": "code",
   "execution_count": 37,
   "id": "3c70d112-8eb1-4f50-a894-542bf096f91c",
   "metadata": {},
   "outputs": [
    {
     "data": {
      "image/png": "[encoded data removed]",
      "text/plain": [
       "<Figure size 576x360 with 2 Axes>"
      ]
     },
     "metadata": {
      "needs_background": "light"
     },
     "output_type": "display_data"
    }
   ],
   "source": [
    "# create confusion matrix\n",
    "cm = confusion_matrix(y_test,y_pred)\n",
    "\n",
    "# define figure size\n",
    "fig, ax = plt.subplots()\n",
    "\n",
    "# plot heatmap\n",
    "sns.heatmap(cm, cmap='cividis',ax=ax, annot=True, fmt='d', linewidths=.5)\n",
    "\n",
    "# adjust figure\n",
    "ax.set_xticklabels(['failed','succsessfull'])\n",
    "ax.set_yticklabels(['failed','succsessfull'])\n",
    "plt.xticks(rotation=45, fontsize=12)\n",
    "plt.yticks(rotation=45, fontsize=12)\n",
    "plt.xlabel('predicted values',fontsize=20)\n",
    "plt.ylabel('true values',fontsize=20);"
   ]
  },
  {
   "cell_type": "markdown",
   "id": "6d6d6366-8354-4486-a57f-1651db4a5d0c",
   "metadata": {},
   "source": [
    "### Take a look on feature importance"
   ]
  },
  {
   "cell_type": "code",
   "execution_count": 82,
   "id": "470f56bf-c9ca-411f-9191-982d9816dec0",
   "metadata": {},
   "outputs": [
    {
     "data": {
      "image/png": "[encoded data removed]",
      "text/plain": [
       "<Figure size 576x360 with 1 Axes>"
      ]
     },
     "metadata": {
      "needs_background": "light"
     },
     "output_type": "display_data"
    }
   ],
   "source": [
    "# calculate importance\n",
    "importance = rfc.feature_importances_\n",
    "\n",
    "# set axis, create figure\n",
    "x_axis = list(range(len(importance)))\n",
    "fig, ax = plt.subplots()\n",
    "\n",
    "# plot figure\n",
    "plt.bar(x_axis, importance, color=['grey','lightblue'])\n",
    "\n",
    "# add Title\n",
    "fig.text(s=\"Feature importance\",x=.5,y=0.95, fontsize = 20,ha='center', va='center')\n",
    "\n",
    "# edit xticks\n",
    "plt.xticks(x_axis, features, rotation=45, fontsize=14, ha='right')\n",
    "#plt.yticks(rotation=0, fontsize=14);\n",
    "plt.yticks([])\n",
    "# add value inside the bars\n",
    "for p in ax.patches:\n",
    "    ax.annotate(\"%.2f\" % p.get_height(), (p.get_x() + p.get_width() / 2., p.get_height()), ha='center', va='center', xytext=(0, -10), textcoords='offset points')"
   ]
  },
  {
   "cell_type": "markdown",
   "id": "99049c4f-4b5a-4771-81e0-7acfb5d8c1eb",
   "metadata": {},
   "source": [
    "## Setup KNN classifier"
   ]
  },
  {
   "cell_type": "code",
   "execution_count": 38,
   "id": "24aa2cec-db75-4f49-b7aa-e176c9904d74",
   "metadata": {},
   "outputs": [],
   "source": [
    "from sklearn.neighbors import KNeighborsClassifier"
   ]
  },
  {
   "cell_type": "code",
   "execution_count": 39,
   "id": "16f2c9ec-5512-4e04-a6b4-60ad838399f7",
   "metadata": {},
   "outputs": [],
   "source": [
    "knn = KNeighborsClassifier()\n",
    "knn.fit(X_train,y_train.values.ravel());"
   ]
  },
  {
   "cell_type": "code",
   "execution_count": 40,
   "id": "ae66a4e5-e34d-4b9a-930b-cab33d053619",
   "metadata": {},
   "outputs": [],
   "source": [
    "y_pred = knn.predict(X_test)"
   ]
  },
  {
   "cell_type": "markdown",
   "id": "0abf9732-5e29-4c0c-9962-c1de87a9a094",
   "metadata": {},
   "source": [
    "Print the classifictaion report and the confusin matrix"
   ]
  },
  {
   "cell_type": "code",
   "execution_count": 41,
   "id": "4e2f5614-f0a2-48a6-aaaa-1797fe49cfbb",
   "metadata": {},
   "outputs": [
    {
     "name": "stdout",
     "output_type": "stream",
     "text": [
      "              precision    recall  f1-score   support\n",
      "\n",
      "      failed       0.53      0.43      0.47     18879\n",
      "  successful       0.67      0.75      0.71     29287\n",
      "\n",
      "    accuracy                           0.63     48166\n",
      "   macro avg       0.60      0.59      0.59     48166\n",
      "weighted avg       0.62      0.63      0.62     48166\n",
      "\n"
     ]
    }
   ],
   "source": [
    "print(classification_report(y_test,y_pred))"
   ]
  },
  {
   "cell_type": "code",
   "execution_count": 42,
   "id": "37b73747-e0e0-4549-8570-bf7229c99edc",
   "metadata": {},
   "outputs": [
    {
     "data": {
      "image/png": "[encoded data removed]",
      "text/plain": [
       "<Figure size 576x360 with 2 Axes>"
      ]
     },
     "metadata": {
      "needs_background": "light"
     },
     "output_type": "display_data"
    }
   ],
   "source": [
    "# create confusion matrix\n",
    "cm = confusion_matrix(y_test,y_pred)\n",
    "\n",
    "# define figure size\n",
    "fig, ax = plt.subplots()\n",
    "\n",
    "# plot heatmap\n",
    "sns.heatmap(cm, cmap='cividis',ax=ax, annot=True, fmt='d', linewidths=.5)\n",
    "\n",
    "# adjust figure\n",
    "ax.set_xticklabels(['failed','succsessfull'])\n",
    "ax.set_yticklabels(['failed','succsessfull'])\n",
    "plt.xticks(rotation=45, fontsize=12)\n",
    "plt.yticks(rotation=45, fontsize=12)\n",
    "plt.xlabel('predicted values',fontsize=20)\n",
    "plt.ylabel('true values',fontsize=20);"
   ]
  },
  {
   "cell_type": "code",
   "execution_count": null,
   "id": "d1d75f74-c168-4af3-9244-9e73fb90d230",
   "metadata": {},
   "outputs": [],
   "source": []
  }
 ],
 "metadata": {
  "kernelspec": {
   "display_name": "Python 3",
   "language": "python",
   "name": "python3"
  },
  "language_info": {
   "codemirror_mode": {
    "name": "ipython",
    "version": 3
   },
   "file_extension": ".py",
   "mimetype": "text/x-python",
   "name": "python",
   "nbconvert_exporter": "python",
   "pygments_lexer": "ipython3",
   "version": "3.8.5"
  }
 },
 "nbformat": 4,
 "nbformat_minor": 5
}
