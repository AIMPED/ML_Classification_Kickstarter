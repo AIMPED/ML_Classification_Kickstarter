{
 "cells": [
  {
   "cell_type": "code",
   "execution_count": 1,
   "id": "49fd0d59-ea1d-41c8-8890-2a7c258cfa2c",
   "metadata": {},
   "outputs": [],
   "source": [
    "import numpy as np\n",
    "import matplotlib.pyplot as plt\n",
    "import seaborn as sns\n",
    "import pandas as pd\n",
    "from datetime import datetime\n",
    "\n",
    "# set default figure size\n",
    "plt.rcParams[\"figure.figsize\"] = (8, 5)"
   ]
  },
  {
   "cell_type": "code",
   "execution_count": 2,
   "id": "4530bda7-c2c7-44d0-90b9-eec3460d78b3",
   "metadata": {},
   "outputs": [],
   "source": [
    "pd.options.display.max_columns = None"
   ]
  },
  {
   "cell_type": "code",
   "execution_count": 3,
   "id": "bfccec50-4bcf-4828-9670-619a6f84ba03",
   "metadata": {},
   "outputs": [],
   "source": [
    "# Import data\n",
    "df = pd.read_csv('data/Kickstarter_preprocessed.csv')"
   ]
  },
  {
   "cell_type": "code",
   "execution_count": 4,
   "id": "d660a1c3-62a3-48fc-a071-49338c188868",
   "metadata": {
    "collapsed": true,
    "jupyter": {
     "outputs_hidden": true
    },
    "tags": []
   },
   "outputs": [
    {
     "name": "stdout",
     "output_type": "stream",
     "text": [
      "<class 'pandas.core.frame.DataFrame'>\n",
      "RangeIndex: 209222 entries, 0 to 209221\n",
      "Data columns (total 76 columns):\n",
      " #   Column                             Non-Null Count   Dtype  \n",
      "---  ------                             --------------   -----  \n",
      " 0   Unnamed: 0                         209222 non-null  int64  \n",
      " 1   backers_count                      209222 non-null  int64  \n",
      " 2   blurb                              209214 non-null  object \n",
      " 3   converted_pledged_amount           209222 non-null  int64  \n",
      " 4   country                            209222 non-null  object \n",
      " 5   created_at                         209222 non-null  int64  \n",
      " 6   currency                           209222 non-null  object \n",
      " 7   currency_symbol                    209222 non-null  object \n",
      " 8   currency_trailing_code             209222 non-null  bool   \n",
      " 9   current_currency                   209222 non-null  object \n",
      " 10  deadline                           209222 non-null  int64  \n",
      " 11  disable_communication              209222 non-null  bool   \n",
      " 12  friends                            300 non-null     object \n",
      " 13  fx_rate                            209222 non-null  float64\n",
      " 14  goal                               209222 non-null  float64\n",
      " 15  id                                 209222 non-null  int64  \n",
      " 16  is_backing                         300 non-null     object \n",
      " 17  is_starrable                       209222 non-null  bool   \n",
      " 18  is_starred                         300 non-null     object \n",
      " 19  launched_at                        209222 non-null  int64  \n",
      " 20  name                               209222 non-null  object \n",
      " 21  permissions                        300 non-null     object \n",
      " 22  photo                              209222 non-null  object \n",
      " 23  pledged                            209222 non-null  float64\n",
      " 24  slug                               209222 non-null  object \n",
      " 25  source_url                         209222 non-null  object \n",
      " 26  spotlight                          209222 non-null  bool   \n",
      " 27  staff_pick                         209222 non-null  bool   \n",
      " 28  state                              209222 non-null  object \n",
      " 29  state_changed_at                   209222 non-null  int64  \n",
      " 30  static_usd_rate                    209222 non-null  float64\n",
      " 31  urls                               209222 non-null  object \n",
      " 32  usd_pledged                        209222 non-null  float64\n",
      " 33  usd_type                           208742 non-null  object \n",
      " 34  id_category                        209222 non-null  int64  \n",
      " 35  name_category                      209222 non-null  object \n",
      " 36  slug_category                      209222 non-null  object \n",
      " 37  position                           209222 non-null  int64  \n",
      " 38  parent_id                          200181 non-null  float64\n",
      " 39  color                              209222 non-null  int64  \n",
      " 40  urls_category                      209222 non-null  object \n",
      " 41  id_creator                         209109 non-null  float64\n",
      " 42  name_creator                       209109 non-null  object \n",
      " 43  is_registered                      0 non-null       float64\n",
      " 44  chosen_currency                    0 non-null       float64\n",
      " 45  avatar                             125499 non-null  object \n",
      " 46  urls_creator                       83610 non-null   object \n",
      " 47  slug_creator                       64014 non-null   object \n",
      " 48  id_location                        209114 non-null  float64\n",
      " 49  name_location                      209114 non-null  object \n",
      " 50  slug_location                      208622 non-null  object \n",
      " 51  short_name                         209114 non-null  object \n",
      " 52  displayable_name                   209114 non-null  object \n",
      " 53  localized_name                     209114 non-null  object \n",
      " 54  country_location                   209106 non-null  object \n",
      " 55  state_location                     209054 non-null  object \n",
      " 56  type                               209114 non-null  object \n",
      " 57  is_root                            209114 non-null  float64\n",
      " 58  urls_location                      209114 non-null  object \n",
      " 59  id_profile                         205528 non-null  float64\n",
      " 60  project_id                         205528 non-null  float64\n",
      " 61  state_profile                      205528 non-null  object \n",
      " 62  state_changed_at_profile           205528 non-null  float64\n",
      " 63  name_profile                       42408 non-null   object \n",
      " 64  blurb_profile                      42138 non-null   object \n",
      " 65  background_color                   15457 non-null   object \n",
      " 66  text_color                         16470 non-null   object \n",
      " 67  link_background_color              18345 non-null   object \n",
      " 68  link_text_color                    3272 non-null    object \n",
      " 69  link_text                          41234 non-null   object \n",
      " 70  link_url                           39752 non-null   object \n",
      " 71  show_feature_image                 205528 non-null  float64\n",
      " 72  background_image_opacity           205528 non-null  float64\n",
      " 73  should_show_feature_image_section  205528 non-null  float64\n",
      " 74  feature_image_attributes           200854 non-null  object \n",
      " 75  background_image_attributes        12863 non-null   object \n",
      "dtypes: bool(5), float64(17), int64(11), object(43)\n",
      "memory usage: 114.3+ MB\n"
     ]
    }
   ],
   "source": [
    "df.info()"
   ]
  },
  {
   "cell_type": "code",
   "execution_count": 5,
   "id": "e8057d76-f40f-45a4-b0f7-1edde5f712a1",
   "metadata": {},
   "outputs": [],
   "source": [
    "# delete first column\n",
    "df.drop(['Unnamed: 0'],axis=1,inplace=True);"
   ]
  },
  {
   "cell_type": "code",
   "execution_count": 6,
   "id": "63af55e4-fc18-4ac2-bc04-61b038c2b748",
   "metadata": {},
   "outputs": [],
   "source": [
    "# rename some columns\n",
    "df.rename(columns={'name_category':'category_sub','slug_category':'category'},inplace=True)"
   ]
  },
  {
   "cell_type": "code",
   "execution_count": 7,
   "id": "8a878911-07be-4bd0-959e-72827c047bd5",
   "metadata": {},
   "outputs": [],
   "source": [
    "# split text in column category, keep only left part of string\n",
    "df.category = df.category.apply(lambda x: x.split('/')[0])"
   ]
  },
  {
   "cell_type": "code",
   "execution_count": 8,
   "id": "6fb18cd7-0c77-4266-9d83-cde5e1c879f4",
   "metadata": {},
   "outputs": [],
   "source": [
    "# change string in column category_sub to lower case string\n",
    "df.category_sub = df.category_sub.str.lower()"
   ]
  },
  {
   "cell_type": "code",
   "execution_count": 9,
   "id": "35b32f28-5c49-4d94-a2be-ec24bdea9933",
   "metadata": {
    "tags": []
   },
   "outputs": [],
   "source": [
    "# convert description (blurp) into integer --> number of words\n",
    "df.blurb = df['blurb'].apply(lambda x: len(str(x).split()));\n",
    "df.rename(columns={'blurb':'description'},inplace=True)"
   ]
  },
  {
   "cell_type": "code",
   "execution_count": 10,
   "id": "636b1221-d828-400a-a208-1b98df7162a5",
   "metadata": {},
   "outputs": [],
   "source": [
    "# calculate usd_goal\n",
    "df['usd_goal'] = df.goal * df.static_usd_rate"
   ]
  },
  {
   "cell_type": "code",
   "execution_count": 11,
   "id": "d60b18b9-b8b9-46c8-b06f-bd227172e477",
   "metadata": {},
   "outputs": [
    {
     "data": {
      "text/html": [
       "<div>\n",
       "<style scoped>\n",
       "    .dataframe tbody tr th:only-of-type {\n",
       "        vertical-align: middle;\n",
       "    }\n",
       "\n",
       "    .dataframe tbody tr th {\n",
       "        vertical-align: top;\n",
       "    }\n",
       "\n",
       "    .dataframe thead th {\n",
       "        text-align: right;\n",
       "    }\n",
       "</style>\n",
       "<table border=\"1\" class=\"dataframe\">\n",
       "  <thead>\n",
       "    <tr style=\"text-align: right;\">\n",
       "      <th></th>\n",
       "      <th>backers_count</th>\n",
       "      <th>description</th>\n",
       "      <th>converted_pledged_amount</th>\n",
       "      <th>country</th>\n",
       "      <th>created_at</th>\n",
       "      <th>currency</th>\n",
       "      <th>currency_symbol</th>\n",
       "      <th>currency_trailing_code</th>\n",
       "      <th>current_currency</th>\n",
       "      <th>deadline</th>\n",
       "      <th>disable_communication</th>\n",
       "      <th>friends</th>\n",
       "      <th>fx_rate</th>\n",
       "      <th>goal</th>\n",
       "      <th>id</th>\n",
       "      <th>is_backing</th>\n",
       "      <th>is_starrable</th>\n",
       "      <th>is_starred</th>\n",
       "      <th>launched_at</th>\n",
       "      <th>name</th>\n",
       "      <th>permissions</th>\n",
       "      <th>photo</th>\n",
       "      <th>pledged</th>\n",
       "      <th>slug</th>\n",
       "      <th>source_url</th>\n",
       "      <th>spotlight</th>\n",
       "      <th>staff_pick</th>\n",
       "      <th>state</th>\n",
       "      <th>state_changed_at</th>\n",
       "      <th>static_usd_rate</th>\n",
       "      <th>urls</th>\n",
       "      <th>usd_pledged</th>\n",
       "      <th>usd_type</th>\n",
       "      <th>id_category</th>\n",
       "      <th>category_sub</th>\n",
       "      <th>category</th>\n",
       "      <th>position</th>\n",
       "      <th>parent_id</th>\n",
       "      <th>color</th>\n",
       "      <th>urls_category</th>\n",
       "      <th>id_creator</th>\n",
       "      <th>name_creator</th>\n",
       "      <th>is_registered</th>\n",
       "      <th>chosen_currency</th>\n",
       "      <th>avatar</th>\n",
       "      <th>urls_creator</th>\n",
       "      <th>slug_creator</th>\n",
       "      <th>id_location</th>\n",
       "      <th>name_location</th>\n",
       "      <th>slug_location</th>\n",
       "      <th>short_name</th>\n",
       "      <th>displayable_name</th>\n",
       "      <th>localized_name</th>\n",
       "      <th>country_location</th>\n",
       "      <th>state_location</th>\n",
       "      <th>type</th>\n",
       "      <th>is_root</th>\n",
       "      <th>urls_location</th>\n",
       "      <th>id_profile</th>\n",
       "      <th>project_id</th>\n",
       "      <th>state_profile</th>\n",
       "      <th>state_changed_at_profile</th>\n",
       "      <th>name_profile</th>\n",
       "      <th>blurb_profile</th>\n",
       "      <th>background_color</th>\n",
       "      <th>text_color</th>\n",
       "      <th>link_background_color</th>\n",
       "      <th>link_text_color</th>\n",
       "      <th>link_text</th>\n",
       "      <th>link_url</th>\n",
       "      <th>show_feature_image</th>\n",
       "      <th>background_image_opacity</th>\n",
       "      <th>should_show_feature_image_section</th>\n",
       "      <th>feature_image_attributes</th>\n",
       "      <th>background_image_attributes</th>\n",
       "      <th>usd_goal</th>\n",
       "    </tr>\n",
       "  </thead>\n",
       "  <tbody>\n",
       "    <tr>\n",
       "      <th>0</th>\n",
       "      <td>1</td>\n",
       "      <td>20</td>\n",
       "      <td>1</td>\n",
       "      <td>US</td>\n",
       "      <td>1430275012</td>\n",
       "      <td>USD</td>\n",
       "      <td>$</td>\n",
       "      <td>True</td>\n",
       "      <td>USD</td>\n",
       "      <td>1435539798</td>\n",
       "      <td>False</td>\n",
       "      <td>NaN</td>\n",
       "      <td>1.0</td>\n",
       "      <td>5000.0</td>\n",
       "      <td>1170229538</td>\n",
       "      <td>NaN</td>\n",
       "      <td>False</td>\n",
       "      <td>NaN</td>\n",
       "      <td>1430355798</td>\n",
       "      <td>Dragon Crescent LARP</td>\n",
       "      <td>NaN</td>\n",
       "      <td>{\"key\":\"assets/012/122/526/6f37b83b305ef9f9f8c...</td>\n",
       "      <td>1.00</td>\n",
       "      <td>dragon-crescent-larp</td>\n",
       "      <td>https://www.kickstarter.com/discover/categorie...</td>\n",
       "      <td>False</td>\n",
       "      <td>False</td>\n",
       "      <td>failed</td>\n",
       "      <td>1435539802</td>\n",
       "      <td>1.0</td>\n",
       "      <td>{\"web\":{\"project\":\"https://www.kickstarter.com...</td>\n",
       "      <td>1.00</td>\n",
       "      <td>international</td>\n",
       "      <td>271</td>\n",
       "      <td>live games</td>\n",
       "      <td>games</td>\n",
       "      <td>2</td>\n",
       "      <td>12.0</td>\n",
       "      <td>51627</td>\n",
       "      <td>{'discover': 'http://www.kickstarter.com/disco...</td>\n",
       "      <td>60405545.0</td>\n",
       "      <td>Kimberly Ann Edwards</td>\n",
       "      <td>NaN</td>\n",
       "      <td>NaN</td>\n",
       "      <td>https://ksr-ugc.imgix.net/assets/009/841/940/0...</td>\n",
       "      <td>NaN</td>\n",
       "      <td>NaN</td>\n",
       "      <td>2393259.0</td>\n",
       "      <td>Douglas</td>\n",
       "      <td>douglas-ga</td>\n",
       "      <td>Douglas, GA</td>\n",
       "      <td>Douglas, GA</td>\n",
       "      <td>Douglas</td>\n",
       "      <td>US</td>\n",
       "      <td>GA</td>\n",
       "      <td>Town</td>\n",
       "      <td>0.0</td>\n",
       "      <td>{'nearby_projects': 'https://api.kickstarter.c...</td>\n",
       "      <td>1869415.0</td>\n",
       "      <td>1869415.0</td>\n",
       "      <td>inactive</td>\n",
       "      <td>1.430275e+09</td>\n",
       "      <td>NaN</td>\n",
       "      <td>NaN</td>\n",
       "      <td>NaN</td>\n",
       "      <td>NaN</td>\n",
       "      <td>NaN</td>\n",
       "      <td>NaN</td>\n",
       "      <td>NaN</td>\n",
       "      <td>NaN</td>\n",
       "      <td>0.0</td>\n",
       "      <td>0.8</td>\n",
       "      <td>1.0</td>\n",
       "      <td>{'default': 'https://ksr-ugc.imgix.net/assets/...</td>\n",
       "      <td>NaN</td>\n",
       "      <td>5000.0</td>\n",
       "    </tr>\n",
       "    <tr>\n",
       "      <th>1</th>\n",
       "      <td>18</td>\n",
       "      <td>15</td>\n",
       "      <td>1571</td>\n",
       "      <td>US</td>\n",
       "      <td>1406957966</td>\n",
       "      <td>USD</td>\n",
       "      <td>$</td>\n",
       "      <td>True</td>\n",
       "      <td>USD</td>\n",
       "      <td>1410746403</td>\n",
       "      <td>False</td>\n",
       "      <td>NaN</td>\n",
       "      <td>1.0</td>\n",
       "      <td>6000.0</td>\n",
       "      <td>1600951892</td>\n",
       "      <td>NaN</td>\n",
       "      <td>False</td>\n",
       "      <td>NaN</td>\n",
       "      <td>1408154403</td>\n",
       "      <td>The Crossing Shore</td>\n",
       "      <td>NaN</td>\n",
       "      <td>{\"key\":\"assets/011/817/792/90f6e5620a56af8890a...</td>\n",
       "      <td>1571.55</td>\n",
       "      <td>the-crossing-shore</td>\n",
       "      <td>https://www.kickstarter.com/discover/categorie...</td>\n",
       "      <td>False</td>\n",
       "      <td>False</td>\n",
       "      <td>failed</td>\n",
       "      <td>1410746410</td>\n",
       "      <td>1.0</td>\n",
       "      <td>{\"web\":{\"project\":\"https://www.kickstarter.com...</td>\n",
       "      <td>1571.55</td>\n",
       "      <td>international</td>\n",
       "      <td>293</td>\n",
       "      <td>drama</td>\n",
       "      <td>film &amp; video</td>\n",
       "      <td>5</td>\n",
       "      <td>11.0</td>\n",
       "      <td>16734574</td>\n",
       "      <td>{'discover': 'http://www.kickstarter.com/disco...</td>\n",
       "      <td>60405545.0</td>\n",
       "      <td>Kimberly Ann Edwards</td>\n",
       "      <td>NaN</td>\n",
       "      <td>NaN</td>\n",
       "      <td>https://ksr-ugc.imgix.net/assets/009/841/940/0...</td>\n",
       "      <td>NaN</td>\n",
       "      <td>NaN</td>\n",
       "      <td>2393259.0</td>\n",
       "      <td>Douglas</td>\n",
       "      <td>douglas-ga</td>\n",
       "      <td>Douglas, GA</td>\n",
       "      <td>Douglas, GA</td>\n",
       "      <td>Douglas</td>\n",
       "      <td>US</td>\n",
       "      <td>GA</td>\n",
       "      <td>Town</td>\n",
       "      <td>0.0</td>\n",
       "      <td>{'discover': 'https://www.kickstarter.com/disc...</td>\n",
       "      <td>1251552.0</td>\n",
       "      <td>1251552.0</td>\n",
       "      <td>inactive</td>\n",
       "      <td>1.425916e+09</td>\n",
       "      <td>NaN</td>\n",
       "      <td>NaN</td>\n",
       "      <td>NaN</td>\n",
       "      <td>NaN</td>\n",
       "      <td>NaN</td>\n",
       "      <td>NaN</td>\n",
       "      <td>NaN</td>\n",
       "      <td>NaN</td>\n",
       "      <td>0.0</td>\n",
       "      <td>0.8</td>\n",
       "      <td>1.0</td>\n",
       "      <td>{'default': 'https://ksr-ugc.imgix.net/assets/...</td>\n",
       "      <td>NaN</td>\n",
       "      <td>6000.0</td>\n",
       "    </tr>\n",
       "    <tr>\n",
       "      <th>2</th>\n",
       "      <td>2</td>\n",
       "      <td>19</td>\n",
       "      <td>2</td>\n",
       "      <td>US</td>\n",
       "      <td>1405979448</td>\n",
       "      <td>USD</td>\n",
       "      <td>$</td>\n",
       "      <td>True</td>\n",
       "      <td>USD</td>\n",
       "      <td>1408811134</td>\n",
       "      <td>False</td>\n",
       "      <td>NaN</td>\n",
       "      <td>1.0</td>\n",
       "      <td>10000.0</td>\n",
       "      <td>682572349</td>\n",
       "      <td>NaN</td>\n",
       "      <td>False</td>\n",
       "      <td>NaN</td>\n",
       "      <td>1406219134</td>\n",
       "      <td>Like in my dreams...</td>\n",
       "      <td>NaN</td>\n",
       "      <td>{\"key\":\"assets/011/798/338/ebe206a1cea5ae9077d...</td>\n",
       "      <td>2.00</td>\n",
       "      <td>like-in-my-dreams</td>\n",
       "      <td>https://www.kickstarter.com/discover/categorie...</td>\n",
       "      <td>False</td>\n",
       "      <td>False</td>\n",
       "      <td>failed</td>\n",
       "      <td>1408811134</td>\n",
       "      <td>1.0</td>\n",
       "      <td>{\"web\":{\"project\":\"https://www.kickstarter.com...</td>\n",
       "      <td>2.00</td>\n",
       "      <td>domestic</td>\n",
       "      <td>294</td>\n",
       "      <td>experimental</td>\n",
       "      <td>film &amp; video</td>\n",
       "      <td>6</td>\n",
       "      <td>11.0</td>\n",
       "      <td>16734574</td>\n",
       "      <td>{'discover': 'http://www.kickstarter.com/disco...</td>\n",
       "      <td>60405545.0</td>\n",
       "      <td>Kimberly Ann Edwards</td>\n",
       "      <td>NaN</td>\n",
       "      <td>NaN</td>\n",
       "      <td>https://ksr-ugc.imgix.net/assets/009/841/940/0...</td>\n",
       "      <td>NaN</td>\n",
       "      <td>NaN</td>\n",
       "      <td>2487956.0</td>\n",
       "      <td>San Francisco</td>\n",
       "      <td>san-francisco-ca</td>\n",
       "      <td>San Francisco, CA</td>\n",
       "      <td>San Francisco, CA</td>\n",
       "      <td>San Francisco</td>\n",
       "      <td>US</td>\n",
       "      <td>CA</td>\n",
       "      <td>Town</td>\n",
       "      <td>0.0</td>\n",
       "      <td>{'nearby_projects': 'https://api.kickstarter.c...</td>\n",
       "      <td>1211428.0</td>\n",
       "      <td>1211428.0</td>\n",
       "      <td>inactive</td>\n",
       "      <td>1.425916e+09</td>\n",
       "      <td>NaN</td>\n",
       "      <td>NaN</td>\n",
       "      <td>NaN</td>\n",
       "      <td>NaN</td>\n",
       "      <td>NaN</td>\n",
       "      <td>NaN</td>\n",
       "      <td>NaN</td>\n",
       "      <td>NaN</td>\n",
       "      <td>0.0</td>\n",
       "      <td>0.8</td>\n",
       "      <td>1.0</td>\n",
       "      <td>{'default': 'https://ksr-ugc.imgix.net/assets/...</td>\n",
       "      <td>NaN</td>\n",
       "      <td>10000.0</td>\n",
       "    </tr>\n",
       "    <tr>\n",
       "      <th>3</th>\n",
       "      <td>0</td>\n",
       "      <td>25</td>\n",
       "      <td>0</td>\n",
       "      <td>US</td>\n",
       "      <td>1464120865</td>\n",
       "      <td>USD</td>\n",
       "      <td>$</td>\n",
       "      <td>True</td>\n",
       "      <td>USD</td>\n",
       "      <td>1466713581</td>\n",
       "      <td>False</td>\n",
       "      <td>NaN</td>\n",
       "      <td>1.0</td>\n",
       "      <td>8000.0</td>\n",
       "      <td>323976714</td>\n",
       "      <td>NaN</td>\n",
       "      <td>False</td>\n",
       "      <td>NaN</td>\n",
       "      <td>1464121581</td>\n",
       "      <td>Country For Old Men</td>\n",
       "      <td>NaN</td>\n",
       "      <td>{\"key\":\"assets/012/504/827/6276617a2091afefb21...</td>\n",
       "      <td>0.00</td>\n",
       "      <td>country-for-old-men</td>\n",
       "      <td>https://www.kickstarter.com/discover/categorie...</td>\n",
       "      <td>False</td>\n",
       "      <td>False</td>\n",
       "      <td>failed</td>\n",
       "      <td>1466713581</td>\n",
       "      <td>1.0</td>\n",
       "      <td>{\"web\":{\"project\":\"https://www.kickstarter.com...</td>\n",
       "      <td>0.00</td>\n",
       "      <td>domestic</td>\n",
       "      <td>13</td>\n",
       "      <td>journalism</td>\n",
       "      <td>journalism</td>\n",
       "      <td>10</td>\n",
       "      <td>NaN</td>\n",
       "      <td>1228010</td>\n",
       "      <td>{'discover': 'http://www.kickstarter.com/disco...</td>\n",
       "      <td>60405545.0</td>\n",
       "      <td>Kimberly Ann Edwards</td>\n",
       "      <td>NaN</td>\n",
       "      <td>NaN</td>\n",
       "      <td>NaN</td>\n",
       "      <td>{'user': 'https://www.kickstarter.com/profile/...</td>\n",
       "      <td>NaN</td>\n",
       "      <td>2487956.0</td>\n",
       "      <td>San Francisco</td>\n",
       "      <td>san-francisco-ca</td>\n",
       "      <td>San Francisco, CA</td>\n",
       "      <td>San Francisco, CA</td>\n",
       "      <td>San Francisco</td>\n",
       "      <td>US</td>\n",
       "      <td>CA</td>\n",
       "      <td>Town</td>\n",
       "      <td>0.0</td>\n",
       "      <td>{'discover': 'https://www.kickstarter.com/disc...</td>\n",
       "      <td>2530343.0</td>\n",
       "      <td>2530343.0</td>\n",
       "      <td>inactive</td>\n",
       "      <td>1.464121e+09</td>\n",
       "      <td>NaN</td>\n",
       "      <td>NaN</td>\n",
       "      <td>NaN</td>\n",
       "      <td>NaN</td>\n",
       "      <td>NaN</td>\n",
       "      <td>NaN</td>\n",
       "      <td>NaN</td>\n",
       "      <td>NaN</td>\n",
       "      <td>0.0</td>\n",
       "      <td>0.8</td>\n",
       "      <td>1.0</td>\n",
       "      <td>{'default': 'https://ksr-ugc.imgix.net/assets/...</td>\n",
       "      <td>NaN</td>\n",
       "      <td>8000.0</td>\n",
       "    </tr>\n",
       "    <tr>\n",
       "      <th>4</th>\n",
       "      <td>1</td>\n",
       "      <td>11</td>\n",
       "      <td>5</td>\n",
       "      <td>US</td>\n",
       "      <td>1347473433</td>\n",
       "      <td>USD</td>\n",
       "      <td>$</td>\n",
       "      <td>True</td>\n",
       "      <td>USD</td>\n",
       "      <td>1350503354</td>\n",
       "      <td>False</td>\n",
       "      <td>NaN</td>\n",
       "      <td>1.0</td>\n",
       "      <td>2000.0</td>\n",
       "      <td>35236258</td>\n",
       "      <td>NaN</td>\n",
       "      <td>False</td>\n",
       "      <td>NaN</td>\n",
       "      <td>1347911354</td>\n",
       "      <td>The Virus That Jumped</td>\n",
       "      <td>NaN</td>\n",
       "      <td>{\"key\":\"assets/011/425/413/c1fd191fa56e6cd25ef...</td>\n",
       "      <td>5.00</td>\n",
       "      <td>the-virus-that-jumped</td>\n",
       "      <td>https://www.kickstarter.com/discover/categorie...</td>\n",
       "      <td>False</td>\n",
       "      <td>False</td>\n",
       "      <td>failed</td>\n",
       "      <td>1350503354</td>\n",
       "      <td>1.0</td>\n",
       "      <td>{\"web\":{\"project\":\"https://www.kickstarter.com...</td>\n",
       "      <td>5.00</td>\n",
       "      <td>international</td>\n",
       "      <td>272</td>\n",
       "      <td>mobile games</td>\n",
       "      <td>games</td>\n",
       "      <td>3</td>\n",
       "      <td>12.0</td>\n",
       "      <td>51627</td>\n",
       "      <td>{'discover': 'http://www.kickstarter.com/disco...</td>\n",
       "      <td>60405545.0</td>\n",
       "      <td>Kimberly Ann Edwards</td>\n",
       "      <td>NaN</td>\n",
       "      <td>NaN</td>\n",
       "      <td>NaN</td>\n",
       "      <td>{'user': 'https://api.kickstarter.com/v1/users...</td>\n",
       "      <td>NaN</td>\n",
       "      <td>2428347.0</td>\n",
       "      <td>Jacksonville</td>\n",
       "      <td>jacksonville-nc</td>\n",
       "      <td>Jacksonville, NC</td>\n",
       "      <td>Jacksonville, NC</td>\n",
       "      <td>Jacksonville</td>\n",
       "      <td>US</td>\n",
       "      <td>NC</td>\n",
       "      <td>Town</td>\n",
       "      <td>0.0</td>\n",
       "      <td>{'nearby_projects': 'https://api.kickstarter.c...</td>\n",
       "      <td>338618.0</td>\n",
       "      <td>338618.0</td>\n",
       "      <td>inactive</td>\n",
       "      <td>1.425916e+09</td>\n",
       "      <td>NaN</td>\n",
       "      <td>NaN</td>\n",
       "      <td>NaN</td>\n",
       "      <td>NaN</td>\n",
       "      <td>NaN</td>\n",
       "      <td>NaN</td>\n",
       "      <td>NaN</td>\n",
       "      <td>NaN</td>\n",
       "      <td>0.0</td>\n",
       "      <td>0.8</td>\n",
       "      <td>1.0</td>\n",
       "      <td>{'default': 'https://ksr-ugc.imgix.net/assets/...</td>\n",
       "      <td>NaN</td>\n",
       "      <td>2000.0</td>\n",
       "    </tr>\n",
       "  </tbody>\n",
       "</table>\n",
       "</div>"
      ],
      "text/plain": [
       "   backers_count  description  converted_pledged_amount country  created_at  \\\n",
       "0              1           20                         1      US  1430275012   \n",
       "1             18           15                      1571      US  1406957966   \n",
       "2              2           19                         2      US  1405979448   \n",
       "3              0           25                         0      US  1464120865   \n",
       "4              1           11                         5      US  1347473433   \n",
       "\n",
       "  currency currency_symbol  currency_trailing_code current_currency  \\\n",
       "0      USD               $                    True              USD   \n",
       "1      USD               $                    True              USD   \n",
       "2      USD               $                    True              USD   \n",
       "3      USD               $                    True              USD   \n",
       "4      USD               $                    True              USD   \n",
       "\n",
       "     deadline  disable_communication friends  fx_rate     goal          id  \\\n",
       "0  1435539798                  False     NaN      1.0   5000.0  1170229538   \n",
       "1  1410746403                  False     NaN      1.0   6000.0  1600951892   \n",
       "2  1408811134                  False     NaN      1.0  10000.0   682572349   \n",
       "3  1466713581                  False     NaN      1.0   8000.0   323976714   \n",
       "4  1350503354                  False     NaN      1.0   2000.0    35236258   \n",
       "\n",
       "  is_backing  is_starrable is_starred  launched_at                   name  \\\n",
       "0        NaN         False        NaN   1430355798   Dragon Crescent LARP   \n",
       "1        NaN         False        NaN   1408154403     The Crossing Shore   \n",
       "2        NaN         False        NaN   1406219134   Like in my dreams...   \n",
       "3        NaN         False        NaN   1464121581    Country For Old Men   \n",
       "4        NaN         False        NaN   1347911354  The Virus That Jumped   \n",
       "\n",
       "  permissions                                              photo  pledged  \\\n",
       "0         NaN  {\"key\":\"assets/012/122/526/6f37b83b305ef9f9f8c...     1.00   \n",
       "1         NaN  {\"key\":\"assets/011/817/792/90f6e5620a56af8890a...  1571.55   \n",
       "2         NaN  {\"key\":\"assets/011/798/338/ebe206a1cea5ae9077d...     2.00   \n",
       "3         NaN  {\"key\":\"assets/012/504/827/6276617a2091afefb21...     0.00   \n",
       "4         NaN  {\"key\":\"assets/011/425/413/c1fd191fa56e6cd25ef...     5.00   \n",
       "\n",
       "                    slug                                         source_url  \\\n",
       "0   dragon-crescent-larp  https://www.kickstarter.com/discover/categorie...   \n",
       "1     the-crossing-shore  https://www.kickstarter.com/discover/categorie...   \n",
       "2      like-in-my-dreams  https://www.kickstarter.com/discover/categorie...   \n",
       "3    country-for-old-men  https://www.kickstarter.com/discover/categorie...   \n",
       "4  the-virus-that-jumped  https://www.kickstarter.com/discover/categorie...   \n",
       "\n",
       "   spotlight  staff_pick   state  state_changed_at  static_usd_rate  \\\n",
       "0      False       False  failed        1435539802              1.0   \n",
       "1      False       False  failed        1410746410              1.0   \n",
       "2      False       False  failed        1408811134              1.0   \n",
       "3      False       False  failed        1466713581              1.0   \n",
       "4      False       False  failed        1350503354              1.0   \n",
       "\n",
       "                                                urls  usd_pledged  \\\n",
       "0  {\"web\":{\"project\":\"https://www.kickstarter.com...         1.00   \n",
       "1  {\"web\":{\"project\":\"https://www.kickstarter.com...      1571.55   \n",
       "2  {\"web\":{\"project\":\"https://www.kickstarter.com...         2.00   \n",
       "3  {\"web\":{\"project\":\"https://www.kickstarter.com...         0.00   \n",
       "4  {\"web\":{\"project\":\"https://www.kickstarter.com...         5.00   \n",
       "\n",
       "        usd_type  id_category  category_sub      category  position  \\\n",
       "0  international          271    live games         games         2   \n",
       "1  international          293         drama  film & video         5   \n",
       "2       domestic          294  experimental  film & video         6   \n",
       "3       domestic           13    journalism    journalism        10   \n",
       "4  international          272  mobile games         games         3   \n",
       "\n",
       "   parent_id     color                                      urls_category  \\\n",
       "0       12.0     51627  {'discover': 'http://www.kickstarter.com/disco...   \n",
       "1       11.0  16734574  {'discover': 'http://www.kickstarter.com/disco...   \n",
       "2       11.0  16734574  {'discover': 'http://www.kickstarter.com/disco...   \n",
       "3        NaN   1228010  {'discover': 'http://www.kickstarter.com/disco...   \n",
       "4       12.0     51627  {'discover': 'http://www.kickstarter.com/disco...   \n",
       "\n",
       "   id_creator          name_creator  is_registered  chosen_currency  \\\n",
       "0  60405545.0  Kimberly Ann Edwards            NaN              NaN   \n",
       "1  60405545.0  Kimberly Ann Edwards            NaN              NaN   \n",
       "2  60405545.0  Kimberly Ann Edwards            NaN              NaN   \n",
       "3  60405545.0  Kimberly Ann Edwards            NaN              NaN   \n",
       "4  60405545.0  Kimberly Ann Edwards            NaN              NaN   \n",
       "\n",
       "                                              avatar  \\\n",
       "0  https://ksr-ugc.imgix.net/assets/009/841/940/0...   \n",
       "1  https://ksr-ugc.imgix.net/assets/009/841/940/0...   \n",
       "2  https://ksr-ugc.imgix.net/assets/009/841/940/0...   \n",
       "3                                                NaN   \n",
       "4                                                NaN   \n",
       "\n",
       "                                        urls_creator slug_creator  \\\n",
       "0                                                NaN          NaN   \n",
       "1                                                NaN          NaN   \n",
       "2                                                NaN          NaN   \n",
       "3  {'user': 'https://www.kickstarter.com/profile/...          NaN   \n",
       "4  {'user': 'https://api.kickstarter.com/v1/users...          NaN   \n",
       "\n",
       "   id_location  name_location     slug_location         short_name  \\\n",
       "0    2393259.0        Douglas        douglas-ga        Douglas, GA   \n",
       "1    2393259.0        Douglas        douglas-ga        Douglas, GA   \n",
       "2    2487956.0  San Francisco  san-francisco-ca  San Francisco, CA   \n",
       "3    2487956.0  San Francisco  san-francisco-ca  San Francisco, CA   \n",
       "4    2428347.0   Jacksonville   jacksonville-nc   Jacksonville, NC   \n",
       "\n",
       "    displayable_name localized_name country_location state_location  type  \\\n",
       "0        Douglas, GA        Douglas               US             GA  Town   \n",
       "1        Douglas, GA        Douglas               US             GA  Town   \n",
       "2  San Francisco, CA  San Francisco               US             CA  Town   \n",
       "3  San Francisco, CA  San Francisco               US             CA  Town   \n",
       "4   Jacksonville, NC   Jacksonville               US             NC  Town   \n",
       "\n",
       "   is_root                                      urls_location  id_profile  \\\n",
       "0      0.0  {'nearby_projects': 'https://api.kickstarter.c...   1869415.0   \n",
       "1      0.0  {'discover': 'https://www.kickstarter.com/disc...   1251552.0   \n",
       "2      0.0  {'nearby_projects': 'https://api.kickstarter.c...   1211428.0   \n",
       "3      0.0  {'discover': 'https://www.kickstarter.com/disc...   2530343.0   \n",
       "4      0.0  {'nearby_projects': 'https://api.kickstarter.c...    338618.0   \n",
       "\n",
       "   project_id state_profile  state_changed_at_profile name_profile  \\\n",
       "0   1869415.0      inactive              1.430275e+09          NaN   \n",
       "1   1251552.0      inactive              1.425916e+09          NaN   \n",
       "2   1211428.0      inactive              1.425916e+09          NaN   \n",
       "3   2530343.0      inactive              1.464121e+09          NaN   \n",
       "4    338618.0      inactive              1.425916e+09          NaN   \n",
       "\n",
       "  blurb_profile background_color text_color link_background_color  \\\n",
       "0           NaN              NaN        NaN                   NaN   \n",
       "1           NaN              NaN        NaN                   NaN   \n",
       "2           NaN              NaN        NaN                   NaN   \n",
       "3           NaN              NaN        NaN                   NaN   \n",
       "4           NaN              NaN        NaN                   NaN   \n",
       "\n",
       "  link_text_color link_text link_url  show_feature_image  \\\n",
       "0             NaN       NaN      NaN                 0.0   \n",
       "1             NaN       NaN      NaN                 0.0   \n",
       "2             NaN       NaN      NaN                 0.0   \n",
       "3             NaN       NaN      NaN                 0.0   \n",
       "4             NaN       NaN      NaN                 0.0   \n",
       "\n",
       "   background_image_opacity  should_show_feature_image_section  \\\n",
       "0                       0.8                                1.0   \n",
       "1                       0.8                                1.0   \n",
       "2                       0.8                                1.0   \n",
       "3                       0.8                                1.0   \n",
       "4                       0.8                                1.0   \n",
       "\n",
       "                            feature_image_attributes  \\\n",
       "0  {'default': 'https://ksr-ugc.imgix.net/assets/...   \n",
       "1  {'default': 'https://ksr-ugc.imgix.net/assets/...   \n",
       "2  {'default': 'https://ksr-ugc.imgix.net/assets/...   \n",
       "3  {'default': 'https://ksr-ugc.imgix.net/assets/...   \n",
       "4  {'default': 'https://ksr-ugc.imgix.net/assets/...   \n",
       "\n",
       "  background_image_attributes  usd_goal  \n",
       "0                         NaN    5000.0  \n",
       "1                         NaN    6000.0  \n",
       "2                         NaN   10000.0  \n",
       "3                         NaN    8000.0  \n",
       "4                         NaN    2000.0  "
      ]
     },
     "execution_count": 11,
     "metadata": {},
     "output_type": "execute_result"
    }
   ],
   "source": [
    "df.head()"
   ]
  },
  {
   "cell_type": "markdown",
   "id": "0541ef2e-ff61-40da-afa7-61a057009797",
   "metadata": {},
   "source": [
    "## Change unixtime into human readible time"
   ]
  },
  {
   "cell_type": "code",
   "execution_count": 12,
   "id": "84afd513-7c46-4b26-a283-7a93457859e4",
   "metadata": {},
   "outputs": [],
   "source": [
    "# create function for format change\n",
    "# we could also use lambda x: datetime.utcfromtimestamp(x)\n",
    "\n",
    "def chg_date(x):\n",
    "    return datetime.utcfromtimestamp(x)"
   ]
  },
  {
   "cell_type": "code",
   "execution_count": 13,
   "id": "7590cc59-5abb-4737-bcad-bf928f9f3af5",
   "metadata": {},
   "outputs": [],
   "source": [
    "# apply on dataframe\n",
    "\n",
    "time_col = ['created_at','deadline','launched_at']\n",
    "df[time_col] = df[time_col].applymap(chg_date)"
   ]
  },
  {
   "cell_type": "code",
   "execution_count": 14,
   "id": "87f5b4c7-2fdf-491e-bc0d-ac924ca83524",
   "metadata": {
    "tags": []
   },
   "outputs": [],
   "source": [
    "# create new feature called duration\n",
    "df['duration'] = df.deadline - df.launched_at"
   ]
  },
  {
   "cell_type": "code",
   "execution_count": 15,
   "id": "4e2b1f67-4b07-4a5d-96c3-9fa5a4bdf0bc",
   "metadata": {},
   "outputs": [],
   "source": [
    "# create new feature --> month\n",
    "df['launched_month'] = df.launched_at.dt.month"
   ]
  },
  {
   "cell_type": "markdown",
   "id": "03062691-08eb-40ef-9f84-9971a585e6bb",
   "metadata": {},
   "source": [
    "## Show target, count classes"
   ]
  },
  {
   "cell_type": "markdown",
   "id": "d1e82c85-c0de-4fa3-a758-d529fed25b1a",
   "metadata": {},
   "source": [
    "Let's take a look on our target."
   ]
  },
  {
   "cell_type": "code",
   "execution_count": 16,
   "id": "d33c1609-e048-4644-9b7c-3382f26d4148",
   "metadata": {},
   "outputs": [
    {
     "data": {
      "text/plain": [
       "successful    117465\n",
       "failed         75199\n",
       "canceled        8624\n",
       "live            7311\n",
       "suspended        623\n",
       "Name: state, dtype: int64"
      ]
     },
     "execution_count": 16,
     "metadata": {},
     "output_type": "execute_result"
    }
   ],
   "source": [
    "df.state.value_counts()"
   ]
  },
  {
   "cell_type": "markdown",
   "id": "b6778b40-cd3f-414a-9192-ed6e9f6318a3",
   "metadata": {},
   "source": [
    "We have found four different categories:\n",
    "- successful\n",
    "- failed\n",
    "- live\n",
    "- suspended\n",
    "\n",
    "We are restricting the analysis on projects which have been finished, therefore we delete all rows of the categories **canceled**, **live** and **suspended**."
   ]
  },
  {
   "cell_type": "code",
   "execution_count": 17,
   "id": "155ff3e3-dddb-4b36-92a7-ef10f1acf833",
   "metadata": {
    "tags": []
   },
   "outputs": [],
   "source": [
    "df = df[df.state.isin(['successful','failed'])]"
   ]
  },
  {
   "cell_type": "code",
   "execution_count": 18,
   "id": "462e71f9-c96e-49c9-ba5d-d812cb0280d8",
   "metadata": {},
   "outputs": [
    {
     "data": {
      "text/plain": [
       "successful    117465\n",
       "failed         75199\n",
       "Name: state, dtype: int64"
      ]
     },
     "execution_count": 18,
     "metadata": {},
     "output_type": "execute_result"
    }
   ],
   "source": [
    "df.state.value_counts()"
   ]
  },
  {
   "cell_type": "markdown",
   "id": "5353acfb-6104-443b-b922-a7c97724f22b",
   "metadata": {},
   "source": [
    "## Target & Features"
   ]
  },
  {
   "cell_type": "code",
   "execution_count": 19,
   "id": "f53ae770-5cf2-40c5-b3c5-b679d8fa7ca2",
   "metadata": {
    "tags": []
   },
   "outputs": [],
   "source": [
    "# define target\n",
    "target = ['state']"
   ]
  },
  {
   "cell_type": "code",
   "execution_count": 20,
   "id": "19c552f6-61e0-4290-b582-d36c9167f64d",
   "metadata": {
    "tags": []
   },
   "outputs": [],
   "source": [
    "# define features\n",
    "features = ['description','category','category_sub',\\\n",
    "            'duration','currency','usd_goal','country',\\\n",
    "            'type','staff_pick','launched_month']"
   ]
  },
  {
   "cell_type": "code",
   "execution_count": 21,
   "id": "197834db-43a3-4d08-a471-a4740b81269e",
   "metadata": {},
   "outputs": [
    {
     "data": {
      "text/html": [
       "<div>\n",
       "<style scoped>\n",
       "    .dataframe tbody tr th:only-of-type {\n",
       "        vertical-align: middle;\n",
       "    }\n",
       "\n",
       "    .dataframe tbody tr th {\n",
       "        vertical-align: top;\n",
       "    }\n",
       "\n",
       "    .dataframe thead th {\n",
       "        text-align: right;\n",
       "    }\n",
       "</style>\n",
       "<table border=\"1\" class=\"dataframe\">\n",
       "  <thead>\n",
       "    <tr style=\"text-align: right;\">\n",
       "      <th></th>\n",
       "      <th>description</th>\n",
       "      <th>category</th>\n",
       "      <th>category_sub</th>\n",
       "      <th>duration</th>\n",
       "      <th>currency</th>\n",
       "      <th>usd_goal</th>\n",
       "      <th>country</th>\n",
       "      <th>type</th>\n",
       "      <th>staff_pick</th>\n",
       "      <th>launched_month</th>\n",
       "    </tr>\n",
       "  </thead>\n",
       "  <tbody>\n",
       "    <tr>\n",
       "      <th>0</th>\n",
       "      <td>20</td>\n",
       "      <td>games</td>\n",
       "      <td>live games</td>\n",
       "      <td>60 days</td>\n",
       "      <td>USD</td>\n",
       "      <td>5000.0</td>\n",
       "      <td>US</td>\n",
       "      <td>Town</td>\n",
       "      <td>False</td>\n",
       "      <td>4</td>\n",
       "    </tr>\n",
       "    <tr>\n",
       "      <th>1</th>\n",
       "      <td>15</td>\n",
       "      <td>film &amp; video</td>\n",
       "      <td>drama</td>\n",
       "      <td>30 days</td>\n",
       "      <td>USD</td>\n",
       "      <td>6000.0</td>\n",
       "      <td>US</td>\n",
       "      <td>Town</td>\n",
       "      <td>False</td>\n",
       "      <td>8</td>\n",
       "    </tr>\n",
       "    <tr>\n",
       "      <th>2</th>\n",
       "      <td>19</td>\n",
       "      <td>film &amp; video</td>\n",
       "      <td>experimental</td>\n",
       "      <td>30 days</td>\n",
       "      <td>USD</td>\n",
       "      <td>10000.0</td>\n",
       "      <td>US</td>\n",
       "      <td>Town</td>\n",
       "      <td>False</td>\n",
       "      <td>7</td>\n",
       "    </tr>\n",
       "    <tr>\n",
       "      <th>3</th>\n",
       "      <td>25</td>\n",
       "      <td>journalism</td>\n",
       "      <td>journalism</td>\n",
       "      <td>30 days</td>\n",
       "      <td>USD</td>\n",
       "      <td>8000.0</td>\n",
       "      <td>US</td>\n",
       "      <td>Town</td>\n",
       "      <td>False</td>\n",
       "      <td>5</td>\n",
       "    </tr>\n",
       "    <tr>\n",
       "      <th>4</th>\n",
       "      <td>11</td>\n",
       "      <td>games</td>\n",
       "      <td>mobile games</td>\n",
       "      <td>30 days</td>\n",
       "      <td>USD</td>\n",
       "      <td>2000.0</td>\n",
       "      <td>US</td>\n",
       "      <td>Town</td>\n",
       "      <td>False</td>\n",
       "      <td>9</td>\n",
       "    </tr>\n",
       "  </tbody>\n",
       "</table>\n",
       "</div>"
      ],
      "text/plain": [
       "   description      category  category_sub duration currency  usd_goal  \\\n",
       "0           20         games    live games  60 days      USD    5000.0   \n",
       "1           15  film & video         drama  30 days      USD    6000.0   \n",
       "2           19  film & video  experimental  30 days      USD   10000.0   \n",
       "3           25    journalism    journalism  30 days      USD    8000.0   \n",
       "4           11         games  mobile games  30 days      USD    2000.0   \n",
       "\n",
       "  country  type  staff_pick  launched_month  \n",
       "0      US  Town       False               4  \n",
       "1      US  Town       False               8  \n",
       "2      US  Town       False               7  \n",
       "3      US  Town       False               5  \n",
       "4      US  Town       False               9  "
      ]
     },
     "execution_count": 21,
     "metadata": {},
     "output_type": "execute_result"
    }
   ],
   "source": [
    "df[features].head()"
   ]
  },
  {
   "cell_type": "code",
   "execution_count": 22,
   "id": "5bafc191-c15b-4538-9040-d410074d681c",
   "metadata": {
    "tags": []
   },
   "outputs": [
    {
     "name": "stdout",
     "output_type": "stream",
     "text": [
      "<class 'pandas.core.frame.DataFrame'>\n",
      "Int64Index: 192664 entries, 0 to 209221\n",
      "Data columns (total 10 columns):\n",
      " #   Column          Non-Null Count   Dtype          \n",
      "---  ------          --------------   -----          \n",
      " 0   description     192664 non-null  int64          \n",
      " 1   category        192664 non-null  object         \n",
      " 2   category_sub    192664 non-null  object         \n",
      " 3   duration        192664 non-null  timedelta64[ns]\n",
      " 4   currency        192664 non-null  object         \n",
      " 5   usd_goal        192664 non-null  float64        \n",
      " 6   country         192664 non-null  object         \n",
      " 7   type            192565 non-null  object         \n",
      " 8   staff_pick      192664 non-null  bool           \n",
      " 9   launched_month  192664 non-null  int64          \n",
      "dtypes: bool(1), float64(1), int64(2), object(5), timedelta64[ns](1)\n",
      "memory usage: 14.9+ MB\n"
     ]
    }
   ],
   "source": [
    "df[features].info()"
   ]
  },
  {
   "cell_type": "code",
   "execution_count": 23,
   "id": "fb7f7d44-2648-4718-83a7-0533fd5f7881",
   "metadata": {},
   "outputs": [],
   "source": [
    "# convert all features into categories\n",
    "df = df.astype({name:'category' for name in features})"
   ]
  },
  {
   "cell_type": "code",
   "execution_count": 24,
   "id": "cf6570bc-9ad0-4e19-ae38-cd92b0792c71",
   "metadata": {},
   "outputs": [],
   "source": [
    "# convert blurb into int, usd_goal into float\n",
    "df.usd_goal = df.usd_goal.astype(float)\n",
    "df.description = df.description.astype(int)"
   ]
  },
  {
   "cell_type": "code",
   "execution_count": 25,
   "id": "738fcb09-2bd3-4d48-837c-2590db71adfa",
   "metadata": {
    "tags": []
   },
   "outputs": [
    {
     "name": "stdout",
     "output_type": "stream",
     "text": [
      "<class 'pandas.core.frame.DataFrame'>\n",
      "Int64Index: 192664 entries, 0 to 209221\n",
      "Data columns (total 10 columns):\n",
      " #   Column          Non-Null Count   Dtype   \n",
      "---  ------          --------------   -----   \n",
      " 0   description     192664 non-null  int64   \n",
      " 1   category        192664 non-null  category\n",
      " 2   category_sub    192664 non-null  category\n",
      " 3   duration        192664 non-null  category\n",
      " 4   currency        192664 non-null  category\n",
      " 5   usd_goal        192664 non-null  float64 \n",
      " 6   country         192664 non-null  category\n",
      " 7   type            192565 non-null  category\n",
      " 8   staff_pick      192664 non-null  category\n",
      " 9   launched_month  192664 non-null  category\n",
      "dtypes: category(8), float64(1), int64(1)\n",
      "memory usage: 8.0 MB\n"
     ]
    }
   ],
   "source": [
    "df[features].info()"
   ]
  },
  {
   "cell_type": "code",
   "execution_count": 26,
   "id": "33cefbb7-df91-4219-bee4-a332af7d5bc2",
   "metadata": {
    "tags": []
   },
   "outputs": [],
   "source": [
    "#df[features].localized_name.value_counts()"
   ]
  },
  {
   "cell_type": "code",
   "execution_count": 27,
   "id": "4b3a6cbd-beed-48cc-92ee-7aa95715f04f",
   "metadata": {},
   "outputs": [],
   "source": [
    "# convert categorical features into integer classes\n",
    "cat = ['category','category_sub','duration','currency','country','type','staff_pick','launched_month']\n",
    "df[cat] = df[cat].apply(lambda x: x.cat.codes);"
   ]
  },
  {
   "cell_type": "code",
   "execution_count": 28,
   "id": "fda6e40e-ad2b-43c6-9f17-85a8cb483d28",
   "metadata": {
    "tags": []
   },
   "outputs": [
    {
     "name": "stdout",
     "output_type": "stream",
     "text": [
      "<class 'pandas.core.frame.DataFrame'>\n",
      "Int64Index: 192664 entries, 0 to 209221\n",
      "Data columns (total 10 columns):\n",
      " #   Column          Non-Null Count   Dtype  \n",
      "---  ------          --------------   -----  \n",
      " 0   description     192664 non-null  int64  \n",
      " 1   category        192664 non-null  int8   \n",
      " 2   category_sub    192664 non-null  int16  \n",
      " 3   duration        192664 non-null  int32  \n",
      " 4   currency        192664 non-null  int8   \n",
      " 5   usd_goal        192664 non-null  float64\n",
      " 6   country         192664 non-null  int8   \n",
      " 7   type            192664 non-null  int8   \n",
      " 8   staff_pick      192664 non-null  int8   \n",
      " 9   launched_month  192664 non-null  int8   \n",
      "dtypes: float64(1), int16(1), int32(1), int64(1), int8(6)\n",
      "memory usage: 6.6 MB\n"
     ]
    }
   ],
   "source": [
    "df[features].info()"
   ]
  },
  {
   "cell_type": "code",
   "execution_count": 29,
   "id": "f67e1c27-8581-427d-b8fb-f9c749054b54",
   "metadata": {},
   "outputs": [],
   "source": [
    "# calculate the correlation matrix \n",
    "feat = df[features]\n",
    "corr = feat.corr()"
   ]
  },
  {
   "cell_type": "code",
   "execution_count": 30,
   "id": "cd7214f1-40f7-4da5-afe6-0c7cfe344216",
   "metadata": {},
   "outputs": [
    {
     "data": {
      "text/html": [
       "<div>\n",
       "<style scoped>\n",
       "    .dataframe tbody tr th:only-of-type {\n",
       "        vertical-align: middle;\n",
       "    }\n",
       "\n",
       "    .dataframe tbody tr th {\n",
       "        vertical-align: top;\n",
       "    }\n",
       "\n",
       "    .dataframe thead th {\n",
       "        text-align: right;\n",
       "    }\n",
       "</style>\n",
       "<table border=\"1\" class=\"dataframe\">\n",
       "  <thead>\n",
       "    <tr style=\"text-align: right;\">\n",
       "      <th></th>\n",
       "      <th>description</th>\n",
       "      <th>category</th>\n",
       "      <th>category_sub</th>\n",
       "      <th>duration</th>\n",
       "      <th>currency</th>\n",
       "      <th>usd_goal</th>\n",
       "      <th>country</th>\n",
       "      <th>type</th>\n",
       "      <th>staff_pick</th>\n",
       "      <th>launched_month</th>\n",
       "    </tr>\n",
       "  </thead>\n",
       "  <tbody>\n",
       "    <tr>\n",
       "      <th>0</th>\n",
       "      <td>20</td>\n",
       "      <td>8</td>\n",
       "      <td>84</td>\n",
       "      <td>47445</td>\n",
       "      <td>13</td>\n",
       "      <td>5000.0</td>\n",
       "      <td>21</td>\n",
       "      <td>7</td>\n",
       "      <td>0</td>\n",
       "      <td>3</td>\n",
       "    </tr>\n",
       "    <tr>\n",
       "      <th>1</th>\n",
       "      <td>15</td>\n",
       "      <td>6</td>\n",
       "      <td>40</td>\n",
       "      <td>21975</td>\n",
       "      <td>13</td>\n",
       "      <td>6000.0</td>\n",
       "      <td>21</td>\n",
       "      <td>7</td>\n",
       "      <td>0</td>\n",
       "      <td>7</td>\n",
       "    </tr>\n",
       "    <tr>\n",
       "      <th>2</th>\n",
       "      <td>19</td>\n",
       "      <td>6</td>\n",
       "      <td>45</td>\n",
       "      <td>21975</td>\n",
       "      <td>13</td>\n",
       "      <td>10000.0</td>\n",
       "      <td>21</td>\n",
       "      <td>7</td>\n",
       "      <td>0</td>\n",
       "      <td>6</td>\n",
       "    </tr>\n",
       "    <tr>\n",
       "      <th>3</th>\n",
       "      <td>25</td>\n",
       "      <td>9</td>\n",
       "      <td>77</td>\n",
       "      <td>21975</td>\n",
       "      <td>13</td>\n",
       "      <td>8000.0</td>\n",
       "      <td>21</td>\n",
       "      <td>7</td>\n",
       "      <td>0</td>\n",
       "      <td>4</td>\n",
       "    </tr>\n",
       "    <tr>\n",
       "      <th>4</th>\n",
       "      <td>11</td>\n",
       "      <td>8</td>\n",
       "      <td>88</td>\n",
       "      <td>21975</td>\n",
       "      <td>13</td>\n",
       "      <td>2000.0</td>\n",
       "      <td>21</td>\n",
       "      <td>7</td>\n",
       "      <td>0</td>\n",
       "      <td>8</td>\n",
       "    </tr>\n",
       "  </tbody>\n",
       "</table>\n",
       "</div>"
      ],
      "text/plain": [
       "   description  category  category_sub  duration  currency  usd_goal  country  \\\n",
       "0           20         8            84     47445        13    5000.0       21   \n",
       "1           15         6            40     21975        13    6000.0       21   \n",
       "2           19         6            45     21975        13   10000.0       21   \n",
       "3           25         9            77     21975        13    8000.0       21   \n",
       "4           11         8            88     21975        13    2000.0       21   \n",
       "\n",
       "   type  staff_pick  launched_month  \n",
       "0     7           0               3  \n",
       "1     7           0               7  \n",
       "2     7           0               6  \n",
       "3     7           0               4  \n",
       "4     7           0               8  "
      ]
     },
     "execution_count": 30,
     "metadata": {},
     "output_type": "execute_result"
    }
   ],
   "source": [
    "feat.head()"
   ]
  },
  {
   "cell_type": "code",
   "execution_count": 31,
   "id": "e8a07f86-9b5e-48ce-bc20-3f51d1607ac8",
   "metadata": {
    "tags": []
   },
   "outputs": [
    {
     "data": {
      "image/png": "[encoded data removed]",
      "text/plain": [
       "<Figure size 576x360 with 2 Axes>"
      ]
     },
     "metadata": {
      "needs_background": "light"
     },
     "output_type": "display_data"
    }
   ],
   "source": [
    "# plot heatmap\n",
    "\n",
    "fig, ax = plt.subplots()\n",
    "sns.heatmap(corr, xticklabels=feat.columns, yticklabels=feat.columns, annot=True,cmap='cividis')\n",
    "\n",
    "fig.text(s=\"Correlation factor Heat Map\",x=.5,y=0.95, fontsize = 24,ha='center', va='center')\n",
    "plt.xticks(rotation=45, fontsize=14, ha='right')\n",
    "plt.yticks(rotation=0, fontsize=14);"
   ]
  },
  {
   "cell_type": "markdown",
   "id": "ce62e545-cbe1-461d-bb97-9f9268544d37",
   "metadata": {},
   "source": [
    "Due to the high correlation between country and currency, we decided not to use currency as a feature"
   ]
  },
  {
   "cell_type": "code",
   "execution_count": 32,
   "id": "ebaa5f4c-d782-4cbd-8257-07687b17a727",
   "metadata": {},
   "outputs": [],
   "source": [
    "features.pop(features.index('currency'));"
   ]
  },
  {
   "cell_type": "markdown",
   "id": "647a83b0-c61b-4b16-b68b-d0be8de533fc",
   "metadata": {},
   "source": [
    "## Train test split"
   ]
  },
  {
   "cell_type": "code",
   "execution_count": 33,
   "id": "9ec10140-fa81-4594-8f13-aa959cb2a566",
   "metadata": {},
   "outputs": [],
   "source": [
    "# import\n",
    "from sklearn.model_selection import train_test_split\n",
    "from sklearn.metrics import f1_score, accuracy_score, plot_roc_curve"
   ]
  },
  {
   "cell_type": "code",
   "execution_count": 34,
   "id": "81eacd7a-f5d4-484d-80de-4d7f06be38c3",
   "metadata": {},
   "outputs": [],
   "source": [
    "X = df[features]\n",
    "y = df[target]"
   ]
  },
  {
   "cell_type": "code",
   "execution_count": 35,
   "id": "88e289a3-21aa-460a-a119-c59938b28308",
   "metadata": {},
   "outputs": [
    {
     "name": "stdout",
     "output_type": "stream",
     "text": [
      "Train set: (144498, 9) (144498, 1)\n",
      "Test set:  (48166, 9) (48166, 1)\n"
     ]
    }
   ],
   "source": [
    "X_train, X_test, y_train, y_test = train_test_split(X, y, test_size=0.25, random_state=42, stratify=y)\n",
    "print ('Train set:', X_train.shape, y_train.shape)\n",
    "print ('Test set: ', X_test.shape , y_test.shape)"
   ]
  },
  {
   "cell_type": "markdown",
   "id": "d398c432-0e8e-49b2-83c3-ab53f76022b9",
   "metadata": {},
   "source": [
    "## Set up Random forrest classifier"
   ]
  },
  {
   "cell_type": "markdown",
   "id": "2454f321-a60c-4a3d-af56-b29f27358b66",
   "metadata": {},
   "source": [
    "Import necesarry modules "
   ]
  },
  {
   "cell_type": "code",
   "execution_count": 36,
   "id": "6e2ac44b-d6c8-44d6-9341-ff6a00eb5dd7",
   "metadata": {},
   "outputs": [],
   "source": [
    "from sklearn.ensemble import RandomForestClassifier\n",
    "from sklearn.metrics import classification_report, confusion_matrix, plot_confusion_matrix"
   ]
  },
  {
   "cell_type": "markdown",
   "id": "42c8815f-771a-4756-ae83-2bbc7c98917b",
   "metadata": {},
   "source": [
    "Create Random forrest object and fit with train values. `values.ravel()` transforms the y_train into 1D array"
   ]
  },
  {
   "cell_type": "code",
   "execution_count": 37,
   "id": "397b250e-4e77-4e25-9566-d1850002ec44",
   "metadata": {},
   "outputs": [],
   "source": [
    "rfc = RandomForestClassifier(max_depth=20, max_features=0.5, min_samples_split=5, n_jobs=-1)\n",
    "rfc.fit(X_train,y_train.values.ravel());"
   ]
  },
  {
   "cell_type": "markdown",
   "id": "909fc9f4-96fd-49cf-8519-5186438a4712",
   "metadata": {},
   "source": [
    "Predict the target values for the test data"
   ]
  },
  {
   "cell_type": "code",
   "execution_count": 38,
   "id": "449538ee-554b-431b-92a2-a4ae3cf1ce19",
   "metadata": {},
   "outputs": [],
   "source": [
    "y_pred = rfc.predict(X_test)"
   ]
  },
  {
   "cell_type": "markdown",
   "id": "898c3de7-6242-436f-9763-32dc18d6e5c6",
   "metadata": {},
   "source": [
    "Predict the target values for the train data"
   ]
  },
  {
   "cell_type": "code",
   "execution_count": 39,
   "id": "99b81916-1d2a-4e92-a459-adb25dccddea",
   "metadata": {},
   "outputs": [],
   "source": [
    "y_pred_train = rfc.predict(X_train)"
   ]
  },
  {
   "cell_type": "markdown",
   "id": "b14b33f4-2b7b-4d41-b7cc-11e55cebebf6",
   "metadata": {},
   "source": [
    "### Print the classifictaion report and the confusion matrix on the test data"
   ]
  },
  {
   "cell_type": "code",
   "execution_count": 40,
   "id": "f1428f4f-889c-478d-a9b1-e8a86836da29",
   "metadata": {},
   "outputs": [
    {
     "name": "stdout",
     "output_type": "stream",
     "text": [
      "              precision    recall  f1-score   support\n",
      "\n",
      "      failed       0.78      0.70      0.74     18800\n",
      "  successful       0.82      0.87      0.84     29366\n",
      "\n",
      "    accuracy                           0.80     48166\n",
      "   macro avg       0.80      0.78      0.79     48166\n",
      "weighted avg       0.80      0.80      0.80     48166\n",
      "\n"
     ]
    }
   ],
   "source": [
    "print(classification_report(y_test,y_pred))"
   ]
  },
  {
   "cell_type": "markdown",
   "id": "e57a7635-7f83-4661-947d-73392dc6162f",
   "metadata": {},
   "source": [
    "### Print the classifictaion report and the confusion matrixn the training data"
   ]
  },
  {
   "cell_type": "code",
   "execution_count": 41,
   "id": "cd162671-789a-4d86-8560-634928ff32ba",
   "metadata": {},
   "outputs": [
    {
     "name": "stdout",
     "output_type": "stream",
     "text": [
      "              precision    recall  f1-score   support\n",
      "\n",
      "      failed       0.92      0.86      0.89     56399\n",
      "  successful       0.91      0.95      0.93     88099\n",
      "\n",
      "    accuracy                           0.92    144498\n",
      "   macro avg       0.92      0.91      0.91    144498\n",
      "weighted avg       0.92      0.92      0.92    144498\n",
      "\n"
     ]
    }
   ],
   "source": [
    "print(classification_report(y_train,y_pred_train))"
   ]
  },
  {
   "cell_type": "code",
   "execution_count": 42,
   "id": "3c70d112-8eb1-4f50-a894-542bf096f91c",
   "metadata": {},
   "outputs": [
    {
     "data": {
      "image/png": "[encoded data removed]",
      "text/plain": [
       "<Figure size 576x360 with 2 Axes>"
      ]
     },
     "metadata": {
      "needs_background": "light"
     },
     "output_type": "display_data"
    }
   ],
   "source": [
    "# create confusion matrix\n",
    "cm = confusion_matrix(y_test,y_pred)\n",
    "\n",
    "# define figure size\n",
    "fig, ax = plt.subplots()\n",
    "\n",
    "# plot heatmap\n",
    "sns.heatmap(cm, cmap='cividis',ax=ax, annot=True, fmt='d', linewidths=.5)\n",
    "\n",
    "# adjust figure\n",
    "ax.set_xticklabels(['failed','succsessfull'])\n",
    "ax.set_yticklabels(['failed','succsessfull'])\n",
    "plt.xticks(rotation=45, fontsize=12)\n",
    "plt.yticks(rotation=45, fontsize=12)\n",
    "plt.xlabel('predicted values',fontsize=20)\n",
    "plt.ylabel('true values',fontsize=20);"
   ]
  },
  {
   "cell_type": "markdown",
   "id": "6d6d6366-8354-4486-a57f-1651db4a5d0c",
   "metadata": {},
   "source": [
    "### Take a look on feature importance"
   ]
  },
  {
   "cell_type": "code",
   "execution_count": 43,
   "id": "470f56bf-c9ca-411f-9191-982d9816dec0",
   "metadata": {
    "tags": []
   },
   "outputs": [
    {
     "data": {
      "image/png": "[encoded data removed]",
      "text/plain": [
       "<Figure size 576x360 with 1 Axes>"
      ]
     },
     "metadata": {
      "needs_background": "light"
     },
     "output_type": "display_data"
    }
   ],
   "source": [
    "# calculate importance\n",
    "importance = rfc.feature_importances_\n",
    "\n",
    "# set axis, create figure\n",
    "x_axis = list(range(len(importance)))\n",
    "fig, ax = plt.subplots()\n",
    "\n",
    "# plot figure\n",
    "plt.bar(x_axis, importance, color=['grey','lightblue'])\n",
    "\n",
    "# add Title\n",
    "fig.text(s=\"Feature importance\",x=.5,y=0.95, fontsize = 20,ha='center', va='center')\n",
    "\n",
    "# edit xticks\n",
    "plt.xticks(x_axis, features, rotation=45, fontsize=14, ha='right')\n",
    "#plt.yticks(rotation=0, fontsize=14);\n",
    "plt.yticks([])\n",
    "# add value inside the bars\n",
    "for p in ax.patches:\n",
    "    ax.annotate(\"%.2f\" % p.get_height(), (p.get_x() + p.get_width() / 2., p.get_height()), ha='center', va='center', xytext=(0, -10), textcoords='offset points')"
   ]
  },
  {
   "cell_type": "markdown",
   "id": "bf40a911-20e0-4971-8646-40140da2344b",
   "metadata": {},
   "source": [
    "### Plot ROC curve"
   ]
  },
  {
   "cell_type": "code",
   "execution_count": 44,
   "id": "11be2b61-c0f6-41b8-b2f9-719cd16f9d7a",
   "metadata": {},
   "outputs": [
    {
     "data": {
      "image/png": "[encoded data removed]",
      "text/plain": [
       "<Figure size 576x360 with 1 Axes>"
      ]
     },
     "metadata": {
      "needs_background": "light"
     },
     "output_type": "display_data"
    }
   ],
   "source": [
    "plot_roc_curve(rfc, X_test, y_test);"
   ]
  },
  {
   "cell_type": "markdown",
   "id": "9696f2b7-5fc3-4c0e-8e91-c4fd9d316681",
   "metadata": {},
   "source": [
    "### Grid search fo the Random tree forrest"
   ]
  },
  {
   "cell_type": "code",
   "execution_count": 45,
   "id": "f1d1afb6-7e25-49cf-9f82-9ed20483450a",
   "metadata": {},
   "outputs": [],
   "source": [
    "from sklearn.model_selection import GridSearchCV, RandomizedSearchCV"
   ]
  },
  {
   "cell_type": "code",
   "execution_count": 46,
   "id": "5468fad4-8f9a-47c6-8aa4-8e06c41fc4a6",
   "metadata": {},
   "outputs": [
    {
     "data": {
      "text/plain": [
       "dict_keys(['bootstrap', 'ccp_alpha', 'class_weight', 'criterion', 'max_depth', 'max_features', 'max_leaf_nodes', 'max_samples', 'min_impurity_decrease', 'min_impurity_split', 'min_samples_leaf', 'min_samples_split', 'min_weight_fraction_leaf', 'n_estimators', 'n_jobs', 'oob_score', 'random_state', 'verbose', 'warm_start'])"
      ]
     },
     "execution_count": 46,
     "metadata": {},
     "output_type": "execute_result"
    }
   ],
   "source": [
    "rfc.get_params().keys()"
   ]
  },
  {
   "cell_type": "code",
   "execution_count": 47,
   "id": "929c019f-b31d-42a6-b100-6a545c0794d5",
   "metadata": {},
   "outputs": [
    {
     "name": "stdout",
     "output_type": "stream",
     "text": [
      "Fitting 3 folds for each of 24 candidates, totalling 72 fits\n"
     ]
    },
    {
     "data": {
      "text/plain": [
       "GridSearchCV(cv=3, estimator=RandomForestClassifier(random_state=42), n_jobs=-1,\n",
       "             param_grid={'max_depth': [None, 5, 20, 50],\n",
       "                         'max_features': ['sqrt', None, 0.5],\n",
       "                         'min_samples_split': [5, 10]},\n",
       "             scoring='roc_auc', verbose=5)"
      ]
     },
     "execution_count": 47,
     "metadata": {},
     "output_type": "execute_result"
    }
   ],
   "source": [
    "# set random seed\n",
    "RSEED = 42\n",
    "\n",
    "# Hyperparameter grid\n",
    "param_grid = {\n",
    "    #'n_estimators': [100, 150, 250, 300],\n",
    "    'max_depth': [None] +  [5,20,50],\n",
    "    'max_features': ['sqrt', None, 0.5],\n",
    "    #'max_leaf_nodes': [None] + [10, 50, 200],\n",
    "    'min_samples_split': [5, 10],\n",
    "    #'bootstrap': [True, False]\n",
    "}\n",
    "\n",
    "# Estimator for use in random search\n",
    "estimator = RandomForestClassifier(random_state = RSEED)\n",
    "\n",
    "# Create the random search model\n",
    "rs = GridSearchCV(estimator, param_grid, n_jobs = -1, \n",
    "                        scoring = 'roc_auc', cv = 3, \n",
    "                        verbose = 5)\n",
    "\n",
    "# Fit \n",
    "rs.fit(X_train, y_train.values.ravel())"
   ]
  },
  {
   "cell_type": "markdown",
   "id": "cbf92878-56fa-495d-acdf-90315b883f76",
   "metadata": {},
   "source": [
    "### What are the best parameters found during the Gridsearch"
   ]
  },
  {
   "cell_type": "code",
   "execution_count": 48,
   "id": "49cd80f0-1700-4e50-aa2e-41b5ca7800e5",
   "metadata": {
    "tags": []
   },
   "outputs": [
    {
     "data": {
      "text/plain": [
       "{'max_depth': 50, 'max_features': 0.5, 'min_samples_split': 5}"
      ]
     },
     "execution_count": 48,
     "metadata": {},
     "output_type": "execute_result"
    }
   ],
   "source": [
    "rs.best_params_"
   ]
  },
  {
   "cell_type": "markdown",
   "id": "a3d698e6-7b85-4bff-bb04-b096d5d1068b",
   "metadata": {},
   "source": [
    "### Save the best model into variable"
   ]
  },
  {
   "cell_type": "code",
   "execution_count": 49,
   "id": "6c2aac84-d5b0-4ca9-b106-c64720f3d512",
   "metadata": {
    "tags": []
   },
   "outputs": [],
   "source": [
    "opt_model = rs.best_estimator_"
   ]
  },
  {
   "cell_type": "code",
   "execution_count": 50,
   "id": "580d3817-21d4-49bb-84ad-a44da90a295d",
   "metadata": {
    "tags": []
   },
   "outputs": [],
   "source": [
    "y_pred_opt = opt_model.predict(X_test)"
   ]
  },
  {
   "cell_type": "markdown",
   "id": "8c635b8a-5198-40c6-906f-8bfa387ca695",
   "metadata": {},
   "source": [
    "### Compare base model and optimized model, state nodes and maximum depth"
   ]
  },
  {
   "cell_type": "code",
   "execution_count": 51,
   "id": "283c0314-27fe-4326-8292-6c3e0d0ffe02",
   "metadata": {},
   "outputs": [
    {
     "name": "stdout",
     "output_type": "stream",
     "text": [
      "Average number of nodes 18539\n",
      "Average maximum depth 20\n"
     ]
    }
   ],
   "source": [
    "n_nodes=[]\n",
    "max_depths=[]\n",
    "for ind_tree in rfc.estimators_:\n",
    "    n_nodes.append(ind_tree.tree_.node_count)\n",
    "    max_depths.append(ind_tree.tree_.max_depth)\n",
    "    \n",
    "print(f'Average number of nodes {int(np.mean(n_nodes))}')\n",
    "print(f'Average maximum depth {int(np.mean(max_depths))}')"
   ]
  },
  {
   "cell_type": "code",
   "execution_count": 52,
   "id": "4d338504-c97a-43f1-b29c-09e7e1d085a2",
   "metadata": {},
   "outputs": [
    {
     "name": "stdout",
     "output_type": "stream",
     "text": [
      "Average number of nodes 35530\n",
      "Average maximum depth 42\n"
     ]
    }
   ],
   "source": [
    "n_nodes=[]\n",
    "max_depths=[]\n",
    "for ind_tree in opt_model.estimators_:\n",
    "    n_nodes.append(ind_tree.tree_.node_count)\n",
    "    max_depths.append(ind_tree.tree_.max_depth)\n",
    "    \n",
    "print(f'Average number of nodes {int(np.mean(n_nodes))}')\n",
    "print(f'Average maximum depth {int(np.mean(max_depths))}')"
   ]
  },
  {
   "cell_type": "markdown",
   "id": "e5aaa3f5-5860-4d57-ba71-01a11777338c",
   "metadata": {},
   "source": [
    "### Plot ROC curve"
   ]
  },
  {
   "cell_type": "code",
   "execution_count": 53,
   "id": "5572ed13-30c2-4208-a73b-e5cd937e4198",
   "metadata": {},
   "outputs": [
    {
     "data": {
      "text/plain": [
       "<sklearn.metrics._plot.roc_curve.RocCurveDisplay at 0x126a39d60>"
      ]
     },
     "execution_count": 53,
     "metadata": {},
     "output_type": "execute_result"
    },
    {
     "data": {
      "image/png": "[encoded data removed]",
      "text/plain": [
       "<Figure size 576x360 with 1 Axes>"
      ]
     },
     "metadata": {
      "needs_background": "light"
     },
     "output_type": "display_data"
    }
   ],
   "source": [
    "ax = plt.gca()\n",
    "plot_roc_curve(opt_model, X_test, y_test,ax=ax)\n",
    "plot_roc_curve(rfc, X_test, y_test,ax=ax)\n"
   ]
  },
  {
   "cell_type": "markdown",
   "id": "c5459c9c-833f-4abe-b709-d4258a339165",
   "metadata": {},
   "source": [
    "---"
   ]
  },
  {
   "cell_type": "markdown",
   "id": "99049c4f-4b5a-4771-81e0-7acfb5d8c1eb",
   "metadata": {},
   "source": [
    "## Setup KNN classifier"
   ]
  },
  {
   "cell_type": "code",
   "execution_count": 54,
   "id": "24aa2cec-db75-4f49-b7aa-e176c9904d74",
   "metadata": {},
   "outputs": [],
   "source": [
    "from sklearn.neighbors import KNeighborsClassifier"
   ]
  },
  {
   "cell_type": "code",
   "execution_count": 55,
   "id": "16f2c9ec-5512-4e04-a6b4-60ad838399f7",
   "metadata": {},
   "outputs": [],
   "source": [
    "knn = KNeighborsClassifier()\n",
    "knn.fit(X_train,y_train.values.ravel());"
   ]
  },
  {
   "cell_type": "code",
   "execution_count": 56,
   "id": "ae66a4e5-e34d-4b9a-930b-cab33d053619",
   "metadata": {},
   "outputs": [],
   "source": [
    "y_pred = knn.predict(X_test)"
   ]
  },
  {
   "cell_type": "markdown",
   "id": "0abf9732-5e29-4c0c-9962-c1de87a9a094",
   "metadata": {},
   "source": [
    "Print the classifictaion report and the confusin matrix"
   ]
  },
  {
   "cell_type": "code",
   "execution_count": 57,
   "id": "4e2f5614-f0a2-48a6-aaaa-1797fe49cfbb",
   "metadata": {},
   "outputs": [
    {
     "name": "stdout",
     "output_type": "stream",
     "text": [
      "              precision    recall  f1-score   support\n",
      "\n",
      "      failed       0.59      0.49      0.53     18800\n",
      "  successful       0.70      0.78      0.74     29366\n",
      "\n",
      "    accuracy                           0.66     48166\n",
      "   macro avg       0.64      0.63      0.63     48166\n",
      "weighted avg       0.66      0.66      0.66     48166\n",
      "\n"
     ]
    }
   ],
   "source": [
    "print(classification_report(y_test,y_pred))"
   ]
  },
  {
   "cell_type": "code",
   "execution_count": 58,
   "id": "37b73747-e0e0-4549-8570-bf7229c99edc",
   "metadata": {},
   "outputs": [
    {
     "data": {
      "image/png": "[encoded data removed]",
      "text/plain": [
       "<Figure size 576x360 with 2 Axes>"
      ]
     },
     "metadata": {
      "needs_background": "light"
     },
     "output_type": "display_data"
    }
   ],
   "source": [
    "# create confusion matrix\n",
    "cm = confusion_matrix(y_test,y_pred)\n",
    "\n",
    "# define figure size\n",
    "fig, ax = plt.subplots()\n",
    "\n",
    "# plot heatmap\n",
    "sns.heatmap(cm, cmap='cividis',ax=ax, annot=True, fmt='d', linewidths=.5)\n",
    "\n",
    "# adjust figure\n",
    "ax.set_xticklabels(['failed','succsessfull'])\n",
    "ax.set_yticklabels(['failed','succsessfull'])\n",
    "plt.xticks(rotation=45, fontsize=12)\n",
    "plt.yticks(rotation=45, fontsize=12)\n",
    "plt.xlabel('predicted values',fontsize=20)\n",
    "plt.ylabel('true values',fontsize=20);"
   ]
  },
  {
   "cell_type": "markdown",
   "id": "1d7001a0-8127-4c42-9427-e207da2b0ca3",
   "metadata": {},
   "source": [
    "## Setup Dummy classifier"
   ]
  },
  {
   "cell_type": "code",
   "execution_count": 59,
   "id": "2313d40c-359a-49eb-86a3-4dbcdc04fec8",
   "metadata": {},
   "outputs": [],
   "source": [
    "# import\n",
    "from sklearn.dummy import DummyClassifier"
   ]
  },
  {
   "cell_type": "markdown",
   "id": "25c5887b-05ec-4225-bd53-0d5bbf9cb80b",
   "metadata": {
    "tags": []
   },
   "source": [
    "### Strategy: stratified"
   ]
  },
  {
   "cell_type": "code",
   "execution_count": 60,
   "id": "937f8788-139c-43f7-8b06-30c229756d57",
   "metadata": {},
   "outputs": [
    {
     "name": "stdout",
     "output_type": "stream",
     "text": [
      "              precision    recall  f1-score   support\n",
      "\n",
      "      failed       0.39      0.39      0.39     18800\n",
      "  successful       0.61      0.61      0.61     29366\n",
      "\n",
      "    accuracy                           0.53     48166\n",
      "   macro avg       0.50      0.50      0.50     48166\n",
      "weighted avg       0.53      0.53      0.53     48166\n",
      "\n"
     ]
    }
   ],
   "source": [
    "model = DummyClassifier(strategy='stratified')\n",
    "model.fit(X_train,y_train.values.ravel())\n",
    "y_pred = model.predict(X_test)\n",
    "print(classification_report(y_test,y_pred))"
   ]
  },
  {
   "cell_type": "markdown",
   "id": "fbd11470-8631-4c68-b13e-655c2da7cacb",
   "metadata": {
    "tags": []
   },
   "source": [
    "### Strategy: uniform"
   ]
  },
  {
   "cell_type": "code",
   "execution_count": 61,
   "id": "e8649c31-bae1-423f-892e-b5c31a348dd5",
   "metadata": {},
   "outputs": [
    {
     "name": "stdout",
     "output_type": "stream",
     "text": [
      "              precision    recall  f1-score   support\n",
      "\n",
      "      failed       0.39      0.50      0.44     18800\n",
      "  successful       0.61      0.50      0.55     29366\n",
      "\n",
      "    accuracy                           0.50     48166\n",
      "   macro avg       0.50      0.50      0.49     48166\n",
      "weighted avg       0.52      0.50      0.50     48166\n",
      "\n"
     ]
    }
   ],
   "source": [
    "model = DummyClassifier(strategy='uniform')\n",
    "model.fit(X_train,y_train.values.ravel())\n",
    "y_pred = model.predict(X_test)\n",
    "print(classification_report(y_test,y_pred))"
   ]
  },
  {
   "cell_type": "markdown",
   "id": "9acf3771-b9d6-4d91-b7c1-dc25731ad755",
   "metadata": {},
   "source": [
    "Print the classifictaion report and the confusin matrix"
   ]
  }
 ],
 "metadata": {
  "kernelspec": {
   "display_name": "Python 3",
   "language": "python",
   "name": "python3"
  },
  "language_info": {
   "codemirror_mode": {
    "name": "ipython",
    "version": 3
   },
   "file_extension": ".py",
   "mimetype": "text/x-python",
   "name": "python",
   "nbconvert_exporter": "python",
   "pygments_lexer": "ipython3",
   "version": "3.8.5"
  }
 },
 "nbformat": 4,
 "nbformat_minor": 5
}
