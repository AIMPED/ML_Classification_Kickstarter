{
 "cells": [
  {
   "cell_type": "markdown",
   "id": "ae6e658e-9b97-4441-a1bf-aeb18cf015cd",
   "metadata": {},
   "source": [
    "# Introduction / Description"
   ]
  },
  {
   "cell_type": "code",
   "execution_count": null,
   "id": "3d2c81e2-4490-4c98-bea9-c930fdba1a34",
   "metadata": {},
   "outputs": [],
   "source": []
  },
  {
   "cell_type": "markdown",
   "id": "84e74e0c-6917-4a2a-be66-b7520239f133",
   "metadata": {},
   "source": [
    "# Import Python packages"
   ]
  },
  {
   "cell_type": "code",
   "execution_count": 1,
   "id": "d7d1708f-1e5d-45e5-8d12-19a8ee8c89e9",
   "metadata": {},
   "outputs": [],
   "source": [
    "import numpy as np\n",
    "import matplotlib.pyplot as plt\n",
    "import seaborn as sns\n",
    "import pandas as pd\n",
    "\n",
    "import os # doesnt have to be installed with pip\n",
    "\n",
    "# set default figure size\n",
    "plt.rcParams[\"figure.figsize\"] = (8, 5)\n",
    "\n",
    "# Display all columns with pandas\n",
    "pd.options.display.max_columns = None"
   ]
  },
  {
   "cell_type": "code",
   "execution_count": 16,
   "metadata": {},
   "outputs": [],
   "source": [
    "df = pd.read_csv('data/Kickstarter_preprocessed.csv')"
   ]
  },
  {
   "cell_type": "code",
   "execution_count": 7,
   "metadata": {},
   "outputs": [
    {
     "output_type": "stream",
     "name": "stdout",
     "text": [
      "<class 'pandas.core.frame.DataFrame'>\nRangeIndex: 209222 entries, 0 to 209221\nData columns (total 75 columns):\n #   Column                             Non-Null Count   Dtype  \n---  ------                             --------------   -----  \n 0   backers_count                      209222 non-null  int64  \n 1   description                        209214 non-null  object \n 2   converted_pledged_amount           209222 non-null  int64  \n 3   country                            209222 non-null  object \n 4   created_at                         209222 non-null  int64  \n 5   currency                           209222 non-null  object \n 6   currency_symbol                    209222 non-null  object \n 7   currency_trailing_code             209222 non-null  bool   \n 8   current_currency                   209222 non-null  object \n 9   deadline                           209222 non-null  int64  \n 10  disable_communication              209222 non-null  bool   \n 11  friends                            300 non-null     object \n 12  fx_rate                            209222 non-null  float64\n 13  goal                               209222 non-null  float64\n 14  id                                 209222 non-null  int64  \n 15  is_backing                         300 non-null     object \n 16  is_starrable                       209222 non-null  bool   \n 17  is_starred                         300 non-null     object \n 18  launched_at                        209222 non-null  int64  \n 19  name                               209222 non-null  object \n 20  permissions                        300 non-null     object \n 21  photo                              209222 non-null  object \n 22  pledged                            209222 non-null  float64\n 23  slug                               209222 non-null  object \n 24  source_url                         209222 non-null  object \n 25  spotlight                          209222 non-null  bool   \n 26  staff_pick                         209222 non-null  bool   \n 27  state                              209222 non-null  object \n 28  state_changed_at                   209222 non-null  int64  \n 29  static_usd_rate                    209222 non-null  float64\n 30  urls                               209222 non-null  object \n 31  usd_pledged                        209222 non-null  float64\n 32  usd_type                           208742 non-null  object \n 33  id_category                        209222 non-null  int64  \n 34  category_sub                       209222 non-null  object \n 35  category                           209222 non-null  object \n 36  position                           209222 non-null  int64  \n 37  parent_id                          200181 non-null  float64\n 38  color                              209222 non-null  int64  \n 39  urls_category                      209222 non-null  object \n 40  id_creator                         209109 non-null  float64\n 41  name_creator                       209109 non-null  object \n 42  is_registered                      0 non-null       float64\n 43  chosen_currency                    0 non-null       float64\n 44  avatar                             125499 non-null  object \n 45  urls_creator                       83610 non-null   object \n 46  slug_creator                       64014 non-null   object \n 47  id_location                        209114 non-null  float64\n 48  name_location                      209114 non-null  object \n 49  slug_location                      208622 non-null  object \n 50  short_name                         209114 non-null  object \n 51  displayable_name                   209114 non-null  object \n 52  localized_name                     209114 non-null  object \n 53  country_location                   209106 non-null  object \n 54  state_location                     209054 non-null  object \n 55  type                               209114 non-null  object \n 56  is_root                            209114 non-null  float64\n 57  urls_location                      209114 non-null  object \n 58  id_profile                         205528 non-null  float64\n 59  project_id                         205528 non-null  float64\n 60  state_profile                      205528 non-null  object \n 61  state_changed_at_profile           205528 non-null  float64\n 62  name_profile                       42408 non-null   object \n 63  blurb_profile                      42138 non-null   object \n 64  background_color                   15457 non-null   object \n 65  text_color                         16470 non-null   object \n 66  link_background_color              18345 non-null   object \n 67  link_text_color                    3272 non-null    object \n 68  link_text                          41234 non-null   object \n 69  link_url                           39752 non-null   object \n 70  show_feature_image                 205528 non-null  float64\n 71  background_image_opacity           205528 non-null  float64\n 72  should_show_feature_image_section  205528 non-null  float64\n 73  feature_image_attributes           200854 non-null  object \n 74  background_image_attributes        12863 non-null   object \ndtypes: bool(5), float64(17), int64(10), object(43)\nmemory usage: 112.7+ MB\n"
     ]
    }
   ],
   "source": [
    "df.info()"
   ]
  },
  {
   "cell_type": "code",
   "execution_count": 17,
   "metadata": {},
   "outputs": [],
   "source": [
    "# delete first column\n",
    "df.drop(['Unnamed: 0'],axis=1,inplace=True);\n",
    "\n",
    "# rename some columns\n",
    "df.rename(columns={'name_category':'category_sub','slug_category':'category','blurb':'description'},inplace=True)"
   ]
  },
  {
   "source": [
    "#### Timestamps are in Unix time and have to be converted --> next cell"
   ],
   "cell_type": "markdown",
   "metadata": {}
  },
  {
   "cell_type": "code",
   "execution_count": 18,
   "metadata": {},
   "outputs": [],
   "source": [
    "# create function for format change\n",
    "# we could also use lambda x: datetime.utcfromtimestamp(x)\n",
    "from datetime import datetime\n",
    "\n",
    "def chg_date(x):\n",
    "    return datetime.utcfromtimestamp(x)\n",
    "\n",
    "# apply on dataframe\n",
    "\n",
    "time_cols = ['created_at','deadline','state_changed_at','launched_at']\n",
    "df[time_cols] = df[time_cols].applymap(chg_date)"
   ]
  },
  {
   "source": [
    "## Basic Feature Engineering\n",
    "\n",
    "- Parsing 'blurb', i.e. description of project for keywords might be useful but is a the moment timewise not feasible. Instead use only the length of the description\n",
    "- In order to compare pledge goals we convert them to USD\n",
    "- Create duration of project as possible indicator"
   ],
   "cell_type": "markdown",
   "metadata": {}
  },
  {
   "cell_type": "code",
   "execution_count": 19,
   "metadata": {},
   "outputs": [],
   "source": [
    "######### First feature engineering\n",
    "\n",
    "# Replace short description of project with length of description\n",
    "df['description'] = df['description'].apply(lambda x: len(str(x).split()))\n",
    "\n",
    "# convert all goals into USD\n",
    "df = df.eval('usd_goal = static_usd_rate * goal')\n",
    "\n",
    "# create duration of project\n",
    "df['duration'] = df['deadline'] - df['launched_at']\n",
    "df['duration_days']=df['duration'].dt.days\n",
    "\n",
    "# create year and month in which project ist started\n",
    "df['start_month']= df['launched_at'].dt.month\n",
    "df['start_year']= df['launched_at'].dt.year\n",
    "\n",
    "# split text in column category, keep only left part of string --> main category\n",
    "df.category = df.category.apply(lambda x: x.split('/')[0])\n",
    "\n",
    "# change to lower case string\n",
    "df.category_sub = df.category_sub.str.lower()"
   ]
  },
  {
   "cell_type": "code",
   "execution_count": 20,
   "metadata": {},
   "outputs": [
    {
     "output_type": "execute_result",
     "data": {
      "text/plain": [
       "        description  duration_days currency      usd_goal country  staff_pick  \\\n",
       "0                20             60      USD   5000.000000      US       False   \n",
       "1                15             30      USD   6000.000000      US       False   \n",
       "2                19             30      USD  10000.000000      US       False   \n",
       "3                25             30      USD   8000.000000      US       False   \n",
       "4                11             30      USD   2000.000000      US       False   \n",
       "...             ...            ...      ...           ...     ...         ...   \n",
       "209217           22             31      GBP   1468.271390      GB       False   \n",
       "209218           15             29      GBP    718.323248      GB       False   \n",
       "209219           13             30      USD  30000.000000      US       False   \n",
       "209220           10             33      USD  10000.000000      US       False   \n",
       "209221           13             14      USD   1200.000000      US       False   \n",
       "\n",
       "            category      category_sub  start_month  \n",
       "0              games        live games            4  \n",
       "1       film & video             drama            8  \n",
       "2       film & video      experimental            7  \n",
       "3         journalism        journalism            5  \n",
       "4              games      mobile games            9  \n",
       "...              ...               ...          ...  \n",
       "209217       theater         festivals            6  \n",
       "209218       fashion       accessories            2  \n",
       "209219       fashion          footwear            6  \n",
       "209220       fashion          footwear            8  \n",
       "209221         music  electronic music            2  \n",
       "\n",
       "[209222 rows x 9 columns]"
      ],
      "text/html": "<div>\n<style scoped>\n    .dataframe tbody tr th:only-of-type {\n        vertical-align: middle;\n    }\n\n    .dataframe tbody tr th {\n        vertical-align: top;\n    }\n\n    .dataframe thead th {\n        text-align: right;\n    }\n</style>\n<table border=\"1\" class=\"dataframe\">\n  <thead>\n    <tr style=\"text-align: right;\">\n      <th></th>\n      <th>description</th>\n      <th>duration_days</th>\n      <th>currency</th>\n      <th>usd_goal</th>\n      <th>country</th>\n      <th>staff_pick</th>\n      <th>category</th>\n      <th>category_sub</th>\n      <th>start_month</th>\n    </tr>\n  </thead>\n  <tbody>\n    <tr>\n      <th>0</th>\n      <td>20</td>\n      <td>60</td>\n      <td>USD</td>\n      <td>5000.000000</td>\n      <td>US</td>\n      <td>False</td>\n      <td>games</td>\n      <td>live games</td>\n      <td>4</td>\n    </tr>\n    <tr>\n      <th>1</th>\n      <td>15</td>\n      <td>30</td>\n      <td>USD</td>\n      <td>6000.000000</td>\n      <td>US</td>\n      <td>False</td>\n      <td>film &amp; video</td>\n      <td>drama</td>\n      <td>8</td>\n    </tr>\n    <tr>\n      <th>2</th>\n      <td>19</td>\n      <td>30</td>\n      <td>USD</td>\n      <td>10000.000000</td>\n      <td>US</td>\n      <td>False</td>\n      <td>film &amp; video</td>\n      <td>experimental</td>\n      <td>7</td>\n    </tr>\n    <tr>\n      <th>3</th>\n      <td>25</td>\n      <td>30</td>\n      <td>USD</td>\n      <td>8000.000000</td>\n      <td>US</td>\n      <td>False</td>\n      <td>journalism</td>\n      <td>journalism</td>\n      <td>5</td>\n    </tr>\n    <tr>\n      <th>4</th>\n      <td>11</td>\n      <td>30</td>\n      <td>USD</td>\n      <td>2000.000000</td>\n      <td>US</td>\n      <td>False</td>\n      <td>games</td>\n      <td>mobile games</td>\n      <td>9</td>\n    </tr>\n    <tr>\n      <th>...</th>\n      <td>...</td>\n      <td>...</td>\n      <td>...</td>\n      <td>...</td>\n      <td>...</td>\n      <td>...</td>\n      <td>...</td>\n      <td>...</td>\n      <td>...</td>\n    </tr>\n    <tr>\n      <th>209217</th>\n      <td>22</td>\n      <td>31</td>\n      <td>GBP</td>\n      <td>1468.271390</td>\n      <td>GB</td>\n      <td>False</td>\n      <td>theater</td>\n      <td>festivals</td>\n      <td>6</td>\n    </tr>\n    <tr>\n      <th>209218</th>\n      <td>15</td>\n      <td>29</td>\n      <td>GBP</td>\n      <td>718.323248</td>\n      <td>GB</td>\n      <td>False</td>\n      <td>fashion</td>\n      <td>accessories</td>\n      <td>2</td>\n    </tr>\n    <tr>\n      <th>209219</th>\n      <td>13</td>\n      <td>30</td>\n      <td>USD</td>\n      <td>30000.000000</td>\n      <td>US</td>\n      <td>False</td>\n      <td>fashion</td>\n      <td>footwear</td>\n      <td>6</td>\n    </tr>\n    <tr>\n      <th>209220</th>\n      <td>10</td>\n      <td>33</td>\n      <td>USD</td>\n      <td>10000.000000</td>\n      <td>US</td>\n      <td>False</td>\n      <td>fashion</td>\n      <td>footwear</td>\n      <td>8</td>\n    </tr>\n    <tr>\n      <th>209221</th>\n      <td>13</td>\n      <td>14</td>\n      <td>USD</td>\n      <td>1200.000000</td>\n      <td>US</td>\n      <td>False</td>\n      <td>music</td>\n      <td>electronic music</td>\n      <td>2</td>\n    </tr>\n  </tbody>\n</table>\n<p>209222 rows × 9 columns</p>\n</div>"
     },
     "metadata": {},
     "execution_count": 20
    }
   ],
   "source": [
    "features = ['description','duration_days','currency','usd_goal','country','staff_pick','category','category_sub','start_month']\n",
    "target = df['state']\n",
    "df[features]"
   ]
  },
  {
   "cell_type": "code",
   "execution_count": null,
   "metadata": {},
   "outputs": [],
   "source": []
  }
 ],
 "metadata": {
  "kernelspec": {
   "name": "python3",
   "display_name": "Python 3.8.5 64-bit ('.venv': venv)"
  },
  "language_info": {
   "codemirror_mode": {
    "name": "ipython",
    "version": 3
   },
   "file_extension": ".py",
   "mimetype": "text/x-python",
   "name": "python",
   "nbconvert_exporter": "python",
   "pygments_lexer": "ipython3",
   "version": "3.8.5"
  },
  "interpreter": {
   "hash": "bf5992e0605dd9e6158526ebb6dcf4b92d0de49751f459d287c2f437276e3f64"
  }
 },
 "nbformat": 4,
 "nbformat_minor": 5
}