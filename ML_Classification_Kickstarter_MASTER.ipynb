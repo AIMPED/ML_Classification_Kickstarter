{
 "cells": [
  {
   "cell_type": "markdown",
   "id": "ecd1af0b",
   "metadata": {},
   "source": [
    "# Introduction / Description"
   ]
  },
  {
   "cell_type": "markdown",
   "id": "4ae28ea6",
   "metadata": {},
   "source": [
    "In this notebook we explore the Kickstarter.com dataset, that [someone](https://webrobots.io/kickstarter-datasets/) kindly scraped for us from the Kickstarter website. We try to predict the success of the campaigns based on the data available to us."
   ]
  },
  {
   "cell_type": "markdown",
   "id": "c9e7a172",
   "metadata": {},
   "source": [
    "# Setting up the environment"
   ]
  },
  {
   "cell_type": "markdown",
   "id": "fbe0df0b",
   "metadata": {},
   "source": [
    "## Import Python packages"
   ]
  },
  {
   "cell_type": "code",
   "execution_count": 197,
   "id": "5f79fc71",
   "metadata": {},
   "outputs": [],
   "source": [
    "import numpy as np\n",
    "import matplotlib.pyplot as plt\n",
    "import seaborn as sns\n",
    "import pandas as pd\n",
    "import pickle\n",
    "\n",
    "# Scikit Learn\n",
    "from sklearn.model_selection import train_test_split\n",
    "from sklearn.metrics import (\n",
    "    f1_score, \n",
    "    accuracy_score, \n",
    "    plot_roc_curve, \n",
    "    classification_report, \n",
    "    confusion_matrix, \n",
    "    plot_confusion_matrix\n",
    ")\n",
    "from sklearn.model_selection import GridSearchCV, RandomizedSearchCV\n",
    "from sklearn.ensemble import RandomForestClassifier\n",
    "from xgboost import XGBClassifier\n",
    "from sklearn.preprocessing import OneHotEncoder\n",
    "from sklearn.neighbors import KNeighborsClassifier\n",
    "\n",
    "import datetime"
   ]
  },
  {
   "cell_type": "markdown",
   "id": "3edea583",
   "metadata": {},
   "source": [
    "## Matplotlib and Pandas configurations"
   ]
  },
  {
   "cell_type": "code",
   "execution_count": 84,
   "id": "e273ae3f",
   "metadata": {},
   "outputs": [],
   "source": [
    "# Seting the default figure size\n",
    "plt.rcParams[\"figure.figsize\"] = (8, 5)\n",
    "\n",
    "# Display all columns with pandas\n",
    "pd.options.display.max_columns = None"
   ]
  },
  {
   "cell_type": "markdown",
   "id": "0dddcc54",
   "metadata": {},
   "source": [
    "## Setting a seed"
   ]
  },
  {
   "cell_type": "code",
   "execution_count": 123,
   "id": "a973f612",
   "metadata": {},
   "outputs": [],
   "source": [
    "RSEED = 42"
   ]
  },
  {
   "cell_type": "markdown",
   "id": "1974d036",
   "metadata": {},
   "source": [
    "## Loading the data"
   ]
  },
  {
   "cell_type": "markdown",
   "id": "f4a28559",
   "metadata": {},
   "source": [
    "Note that the data below is not the raw data but has been preprocessed using the script `raw_convert.py`."
   ]
  },
  {
   "cell_type": "code",
   "execution_count": 195,
   "id": "c30576fd",
   "metadata": {},
   "outputs": [],
   "source": [
    "df = pd.read_csv('data/Kickstarter_preprocessed.csv')"
   ]
  },
  {
   "cell_type": "markdown",
   "id": "717618ad",
   "metadata": {},
   "source": [
    "# Data Cleaning"
   ]
  },
  {
   "cell_type": "code",
   "execution_count": 86,
   "id": "28c76d72",
   "metadata": {},
   "outputs": [
    {
     "name": "stdout",
     "output_type": "stream",
     "text": [
      "<class 'pandas.core.frame.DataFrame'>\n",
      "RangeIndex: 209222 entries, 0 to 209221\n",
      "Data columns (total 76 columns):\n",
      " #   Column                             Non-Null Count   Dtype  \n",
      "---  ------                             --------------   -----  \n",
      " 0   Unnamed: 0                         209222 non-null  int64  \n",
      " 1   backers_count                      209222 non-null  int64  \n",
      " 2   blurb                              209214 non-null  object \n",
      " 3   converted_pledged_amount           209222 non-null  int64  \n",
      " 4   country                            209222 non-null  object \n",
      " 5   created_at                         209222 non-null  int64  \n",
      " 6   currency                           209222 non-null  object \n",
      " 7   currency_symbol                    209222 non-null  object \n",
      " 8   currency_trailing_code             209222 non-null  bool   \n",
      " 9   current_currency                   209222 non-null  object \n",
      " 10  deadline                           209222 non-null  int64  \n",
      " 11  disable_communication              209222 non-null  bool   \n",
      " 12  friends                            300 non-null     object \n",
      " 13  fx_rate                            209222 non-null  float64\n",
      " 14  goal                               209222 non-null  float64\n",
      " 15  id                                 209222 non-null  int64  \n",
      " 16  is_backing                         300 non-null     object \n",
      " 17  is_starrable                       209222 non-null  bool   \n",
      " 18  is_starred                         300 non-null     object \n",
      " 19  launched_at                        209222 non-null  int64  \n",
      " 20  name                               209222 non-null  object \n",
      " 21  permissions                        300 non-null     object \n",
      " 22  photo                              209222 non-null  object \n",
      " 23  pledged                            209222 non-null  float64\n",
      " 24  slug                               209222 non-null  object \n",
      " 25  source_url                         209222 non-null  object \n",
      " 26  spotlight                          209222 non-null  bool   \n",
      " 27  staff_pick                         209222 non-null  bool   \n",
      " 28  state                              209222 non-null  object \n",
      " 29  state_changed_at                   209222 non-null  int64  \n",
      " 30  static_usd_rate                    209222 non-null  float64\n",
      " 31  urls                               209222 non-null  object \n",
      " 32  usd_pledged                        209222 non-null  float64\n",
      " 33  usd_type                           208742 non-null  object \n",
      " 34  id_category                        209222 non-null  int64  \n",
      " 35  name_category                      209222 non-null  object \n",
      " 36  slug_category                      209222 non-null  object \n",
      " 37  position                           209222 non-null  int64  \n",
      " 38  parent_id                          200181 non-null  float64\n",
      " 39  color                              209222 non-null  int64  \n",
      " 40  urls_category                      209222 non-null  object \n",
      " 41  id_creator                         209109 non-null  float64\n",
      " 42  name_creator                       209109 non-null  object \n",
      " 43  is_registered                      0 non-null       float64\n",
      " 44  chosen_currency                    0 non-null       float64\n",
      " 45  avatar                             125499 non-null  object \n",
      " 46  urls_creator                       83610 non-null   object \n",
      " 47  slug_creator                       64014 non-null   object \n",
      " 48  id_location                        209114 non-null  float64\n",
      " 49  name_location                      209114 non-null  object \n",
      " 50  slug_location                      208622 non-null  object \n",
      " 51  short_name                         209114 non-null  object \n",
      " 52  displayable_name                   209114 non-null  object \n",
      " 53  localized_name                     209114 non-null  object \n",
      " 54  country_location                   209106 non-null  object \n",
      " 55  state_location                     209054 non-null  object \n",
      " 56  type                               209114 non-null  object \n",
      " 57  is_root                            209114 non-null  float64\n",
      " 58  urls_location                      209114 non-null  object \n",
      " 59  id_profile                         205528 non-null  float64\n",
      " 60  project_id                         205528 non-null  float64\n",
      " 61  state_profile                      205528 non-null  object \n",
      " 62  state_changed_at_profile           205528 non-null  float64\n",
      " 63  name_profile                       42408 non-null   object \n",
      " 64  blurb_profile                      42138 non-null   object \n",
      " 65  background_color                   15457 non-null   object \n",
      " 66  text_color                         16470 non-null   object \n",
      " 67  link_background_color              18345 non-null   object \n",
      " 68  link_text_color                    3272 non-null    object \n",
      " 69  link_text                          41234 non-null   object \n",
      " 70  link_url                           39752 non-null   object \n",
      " 71  show_feature_image                 205528 non-null  float64\n",
      " 72  background_image_opacity           205528 non-null  float64\n",
      " 73  should_show_feature_image_section  205528 non-null  float64\n",
      " 74  feature_image_attributes           200854 non-null  object \n",
      " 75  background_image_attributes        12863 non-null   object \n",
      "dtypes: bool(5), float64(17), int64(11), object(43)\n",
      "memory usage: 114.3+ MB\n"
     ]
    }
   ],
   "source": [
    "# Getting an overview of the dataset\n",
    "df.info()"
   ]
  },
  {
   "cell_type": "code",
   "execution_count": 196,
   "id": "0293c14e",
   "metadata": {},
   "outputs": [],
   "source": [
    "# Deleting the first column (bears no information)\n",
    "df.drop(['Unnamed: 0'],axis=1,inplace=True);\n",
    "\n",
    "# Rename some columns to have more meaningful names\n",
    "df.rename(columns={'name_category':'category_sub',\n",
    "                   'slug_category':'category',\n",
    "                   'blurb':'description'},\n",
    "          inplace=True)"
   ]
  },
  {
   "cell_type": "markdown",
   "id": "b2c256ce",
   "metadata": {},
   "source": [
    "## Inspecting the target variable (the success of the projects)"
   ]
  },
  {
   "cell_type": "code",
   "execution_count": 88,
   "id": "8b4efa70",
   "metadata": {},
   "outputs": [
    {
     "data": {
      "text/plain": [
       "array(['failed', 'successful', 'canceled', 'live', 'suspended'],\n",
       "      dtype=object)"
      ]
     },
     "execution_count": 88,
     "metadata": {},
     "output_type": "execute_result"
    }
   ],
   "source": [
    "df.state.unique()"
   ]
  },
  {
   "cell_type": "markdown",
   "id": "a970e302",
   "metadata": {},
   "source": [
    "We have found four different categories:\n",
    "- successful\n",
    "- failed\n",
    "- live\n",
    "- suspended\n",
    "\n",
    "We are restricting the analysis on projects which have been finished, therefore we delete all rows of the categories **canceled**, **live** and **suspended**."
   ]
  },
  {
   "cell_type": "code",
   "execution_count": 89,
   "id": "335fdf2c",
   "metadata": {
    "tags": []
   },
   "outputs": [],
   "source": [
    "df = df[df.state.isin(['successful','failed'])]"
   ]
  },
  {
   "cell_type": "code",
   "execution_count": 90,
   "id": "bfc3cfce",
   "metadata": {},
   "outputs": [
    {
     "data": {
      "text/plain": [
       "successful    117465\n",
       "failed         75199\n",
       "Name: state, dtype: int64"
      ]
     },
     "execution_count": 90,
     "metadata": {},
     "output_type": "execute_result"
    }
   ],
   "source": [
    "# Showing the distribution of sucessful and failed projects in the entire dataset\n",
    "df.state.value_counts()"
   ]
  },
  {
   "cell_type": "markdown",
   "id": "ae6c4680",
   "metadata": {},
   "source": [
    "## Date format conversion"
   ]
  },
  {
   "cell_type": "markdown",
   "id": "94cb48e3",
   "metadata": {},
   "source": [
    "The dates are provided in the UNIX time format. For feature engineering and better intuition the date should be in the Pandas datetime format."
   ]
  },
  {
   "cell_type": "code",
   "execution_count": 91,
   "id": "42ce9cd7",
   "metadata": {},
   "outputs": [],
   "source": [
    "time_cols = ['created_at','deadline','state_changed_at','launched_at']\n",
    "df[time_cols] = df[time_cols].applymap(lambda x: datetime.utcfromtimestamp(x))"
   ]
  },
  {
   "cell_type": "markdown",
   "id": "abace314",
   "metadata": {},
   "source": [
    "## Basic Feature Engineering"
   ]
  },
  {
   "cell_type": "markdown",
   "id": "271c55ed",
   "metadata": {},
   "source": [
    "The project descriptions might bear a lot of useful information. Howerver, natural languae processing is not in the scope of this project, so for now we will only include the length of the description as a feature."
   ]
  },
  {
   "cell_type": "code",
   "execution_count": 92,
   "id": "f018074e",
   "metadata": {},
   "outputs": [],
   "source": [
    "df['description_length'] = df['description'].apply(lambda x: len(str(x).split()))"
   ]
  },
  {
   "cell_type": "markdown",
   "id": "a07e71b3",
   "metadata": {},
   "source": [
    "In order to compare the pledge goals, we convert them to USD."
   ]
  },
  {
   "cell_type": "code",
   "execution_count": 93,
   "id": "eccd663a",
   "metadata": {},
   "outputs": [],
   "source": [
    "df = df.eval('usd_goal = static_usd_rate * goal')"
   ]
  },
  {
   "cell_type": "markdown",
   "id": "5de9c088",
   "metadata": {},
   "source": [
    "The duration of the projects as well as their start year and month might also be a good features or a useful variable for visualisations."
   ]
  },
  {
   "cell_type": "code",
   "execution_count": 94,
   "id": "af1bbb6b",
   "metadata": {},
   "outputs": [],
   "source": [
    "# Calculating the duration of project\n",
    "df['duration'] = df['deadline'] - df['launched_at']\n",
    "df['duration_days']=df['duration'].dt.days\n",
    "\n",
    "# Start year and month of the projects\n",
    "df['start_month']= df['launched_at'].dt.month\n",
    "df['start_year']= df['launched_at'].dt.year"
   ]
  },
  {
   "cell_type": "markdown",
   "id": "c20a3366",
   "metadata": {},
   "source": [
    "The project category has to be split in super- and subcategories."
   ]
  },
  {
   "cell_type": "code",
   "execution_count": 95,
   "id": "3efb226c",
   "metadata": {},
   "outputs": [],
   "source": [
    "# Splitting the text in column category, keeping only the left part of the string\n",
    "df.category = df.category.apply(lambda x: x.split('/')[0])\n",
    "\n",
    "# change to lower case string\n",
    "df.category_sub = df.category_sub.str.lower()"
   ]
  },
  {
   "cell_type": "markdown",
   "id": "95cd2188",
   "metadata": {},
   "source": [
    "Some variables need to be defined as categorical variables, even if they contain numbers (e.g. start month)."
   ]
  },
  {
   "cell_type": "code",
   "execution_count": 96,
   "id": "d2441014",
   "metadata": {},
   "outputs": [],
   "source": [
    "categorical_features = [\n",
    "    'currency', \n",
    "    'country', \n",
    "    'staff_pick', \n",
    "    'category', \n",
    "    'category_sub',\n",
    "    'start_month'\n",
    "]"
   ]
  },
  {
   "cell_type": "code",
   "execution_count": 100,
   "id": "034ba388",
   "metadata": {},
   "outputs": [],
   "source": [
    "# Convert strings and numbers to categories\n",
    "df[categorical_features] = df[categorical_features].apply(lambda x: x.astype('category'))\n",
    "# Convert strings to numbers\n",
    "df[categorical_features] = df[categorical_features].apply(lambda x: x.cat.codes)\n",
    "# Convert numbers to categories\n",
    "df[categorical_features] = df[categorical_features].apply(lambda x: x.astype('category'))"
   ]
  },
  {
   "cell_type": "code",
   "execution_count": 101,
   "id": "1c0906fc",
   "metadata": {},
   "outputs": [
    {
     "name": "stdout",
     "output_type": "stream",
     "text": [
      "<class 'pandas.core.frame.DataFrame'>\n",
      "Int64Index: 192664 entries, 0 to 209221\n",
      "Data columns (total 8 columns):\n",
      " #   Column              Non-Null Count   Dtype   \n",
      "---  ------              --------------   -----   \n",
      " 0   description_length  192664 non-null  int64   \n",
      " 1   duration_days       192664 non-null  int64   \n",
      " 2   usd_goal            192664 non-null  float64 \n",
      " 3   country             192664 non-null  category\n",
      " 4   staff_pick          192664 non-null  category\n",
      " 5   category            192664 non-null  category\n",
      " 6   category_sub        192664 non-null  category\n",
      " 7   start_month         192664 non-null  category\n",
      "dtypes: category(5), float64(1), int64(2)\n",
      "memory usage: 7.0 MB\n"
     ]
    }
   ],
   "source": [
    "df[features].info()"
   ]
  },
  {
   "cell_type": "markdown",
   "id": "8be9d696",
   "metadata": {},
   "source": [
    "# Data exploration"
   ]
  },
  {
   "cell_type": "markdown",
   "id": "00e3751e",
   "metadata": {},
   "source": [
    "### Data preprocessing for the plots below"
   ]
  },
  {
   "cell_type": "code",
   "execution_count": 176,
   "id": "291d0d6c",
   "metadata": {},
   "outputs": [],
   "source": [
    "pledged_per_year_month = df.groupby(['start_year','start_month']).sum().usd_pledged.reset_index()\n",
    "pledged_per_year = df.groupby(['start_year']).sum()\n",
    "\n",
    "pledged_per_year.loc[2009,'usd_pledged']\n",
    "\n",
    "for i in range(0,pledged_per_year_month.shape[0]):\n",
    "    pledged_per_year_month.loc[i,'usd_pledged'] = pledged_per_year_month.loc[i,'usd_pledged'] / pledged_per_year.loc[pledged_per_year_month.loc[i,'start_year'],'usd_pledged']"
   ]
  },
  {
   "cell_type": "code",
   "execution_count": 177,
   "id": "e5c4641d",
   "metadata": {},
   "outputs": [],
   "source": [
    "durations_list = sorted(list(df.duration_days.unique()))\n",
    "duration_counts = df.duration_days.value_counts()\n",
    "\n",
    "countries_list = list(df.country.unique())\n",
    "\n",
    "categories_list = list(df.category.unique())"
   ]
  },
  {
   "cell_type": "code",
   "execution_count": 178,
   "id": "cec46094",
   "metadata": {},
   "outputs": [],
   "source": [
    "success_per_duration_day = [len(df.query('state in [\"successful\"] & duration_days==@i'))/len(df.query('state in [\"successful\",\"failed\"] & duration_days==@i')) for i in durations_list]\n",
    "\n",
    "success_per_country = [[round(len(df.query('state in [\"successful\"] & country==@i'))/len(df.query('state in [\"successful\",\"failed\"] & country==@i')),5), i] for i in countries_list]\n",
    "success_per_country = np.array(sorted(success_per_country, key= lambda x: x[0]))\n",
    "\n",
    "success_per_category = [[len(df.query('state in [\"successful\"] & category==@i'))/len(df.query('state in [\"successful\",\"failed\"] & category==@i')), i] for i in categories_list]\n",
    "success_per_category = np.array(sorted(success_per_category, key= lambda x: x[0]))"
   ]
  },
  {
   "cell_type": "markdown",
   "id": "c865c59e",
   "metadata": {},
   "source": [
    "### Success in projects with and without staff pick"
   ]
  },
  {
   "cell_type": "code",
   "execution_count": 179,
   "id": "ad52654c",
   "metadata": {},
   "outputs": [
    {
     "data": {
      "image/png": "[encoded data removed]",
      "text/plain": [
       "<Figure size 448.125x360 with 1 Axes>"
      ]
     },
     "metadata": {
      "needs_background": "light"
     },
     "output_type": "display_data"
    }
   ],
   "source": [
    "ax = sns.catplot(data=df.query('state in [\"successful\",\"failed\"]'), x='staff_pick', hue='state', kind='count')\n",
    "ax.fig.subplots_adjust(top=0.9)\n",
    "ax.fig.suptitle(\"Amount of successful/failed Campaigns based on staff_pick\");"
   ]
  },
  {
   "cell_type": "markdown",
   "id": "7cf4b112",
   "metadata": {},
   "source": [
    "### Success rate based on the project duration"
   ]
  },
  {
   "cell_type": "code",
   "execution_count": 180,
   "id": "6aad5613",
   "metadata": {},
   "outputs": [],
   "source": [
    "window_size = 2\n",
    "\n",
    "rolling_avg = pd.Series(success_per_duration_day[0:])\n",
    "windows = rolling_avg.rolling(window_size)\n",
    "moving_av = windows.mean()\n",
    "\n",
    "moving_av_list = moving_av.tolist()\n",
    "without_nans = moving_av_list[window_size - 1:]"
   ]
  },
  {
   "cell_type": "code",
   "execution_count": 181,
   "id": "d7f529d8",
   "metadata": {},
   "outputs": [
    {
     "data": {
      "text/plain": [
       "Text(0, 0.5, 'Success rate')"
      ]
     },
     "execution_count": 181,
     "metadata": {},
     "output_type": "execute_result"
    },
    {
     "data": {
      "image/png": "[encoded data removed]",
      "text/plain": [
       "<Figure size 576x360 with 1 Axes>"
      ]
     },
     "metadata": {
      "needs_background": "light"
     },
     "output_type": "display_data"
    }
   ],
   "source": [
    "import matplotlib.pyplot as plt\n",
    "plt.plot(range(0,len(without_nans)), without_nans)\n",
    "plt.xlabel('Duration of Backing Period in Days')\n",
    "plt.ylabel('Success rate')"
   ]
  },
  {
   "cell_type": "markdown",
   "id": "9386a07c",
   "metadata": {},
   "source": [
    "### Success rate based on the coarse category of the project"
   ]
  },
  {
   "cell_type": "code",
   "execution_count": 182,
   "id": "41dd9833",
   "metadata": {},
   "outputs": [
    {
     "data": {
      "image/png": "[encoded data removed]",
      "text/plain": [
       "<Figure size 576x360 with 1 Axes>"
      ]
     },
     "metadata": {
      "needs_background": "light"
     },
     "output_type": "display_data"
    }
   ],
   "source": [
    "fig, ax = plt.subplots()\n",
    "plt.xticks(rotation=45, ha='right')\n",
    "plt.ylabel('Success rate')\n",
    "plt.xlabel('Main Category')\n",
    "plt.ylim(0,1)\n",
    "rec = ax.bar(success_per_category[:,1], height=success_per_category[:,0].astype(float))\n",
    "for p in ax.patches:\n",
    "    ax.annotate(\"%.2f\" % p.get_height(), (p.get_x() + p.get_width() / 2., p.get_height()), ha='center', va='center', xytext=(0, 15), rotation=90, textcoords='offset points')"
   ]
  },
  {
   "cell_type": "markdown",
   "id": "32661400",
   "metadata": {},
   "source": [
    "### Success rate based on the country from where the campaign has been started"
   ]
  },
  {
   "cell_type": "code",
   "execution_count": 183,
   "id": "58138655",
   "metadata": {},
   "outputs": [
    {
     "data": {
      "image/png": "[encoded data removed]",
      "text/plain": [
       "<Figure size 576x360 with 1 Axes>"
      ]
     },
     "metadata": {
      "needs_background": "light"
     },
     "output_type": "display_data"
    }
   ],
   "source": [
    "fig, ax = plt.subplots()\n",
    "plt.xticks(rotation=45)\n",
    "plt.xlabel('Country where campaign is located')\n",
    "plt.ylabel('Percantage of successful campaigns')\n",
    "plt.ylim(0,1)\n",
    "rec = ax.bar(success_per_country[:,1], height=success_per_country[:,0].astype(float))\n",
    "for p in ax.patches:\n",
    "    ax.annotate(\"%.2f\" % p.get_height(), (p.get_x() + p.get_width() / 2., p.get_height()), ha='center', va='center', xytext=(0, 15), rotation=90, textcoords='offset points')\n"
   ]
  },
  {
   "cell_type": "markdown",
   "id": "29202bac",
   "metadata": {},
   "source": [
    "### Success rate based on the month when the campaign was launched"
   ]
  },
  {
   "cell_type": "code",
   "execution_count": 184,
   "id": "940bb722",
   "metadata": {},
   "outputs": [
    {
     "data": {
      "image/png": "[encoded data removed]",
      "text/plain": [
       "<Figure size 576x360 with 1 Axes>"
      ]
     },
     "metadata": {
      "needs_background": "light"
     },
     "output_type": "display_data"
    }
   ],
   "source": [
    "fig, ax = plt.subplots()\n",
    "plt.xlim(-0.5,11.5)\n",
    "plt.xticks([0,2,4,6,8,10],['January','March','May','July','September','November'],rotation=45)\n",
    "rec = ax.bar(x=range(0,12), height=pledged_per_year_month.groupby('start_month').mean().reset_index().usd_pledged*100, label='Monthly pledge in %')\n",
    "ax.plot(np.linspace(-0.5,11.5,num=13),np.mean(pledged_per_year_month.groupby('start_month').mean().reset_index().usd_pledged*100)*np.ones([13,1]), color='orange', label='Average amount pledged')\n",
    "plt.legend()\n",
    "\n",
    "\n",
    "from scipy.interpolate import interp1d\n",
    "from scipy import interpolate\n",
    "\n",
    "#tck = interpolate.splrep(x=range(0,12), y=pledged_per_year_month.groupby('start_month').mean().reset_index().usd_pledged, s=0)\n",
    "#xnew = np.linspace(0, 11, num=100, endpoint=True)\n",
    "#ynew = interpolate.splev(xnew, tck, der=0)\n",
    "\n",
    "#f2 = interp1d(x=range(0,12), y=pledged_per_year_month.groupby('start_month').mean().reset_index().usd_pledged, kind='cubic')\n",
    "#plt.plot(np.linspace(0, 10, num=100, endpoint=True), f2(np.linspace(0, 10, num=100, endpoint=True)))\n",
    "\n",
    "#plt.plot(xnew,ynew)\n",
    "\n"
   ]
  },
  {
   "cell_type": "markdown",
   "id": "a966067e",
   "metadata": {},
   "source": [
    "# Feature selection\n",
    "\n",
    "We judged not all features to be relevant for predicting the success of the projects. The relevant features are included below."
   ]
  },
  {
   "cell_type": "code",
   "execution_count": 102,
   "id": "1f278882",
   "metadata": {},
   "outputs": [],
   "source": [
    "features = ['description_length','duration_days','usd_goal','country','staff_pick','category','category_sub','start_month']\n",
    "target = ['state']"
   ]
  },
  {
   "cell_type": "markdown",
   "id": "ace1f917",
   "metadata": {},
   "source": [
    "## Inter-feature correlation"
   ]
  },
  {
   "cell_type": "code",
   "execution_count": 103,
   "id": "aae824e3",
   "metadata": {},
   "outputs": [
    {
     "data": {
      "image/png": "[encoded data removed]",
      "text/plain": [
       "<Figure size 576x360 with 2 Axes>"
      ]
     },
     "metadata": {
      "needs_background": "light"
     },
     "output_type": "display_data"
    }
   ],
   "source": [
    "# Calculating the correlation matrix \n",
    "feat = df[features]\n",
    "corr = feat.corr()\n",
    "\n",
    "# Creating a plot\n",
    "fig, ax = plt.subplots()\n",
    "sns.heatmap(corr, xticklabels=feat.columns, yticklabels=feat.columns, annot=True,cmap='cividis')\n",
    "\n",
    "fig.text(s=\"Correlation factor Heat Map\",x=.5,y=0.95, fontsize = 24,ha='center', va='center')\n",
    "plt.xticks(rotation=45, fontsize=14, ha='right')\n",
    "plt.yticks(rotation=0, fontsize=14);"
   ]
  },
  {
   "cell_type": "markdown",
   "id": "ed2ab0ed",
   "metadata": {},
   "source": [
    "Since only a few variables are numerical in their nature, for most interactions between variables, it is not possible to calculate correlation coefficients."
   ]
  },
  {
   "cell_type": "markdown",
   "id": "0478e4c7",
   "metadata": {},
   "source": [
    "## Train-test split"
   ]
  },
  {
   "cell_type": "code",
   "execution_count": 104,
   "id": "28e399fa",
   "metadata": {},
   "outputs": [],
   "source": [
    "X = df[features]\n",
    "y = df[target]"
   ]
  },
  {
   "cell_type": "code",
   "execution_count": 105,
   "id": "0e5538e2",
   "metadata": {},
   "outputs": [
    {
     "name": "stdout",
     "output_type": "stream",
     "text": [
      "Train set: (144498, 8) (144498, 1)\n",
      "Test set:  (48166, 8) (48166, 1)\n"
     ]
    }
   ],
   "source": [
    "X_train, X_test, y_train, y_test = train_test_split(X, y, test_size=0.25, random_state=42, stratify=y)\n",
    "print ('Train set:', X_train.shape, y_train.shape)\n",
    "print ('Test set: ', X_test.shape , y_test.shape)"
   ]
  },
  {
   "cell_type": "markdown",
   "id": "3abc140a",
   "metadata": {},
   "source": [
    "Scikit Learn expects the labels in a different format (vector) as the features (matrix). Therefore, we are converting th labels accordingly."
   ]
  },
  {
   "cell_type": "code",
   "execution_count": 106,
   "id": "448a6668",
   "metadata": {},
   "outputs": [
    {
     "name": "stdout",
     "output_type": "stream",
     "text": [
      "Train set: (144498, 8) (144498,)\n",
      "Test set:  (48166, 8) (48166,)\n"
     ]
    }
   ],
   "source": [
    "y_train = y_train.values.ravel()\n",
    "y_test = y_test.values.ravel()\n",
    "print ('Train set:', X_train.shape, y_train.shape)\n",
    "print ('Test set: ', X_test.shape , y_test.shape)"
   ]
  },
  {
   "cell_type": "markdown",
   "id": "be6791b0",
   "metadata": {},
   "source": [
    "## One-hot encoding"
   ]
  },
  {
   "cell_type": "code",
   "execution_count": 148,
   "id": "31b2e452",
   "metadata": {},
   "outputs": [],
   "source": [
    "enc = OneHotEncoder(drop='first').fit(pd.concat([X_train, X_test], axis=0))\n",
    "X_train_enc = enc.transform(X_train)\n",
    "X_test_enc = enc.transform(X_test)"
   ]
  },
  {
   "cell_type": "markdown",
   "id": "a8882f17",
   "metadata": {},
   "source": [
    "# Predictive modelling"
   ]
  },
  {
   "cell_type": "markdown",
   "id": "befc09bf",
   "metadata": {},
   "source": [
    "## Random forest classifier"
   ]
  },
  {
   "cell_type": "code",
   "execution_count": 78,
   "id": "e149cb96",
   "metadata": {},
   "outputs": [
    {
     "name": "stdout",
     "output_type": "stream",
     "text": [
      "<class 'pandas.core.frame.DataFrame'>\n",
      "Int64Index: 144498 entries, 107486 to 54446\n",
      "Data columns (total 8 columns):\n",
      " #   Column              Non-Null Count   Dtype   \n",
      "---  ------              --------------   -----   \n",
      " 0   description_length  144498 non-null  int64   \n",
      " 1   duration_days       144498 non-null  int64   \n",
      " 2   usd_goal            144498 non-null  float64 \n",
      " 3   country             144498 non-null  category\n",
      " 4   staff_pick          144498 non-null  category\n",
      " 5   category            144498 non-null  category\n",
      " 6   category_sub        144498 non-null  category\n",
      " 7   start_month         144498 non-null  category\n",
      "dtypes: category(5), float64(1), int64(2)\n",
      "memory usage: 5.2 MB\n"
     ]
    }
   ],
   "source": [
    "X_train.info()"
   ]
  },
  {
   "cell_type": "code",
   "execution_count": 107,
   "id": "b49f7f7c",
   "metadata": {},
   "outputs": [
    {
     "data": {
      "text/plain": [
       "RandomForestClassifier(max_depth=20, max_features=0.5, min_samples_split=5,\n",
       "                       n_jobs=-1)"
      ]
     },
     "execution_count": 107,
     "metadata": {},
     "output_type": "execute_result"
    }
   ],
   "source": [
    "rfc = RandomForestClassifier(max_depth=20,\n",
    "                             max_features=0.5, \n",
    "                             min_samples_split=5, \n",
    "                             n_jobs=-1)\n",
    "rfc.fit(X_train,y_train)"
   ]
  },
  {
   "cell_type": "markdown",
   "id": "a48e154d",
   "metadata": {},
   "source": [
    "Predict the target values for the test data"
   ]
  },
  {
   "cell_type": "code",
   "execution_count": 108,
   "id": "11542815",
   "metadata": {},
   "outputs": [],
   "source": [
    "y_pred = rfc.predict(X_test)"
   ]
  },
  {
   "cell_type": "markdown",
   "id": "d5ca9163",
   "metadata": {},
   "source": [
    "Predict the target values for the train data"
   ]
  },
  {
   "cell_type": "code",
   "execution_count": 109,
   "id": "6dc03cb5",
   "metadata": {},
   "outputs": [],
   "source": [
    "y_pred_train = rfc.predict(X_train)"
   ]
  },
  {
   "cell_type": "markdown",
   "id": "601edb2f",
   "metadata": {},
   "source": [
    "### Print the classifictaion report and the confusion matrix on the test data"
   ]
  },
  {
   "cell_type": "code",
   "execution_count": 110,
   "id": "488744bc",
   "metadata": {},
   "outputs": [
    {
     "name": "stdout",
     "output_type": "stream",
     "text": [
      "              precision    recall  f1-score   support\n",
      "\n",
      "      failed       0.77      0.71      0.74     18800\n",
      "  successful       0.82      0.87      0.84     29366\n",
      "\n",
      "    accuracy                           0.81     48166\n",
      "   macro avg       0.80      0.79      0.79     48166\n",
      "weighted avg       0.80      0.81      0.80     48166\n",
      "\n"
     ]
    }
   ],
   "source": [
    "print(classification_report(y_test,y_pred))"
   ]
  },
  {
   "cell_type": "markdown",
   "id": "7391422b",
   "metadata": {},
   "source": [
    "### Print the classifictaion report and the confusion matrix on the training data"
   ]
  },
  {
   "cell_type": "code",
   "execution_count": 111,
   "id": "21180d93",
   "metadata": {},
   "outputs": [
    {
     "name": "stdout",
     "output_type": "stream",
     "text": [
      "              precision    recall  f1-score   support\n",
      "\n",
      "      failed       0.92      0.87      0.89     56399\n",
      "  successful       0.92      0.95      0.93     88099\n",
      "\n",
      "    accuracy                           0.92    144498\n",
      "   macro avg       0.92      0.91      0.91    144498\n",
      "weighted avg       0.92      0.92      0.92    144498\n",
      "\n"
     ]
    }
   ],
   "source": [
    "print(classification_report(y_train,y_pred_train))"
   ]
  },
  {
   "cell_type": "code",
   "execution_count": 112,
   "id": "d22b3c36",
   "metadata": {},
   "outputs": [],
   "source": [
    "def cm_plot(y_test,y_pred):\n",
    "    cm = confusion_matrix(y_test,y_pred)\n",
    "    # define figure size\n",
    "    fig, ax = plt.subplots()\n",
    "    # plot heatmap\n",
    "    sns.heatmap(cm, cmap='cividis',ax=ax, annot=True, fmt='d', linewidths=.5)\n",
    "    # adjust figure\n",
    "    ax.set_xticklabels(['failed','succsessfull'])\n",
    "    ax.set_yticklabels(['failed','succsessfull'])\n",
    "    plt.xticks(rotation=45, fontsize=12)\n",
    "    plt.yticks(rotation=45, fontsize=12)\n",
    "    plt.xlabel('predicted values',fontsize=20)\n",
    "    plt.ylabel('true values',fontsize=20);"
   ]
  },
  {
   "cell_type": "code",
   "execution_count": 113,
   "id": "e4d9352b",
   "metadata": {},
   "outputs": [
    {
     "data": {
      "image/png": "[encoded data removed]",
      "text/plain": [
       "<Figure size 576x360 with 2 Axes>"
      ]
     },
     "metadata": {
      "needs_background": "light"
     },
     "output_type": "display_data"
    }
   ],
   "source": [
    "cm_plot(y_test,y_pred)"
   ]
  },
  {
   "cell_type": "markdown",
   "id": "1c67f9e8",
   "metadata": {},
   "source": [
    "### Take a look on feature importance"
   ]
  },
  {
   "cell_type": "code",
   "execution_count": 117,
   "id": "ce5a34c7",
   "metadata": {},
   "outputs": [],
   "source": [
    "def plot_feat_importance(model):\n",
    "    # calculate importance\n",
    "    importance = model.feature_importances_\n",
    "    # set axis, create figure\n",
    "    x_axis = list(range(len(importance)))\n",
    "    fig, ax = plt.subplots()\n",
    "    # plot figure\n",
    "    plt.bar(x_axis, importance, color=['grey','lightblue'])\n",
    "    # add Title\n",
    "    fig.text(s=\"Feature importance\",\n",
    "             x=.5,y=0.95,\n",
    "             fontsize = 20,\n",
    "             ha='center', \n",
    "             va='center')\n",
    "    # edit xticks\n",
    "    plt.xticks(x_axis, \n",
    "               features, \n",
    "               rotation=45, \n",
    "               fontsize=14, \n",
    "               ha='right')\n",
    "    #plt.yticks(rotation=0, fontsize=14);\n",
    "    plt.yticks([])\n",
    "    # add value inside the bars\n",
    "    for p in ax.patches:\n",
    "        ax.annotate(\"%.2f\" % p.get_height(), \n",
    "                    (p.get_x() + p.get_width() / 2., \n",
    "                     p.get_height()), \n",
    "                    ha='center', \n",
    "                    va='center', \n",
    "                    xytext=(0, -10), \n",
    "                    textcoords='offset points')"
   ]
  },
  {
   "cell_type": "code",
   "execution_count": 118,
   "id": "f197541b",
   "metadata": {},
   "outputs": [
    {
     "data": {
      "image/png": "[encoded data removed]",
      "text/plain": [
       "<Figure size 576x360 with 1 Axes>"
      ]
     },
     "metadata": {
      "needs_background": "light"
     },
     "output_type": "display_data"
    }
   ],
   "source": [
    "plot_feat_importance(rfc)"
   ]
  },
  {
   "cell_type": "markdown",
   "id": "8b1f1dc0",
   "metadata": {},
   "source": [
    "### Plot ROC curve"
   ]
  },
  {
   "cell_type": "code",
   "execution_count": 119,
   "id": "58ac7027",
   "metadata": {},
   "outputs": [
    {
     "data": {
      "image/png": "[encoded data removed]",
      "text/plain": [
       "<Figure size 576x360 with 1 Axes>"
      ]
     },
     "metadata": {
      "needs_background": "light"
     },
     "output_type": "display_data"
    }
   ],
   "source": [
    "plot_roc_curve(rfc, X_test, y_test);"
   ]
  },
  {
   "cell_type": "markdown",
   "id": "1d49887c",
   "metadata": {},
   "source": [
    "## Random forest classifier - optimization"
   ]
  },
  {
   "cell_type": "code",
   "execution_count": 125,
   "id": "1da0b226",
   "metadata": {},
   "outputs": [
    {
     "name": "stdout",
     "output_type": "stream",
     "text": [
      "Fitting 3 folds for each of 24 candidates, totalling 72 fits\n"
     ]
    },
    {
     "data": {
      "text/plain": [
       "GridSearchCV(cv=3, estimator=RandomForestClassifier(random_state=42), n_jobs=-1,\n",
       "             param_grid={'max_depth': [None, 5, 20, 50],\n",
       "                         'max_features': ['sqrt', None, 0.5],\n",
       "                         'min_samples_split': [5, 10]},\n",
       "             scoring='roc_auc', verbose=5)"
      ]
     },
     "execution_count": 125,
     "metadata": {},
     "output_type": "execute_result"
    }
   ],
   "source": [
    "# Hyperparameter grid\n",
    "param_grid = {\n",
    "    #'n_estimators': [100, 150, 250, 300],\n",
    "    'max_depth': [None] +  [5,20,50],\n",
    "    'max_features': ['sqrt', None, 0.5],\n",
    "    #'max_leaf_nodes': [None] + [10, 50, 200],\n",
    "    'min_samples_split': [5, 10]\n",
    "    #'bootstrap': [True, False]\n",
    "}\n",
    "\n",
    "# Estimator for use in random search\n",
    "estimator = RandomForestClassifier(random_state = RSEED)\n",
    "\n",
    "# Create the random search model\n",
    "rs = GridSearchCV(estimator, param_grid, n_jobs = -1, \n",
    "                        scoring = 'roc_auc', cv = 3, \n",
    "                        verbose = 5)\n",
    "\n",
    "# Fit \n",
    "rs.fit(X_train, y_train)"
   ]
  },
  {
   "cell_type": "markdown",
   "id": "15cbe318",
   "metadata": {},
   "source": [
    "### Best parameters"
   ]
  },
  {
   "cell_type": "code",
   "execution_count": 129,
   "id": "d8187857",
   "metadata": {},
   "outputs": [
    {
     "data": {
      "text/plain": [
       "{'max_depth': 20, 'max_features': None, 'min_samples_split': 5}"
      ]
     },
     "execution_count": 129,
     "metadata": {},
     "output_type": "execute_result"
    }
   ],
   "source": [
    "rs.best_params_"
   ]
  },
  {
   "cell_type": "code",
   "execution_count": 130,
   "id": "65ca61e1",
   "metadata": {},
   "outputs": [],
   "source": [
    "opt_model = rs.best_estimator_\n",
    "y_pred_opt = opt_model.predict(X_test)"
   ]
  },
  {
   "cell_type": "markdown",
   "id": "3b093cd9",
   "metadata": {},
   "source": [
    "### Compare base model and optimized model, state nodes and maximum depth"
   ]
  },
  {
   "cell_type": "code",
   "execution_count": 141,
   "id": "ff1ee47b",
   "metadata": {},
   "outputs": [],
   "source": [
    "def rf_properties(model):\n",
    "    n_nodes=[]\n",
    "    max_depths=[]\n",
    "    for ind_tree in model.estimators_:\n",
    "        n_nodes.append(ind_tree.tree_.node_count)\n",
    "        max_depths.append(ind_tree.tree_.max_depth)\n",
    "    print(f'Average number of nodes {int(np.mean(n_nodes))}')\n",
    "    print(f'Average maximum depth {int(np.mean(max_depths))}')"
   ]
  },
  {
   "cell_type": "code",
   "execution_count": 143,
   "id": "56dfbe96",
   "metadata": {},
   "outputs": [
    {
     "name": "stdout",
     "output_type": "stream",
     "text": [
      "Average number of nodes 18521\n",
      "Average maximum depth 20\n"
     ]
    }
   ],
   "source": [
    "# Properties of the un-optimized random forest classifier\n",
    "rf_properties(rfc)"
   ]
  },
  {
   "cell_type": "code",
   "execution_count": 145,
   "id": "08c460a1",
   "metadata": {},
   "outputs": [
    {
     "name": "stdout",
     "output_type": "stream",
     "text": [
      "Average number of nodes 16760\n",
      "Average maximum depth 20\n"
     ]
    }
   ],
   "source": [
    "# Properties of the optimized random forest classifier\n",
    "rf_properties(opt_model)"
   ]
  },
  {
   "cell_type": "markdown",
   "id": "ef3eba10",
   "metadata": {},
   "source": [
    "### Plot ROC curve"
   ]
  },
  {
   "cell_type": "code",
   "execution_count": 146,
   "id": "dd929b22",
   "metadata": {},
   "outputs": [
    {
     "data": {
      "image/png": "[encoded data removed]",
      "text/plain": [
       "<Figure size 576x360 with 1 Axes>"
      ]
     },
     "metadata": {
      "needs_background": "light"
     },
     "output_type": "display_data"
    }
   ],
   "source": [
    "ax = plt.gca()\n",
    "plot_roc_curve(opt_model, X_test, y_test,ax=ax);\n",
    "plot_roc_curve(rfc, X_test, y_test,ax=ax);"
   ]
  },
  {
   "cell_type": "markdown",
   "id": "97102848",
   "metadata": {},
   "source": [
    "### Saving the optimized model"
   ]
  },
  {
   "cell_type": "code",
   "execution_count": 189,
   "id": "7900f70b",
   "metadata": {},
   "outputs": [],
   "source": [
    "filename = 'optimized_random_forest_model.pickle'\n",
    "with open(filename, 'wb') as file:\n",
    "    pickle.dump(opt_model, file)"
   ]
  },
  {
   "cell_type": "markdown",
   "id": "04a95da6",
   "metadata": {},
   "source": [
    "### Loading the model again"
   ]
  },
  {
   "cell_type": "code",
   "execution_count": 190,
   "id": "652bcc22",
   "metadata": {},
   "outputs": [],
   "source": [
    "with open(filename, 'rb') as file:\n",
    "    opt_model_loaded = pickle.load(file)"
   ]
  },
  {
   "cell_type": "code",
   "execution_count": 193,
   "id": "3cb1c3db",
   "metadata": {},
   "outputs": [
    {
     "data": {
      "text/plain": [
       "RandomForestClassifier(max_depth=20, max_features=None, min_samples_split=5,\n",
       "                       random_state=42)"
      ]
     },
     "execution_count": 193,
     "metadata": {},
     "output_type": "execute_result"
    }
   ],
   "source": [
    "opt_model"
   ]
  },
  {
   "cell_type": "code",
   "execution_count": 192,
   "id": "a816b9a6",
   "metadata": {},
   "outputs": [
    {
     "data": {
      "text/plain": [
       "RandomForestClassifier(max_depth=20, max_features=None, min_samples_split=5,\n",
       "                       random_state=42)"
      ]
     },
     "execution_count": 192,
     "metadata": {},
     "output_type": "execute_result"
    }
   ],
   "source": [
    "opt_model_loaded"
   ]
  },
  {
   "cell_type": "markdown",
   "id": "449b3e65",
   "metadata": {},
   "source": [
    "## XGBoost Classifier"
   ]
  },
  {
   "cell_type": "markdown",
   "id": "b789e453",
   "metadata": {},
   "source": [
    "For the XGBoost Classifier we need our features to be 'one-hot encoded', as there is no support for categorical variables (see above)."
   ]
  },
  {
   "cell_type": "code",
   "execution_count": 151,
   "id": "4c7436e4",
   "metadata": {},
   "outputs": [],
   "source": [
    "xgb_model = XGBClassifier()"
   ]
  },
  {
   "cell_type": "code",
   "execution_count": 153,
   "id": "eb79f9ae",
   "metadata": {},
   "outputs": [
    {
     "name": "stderr",
     "output_type": "stream",
     "text": [
      "/home/mario/neuefische/ML_Classification_Kickstarter/.venv/lib/python3.8/site-packages/xgboost/sklearn.py:1146: UserWarning: The use of label encoder in XGBClassifier is deprecated and will be removed in a future release. To remove this warning, do the following: 1) Pass option use_label_encoder=False when constructing XGBClassifier object; and 2) Encode your labels (y) as integers starting with 0, i.e. 0, 1, 2, ..., [num_class - 1].\n",
      "  warnings.warn(label_encoder_deprecation_msg, UserWarning)\n"
     ]
    },
    {
     "name": "stdout",
     "output_type": "stream",
     "text": [
      "[11:38:54] WARNING: ../src/learner.cc:1095: Starting in XGBoost 1.3.0, the default evaluation metric used with the objective 'binary:logistic' was changed from 'error' to 'logloss'. Explicitly set eval_metric if you'd like to restore the old behavior.\n"
     ]
    },
    {
     "data": {
      "text/plain": [
       "XGBClassifier(base_score=0.5, booster='gbtree', colsample_bylevel=1,\n",
       "              colsample_bynode=1, colsample_bytree=1, gamma=0, gpu_id=-1,\n",
       "              importance_type='gain', interaction_constraints='',\n",
       "              learning_rate=0.300000012, max_delta_step=0, max_depth=6,\n",
       "              min_child_weight=1, missing=nan, monotone_constraints='()',\n",
       "              n_estimators=100, n_jobs=8, num_parallel_tree=1, random_state=0,\n",
       "              reg_alpha=0, reg_lambda=1, scale_pos_weight=1, subsample=1,\n",
       "              tree_method='exact', validate_parameters=1, verbosity=None)"
      ]
     },
     "execution_count": 153,
     "metadata": {},
     "output_type": "execute_result"
    }
   ],
   "source": [
    "xgb_model.fit(X_train_enc, y_train)"
   ]
  },
  {
   "cell_type": "code",
   "execution_count": 154,
   "id": "9102a6be",
   "metadata": {},
   "outputs": [],
   "source": [
    "y_pred = xgb_model.predict(X_test_enc)"
   ]
  },
  {
   "cell_type": "code",
   "execution_count": 155,
   "id": "165c7cd7",
   "metadata": {},
   "outputs": [
    {
     "name": "stdout",
     "output_type": "stream",
     "text": [
      "              precision    recall  f1-score   support\n",
      "\n",
      "      failed       0.70      0.77      0.74     18800\n",
      "  successful       0.84      0.79      0.82     29366\n",
      "\n",
      "    accuracy                           0.78     48166\n",
      "   macro avg       0.77      0.78      0.78     48166\n",
      "weighted avg       0.79      0.78      0.78     48166\n",
      "\n"
     ]
    }
   ],
   "source": [
    "print(classification_report(y_test,y_pred))"
   ]
  },
  {
   "cell_type": "code",
   "execution_count": 158,
   "id": "43f95d94",
   "metadata": {},
   "outputs": [
    {
     "data": {
      "image/png": "[encoded data removed]",
      "text/plain": [
       "<Figure size 576x360 with 2 Axes>"
      ]
     },
     "metadata": {
      "needs_background": "light"
     },
     "output_type": "display_data"
    }
   ],
   "source": [
    "cm_plot(y_test, y_pred)"
   ]
  },
  {
   "cell_type": "markdown",
   "id": "3e3c1822",
   "metadata": {},
   "source": [
    "## XGBoost Classifier"
   ]
  },
  {
   "cell_type": "markdown",
   "id": "5b194577",
   "metadata": {},
   "source": [
    "Optimizing the XGBoost Classifier did not lead to much better predictions and the prediction scores were slightly worse than those from the random forest model."
   ]
  },
  {
   "cell_type": "markdown",
   "id": "2212dde8",
   "metadata": {},
   "source": [
    "## KNN Classifier"
   ]
  },
  {
   "cell_type": "markdown",
   "id": "558813f8",
   "metadata": {},
   "source": [
    "The KNN classifier works much better with 'one-hot encoded' variables because only those can properly represent the true distances between data points."
   ]
  },
  {
   "cell_type": "code",
   "execution_count": 161,
   "id": "682f2de7",
   "metadata": {},
   "outputs": [
    {
     "data": {
      "text/plain": [
       "KNeighborsClassifier()"
      ]
     },
     "execution_count": 161,
     "metadata": {},
     "output_type": "execute_result"
    }
   ],
   "source": [
    "# With default parameters (5 neighbours, uniform weighting, see docstring for more)\n",
    "knn = KNeighborsClassifier()\n",
    "knn.fit(X_train_enc,y_train)"
   ]
  },
  {
   "cell_type": "code",
   "execution_count": 162,
   "id": "1fde31b4",
   "metadata": {},
   "outputs": [],
   "source": [
    "y_pred = knn.predict(X_test_enc)"
   ]
  },
  {
   "cell_type": "markdown",
   "id": "eef506da",
   "metadata": {},
   "source": [
    "Print the classifictaion report and the confusin matrix"
   ]
  },
  {
   "cell_type": "code",
   "execution_count": 163,
   "id": "a1f760e7",
   "metadata": {},
   "outputs": [
    {
     "name": "stdout",
     "output_type": "stream",
     "text": [
      "              precision    recall  f1-score   support\n",
      "\n",
      "      failed       0.67      0.66      0.67     18800\n",
      "  successful       0.79      0.80      0.79     29366\n",
      "\n",
      "    accuracy                           0.74     48166\n",
      "   macro avg       0.73      0.73      0.73     48166\n",
      "weighted avg       0.74      0.74      0.74     48166\n",
      "\n"
     ]
    }
   ],
   "source": [
    "print(classification_report(y_test,y_pred))"
   ]
  },
  {
   "cell_type": "code",
   "execution_count": 164,
   "id": "4c62efd0",
   "metadata": {},
   "outputs": [
    {
     "data": {
      "image/png": "[encoded data removed]",
      "text/plain": [
       "<Figure size 576x360 with 2 Axes>"
      ]
     },
     "metadata": {
      "needs_background": "light"
     },
     "output_type": "display_data"
    }
   ],
   "source": [
    "cm_plot(y_test,y_pred)"
   ]
  },
  {
   "cell_type": "markdown",
   "id": "ca10f0bf",
   "metadata": {},
   "source": [
    "Still to do: find the optimal number of neighbours for the KNN classifier via a grid search."
   ]
  },
  {
   "cell_type": "code",
   "execution_count": null,
   "id": "7f26fae1",
   "metadata": {},
   "outputs": [],
   "source": []
  }
 ],
 "metadata": {
  "interpreter": {
   "hash": "bf5992e0605dd9e6158526ebb6dcf4b92d0de49751f459d287c2f437276e3f64"
  },
  "kernelspec": {
   "display_name": "Python 3",
   "language": "python",
   "name": "python3"
  },
  "language_info": {
   "codemirror_mode": {
    "name": "ipython",
    "version": 3
   },
   "file_extension": ".py",
   "mimetype": "text/x-python",
   "name": "python",
   "nbconvert_exporter": "python",
   "pygments_lexer": "ipython3",
   "version": "3.8.5"
  }
 },
 "nbformat": 4,
 "nbformat_minor": 5
}
