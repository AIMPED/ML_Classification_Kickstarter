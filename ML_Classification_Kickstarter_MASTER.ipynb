{
 "cells": [
  {
   "cell_type": "markdown",
   "id": "ae6e658e-9b97-4441-a1bf-aeb18cf015cd",
   "metadata": {},
   "source": [
    "# Introduction / Description"
   ]
  },
  {
   "cell_type": "code",
   "execution_count": null,
   "id": "3d2c81e2-4490-4c98-bea9-c930fdba1a34",
   "metadata": {},
   "outputs": [],
   "source": []
  },
  {
   "cell_type": "markdown",
   "id": "84e74e0c-6917-4a2a-be66-b7520239f133",
   "metadata": {},
   "source": [
    "# Import Python packages"
   ]
  },
  {
   "cell_type": "code",
   "execution_count": null,
   "id": "d7d1708f-1e5d-45e5-8d12-19a8ee8c89e9",
   "metadata": {},
   "outputs": [],
   "source": [
    "import numpy as np\n",
    "import matplotlib.pyplot as plt\n",
    "import seaborn as sns\n",
    "import pandas as pd"
   ]
  }
 ],
 "metadata": {
  "kernelspec": {
   "display_name": "Python 3",
   "language": "python",
   "name": "python3"
  },
  "language_info": {
   "codemirror_mode": {
    "name": "ipython",
    "version": 3
   },
   "file_extension": ".py",
   "mimetype": "text/x-python",
   "name": "python",
   "nbconvert_exporter": "python",
   "pygments_lexer": "ipython3",
   "version": "3.8.5"
  }
 },
 "nbformat": 4,
 "nbformat_minor": 5
}
