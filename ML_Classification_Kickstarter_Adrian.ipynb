{
 "cells": [
  {
   "cell_type": "code",
   "execution_count": 8,
   "id": "14c6c52e",
   "metadata": {},
   "outputs": [],
   "source": [
    "import pandas as pd\n",
    "import numpy as np\n",
    "import os # doesnt have to be installed with pip\n",
    "\n",
    "import seaborn as sns"
   ]
  },
  {
   "cell_type": "code",
   "execution_count": 2,
   "id": "095720e7",
   "metadata": {},
   "outputs": [
    {
     "output_type": "stream",
     "name": "stdout",
     "text": [
      "data/Kickstarter040.csv\n",
      "(3779, 37)\n",
      "data/Kickstarter054.csv\n",
      "(3793, 37)\n",
      "data/Kickstarter055.csv\n",
      "(965, 37)\n",
      "data/Kickstarter041.csv\n",
      "(3792, 37)\n",
      "data/Kickstarter043.csv\n",
      "(3790, 37)\n",
      "data/Kickstarter042.csv\n",
      "(3786, 37)\n",
      "data/Kickstarter052.csv\n",
      "(3791, 37)\n",
      "data/Kickstarter046.csv\n",
      "(3786, 37)\n",
      "data/Kickstarter047.csv\n",
      "(3788, 37)\n",
      "data/Kickstarter053.csv\n",
      "(3787, 37)\n",
      "data/Kickstarter045.csv\n",
      "(3787, 37)\n",
      "data/Kickstarter051.csv\n",
      "(3780, 37)\n",
      "data/Kickstarter050.csv\n",
      "(3789, 37)\n",
      "data/Kickstarter044.csv\n",
      "(3779, 37)\n",
      "data/Kickstarter023.csv\n",
      "(3780, 37)\n",
      "data/Kickstarter037.csv\n",
      "(3793, 37)\n",
      "data/Kickstarter036.csv\n",
      "(3784, 37)\n",
      "data/Kickstarter022.csv\n",
      "(3778, 37)\n",
      "data/Kickstarter008.csv\n",
      "(3784, 37)\n",
      "data/Kickstarter034.csv\n",
      "(3784, 37)\n",
      "data/Kickstarter020.csv\n",
      "(3786, 37)\n",
      "data/Kickstarter021.csv\n",
      "(3787, 37)\n",
      "data/Kickstarter035.csv\n",
      "(3794, 37)\n",
      "data/Kickstarter009.csv\n",
      "(3790, 37)\n",
      "data/Kickstarter031.csv\n",
      "(3787, 37)\n",
      "data/Kickstarter025.csv\n",
      "(3784, 37)\n",
      "data/Kickstarter019.csv\n",
      "(3791, 37)\n",
      "data/Kickstarter018.csv\n",
      "(3785, 37)\n",
      "data/Kickstarter024.csv\n",
      "(3796, 37)\n",
      "data/Kickstarter030.csv\n",
      "(3793, 37)\n",
      "data/Kickstarter026.csv\n",
      "(3793, 37)\n",
      "data/Kickstarter032.csv\n",
      "(3788, 37)\n",
      "data/Kickstarter033.csv\n",
      "(3780, 37)\n",
      "data/Kickstarter027.csv\n",
      "(3779, 37)\n",
      "data/Kickstarter002.csv\n",
      "(3790, 37)\n",
      "data/Kickstarter016.csv\n",
      "(3782, 37)\n",
      "data/Kickstarter017.csv\n",
      "(3786, 37)\n",
      "data/Kickstarter003.csv\n",
      "(3795, 37)\n",
      "data/Kickstarter029.csv\n",
      "(3785, 37)\n",
      "data/Kickstarter015.csv\n",
      "(3792, 37)\n",
      "data/Kickstarter001.csv\n",
      "(3784, 37)\n",
      "data/Kickstarter000.csv\n",
      "(3779, 37)\n",
      "data/Kickstarter014.csv\n",
      "(3786, 37)\n",
      "data/Kickstarter028.csv\n",
      "(3785, 37)\n",
      "data/Kickstarter010.csv\n",
      "(3786, 37)\n",
      "data/Kickstarter004.csv\n",
      "(3789, 37)\n",
      "data/Kickstarter038.csv\n",
      "(3781, 37)\n",
      "data/Kickstarter039.csv\n",
      "(3786, 37)\n",
      "data/Kickstarter005.csv\n",
      "(3780, 37)\n",
      "data/Kickstarter011.csv\n",
      "(3784, 37)\n",
      "data/Kickstarter007.csv\n",
      "(3788, 37)\n",
      "data/Kickstarter013.csv\n",
      "(3793, 37)\n",
      "data/Kickstarter012.csv\n",
      "(3781, 37)\n",
      "data/Kickstarter006.csv\n",
      "(3786, 37)\n",
      "data/Kickstarter049.csv\n",
      "(3784, 37)\n",
      "data/Kickstarter048.csv\n",
      "(3792, 37)\n"
     ]
    }
   ],
   "source": [
    "# Checking the dimensions of the tables, same columns, same number of rows?\n",
    "directory = 'data/'\n",
    "for filename in os.listdir(directory):\n",
    "    if filename.endswith(\".csv\"):\n",
    "        file_directory = os.path.join(directory, filename)\n",
    "        df = pd.read_csv(file_directory)\n",
    "        print(file_directory)\n",
    "        print(df.shape)"
   ]
  },
  {
   "cell_type": "code",
   "execution_count": 3,
   "id": "3bc85241",
   "metadata": {},
   "outputs": [],
   "source": [
    "def mult_csv_to_one_df(directory: str, axis=0):\n",
    "    '''\n",
    "    Searches a directory (absolute or relative path) for csv files (they need to have the csv ending, comma as delimiter).\n",
    "    Returns a dataframe of concatenated tables. Axis as in Pandas.\n",
    "    Dependencies: pandas and os\n",
    "    '''\n",
    "    first = True\n",
    "    for filename in os.listdir(directory):\n",
    "        if first == True:\n",
    "            first = False\n",
    "            df = pd.read_csv(os.path.join(directory, filename))\n",
    "        else:\n",
    "            if filename.endswith(\".csv\"):\n",
    "                file_directory = os.path.join(directory, filename)\n",
    "                df_next = pd.read_csv(file_directory)\n",
    "                df = pd.concat([df,df_next], axis=axis)\n",
    "    return df"
   ]
  },
  {
   "cell_type": "code",
   "execution_count": 4,
   "id": "519a30c2",
   "metadata": {},
   "outputs": [],
   "source": [
    "df = mult_csv_to_one_df('data/')"
   ]
  },
  {
   "cell_type": "code",
   "execution_count": 7,
   "metadata": {},
   "outputs": [
    {
     "output_type": "execute_result",
     "data": {
      "text/plain": [
       "   backers_count                                              blurb  \\\n",
       "0            315                                      Babalus Shoes   \n",
       "1             47  A colorful Dia de los Muertos themed oracle de...   \n",
       "2            271  Electra's long awaited, eclectic Debut Pop/Roc...   \n",
       "3              3  The Mist of Tribunal is a turn-based card game...   \n",
       "4              3  Livng with a brain impairment, what its like t...   \n",
       "\n",
       "                                            category  \\\n",
       "0  {\"id\":266,\"name\":\"Footwear\",\"slug\":\"fashion/fo...   \n",
       "1  {\"id\":273,\"name\":\"Playing Cards\",\"slug\":\"games...   \n",
       "2  {\"id\":43,\"name\":\"Rock\",\"slug\":\"music/rock\",\"po...   \n",
       "3  {\"id\":273,\"name\":\"Playing Cards\",\"slug\":\"games...   \n",
       "4  {\"id\":48,\"name\":\"Nonfiction\",\"slug\":\"publishin...   \n",
       "\n",
       "   converted_pledged_amount country  created_at  \\\n",
       "0                     28645      US  1541459205   \n",
       "1                      1950      US  1501684093   \n",
       "2                     22404      US  1348987533   \n",
       "3                       165      GB  1483780271   \n",
       "4                      2820      US  1354817071   \n",
       "\n",
       "                                             creator currency currency_symbol  \\\n",
       "0  {\"id\":2094277840,\"name\":\"Lucy Conroy\",\"slug\":\"...      USD               $   \n",
       "1  {\"id\":723886115,\"name\":\"Lisa Vollrath\",\"slug\":...      USD               $   \n",
       "2  {\"id\":323849677,\"name\":\"Electra\",\"is_registere...      USD               $   \n",
       "3  {\"id\":196281496,\"name\":\"Artur Ordijanc (delete...      GBP               £   \n",
       "4  {\"id\":1178460181,\"name\":\"Dawn Johnston\",\"is_re...      USD               $   \n",
       "\n",
       "   currency_trailing_code  ...  \\\n",
       "0                    True  ...   \n",
       "1                    True  ...   \n",
       "2                    True  ...   \n",
       "3                   False  ...   \n",
       "4                    True  ...   \n",
       "\n",
       "                                             slug  \\\n",
       "0                         babalus-childrens-shoes   \n",
       "1                         the-ofrenda-oracle-deck   \n",
       "2  record-electras-debut-album-pop-rock-classical   \n",
       "3                the-mist-of-tribunal-a-card-game   \n",
       "4        help-change-the-face-of-brain-impairment   \n",
       "\n",
       "                                          source_url  spotlight staff_pick  \\\n",
       "0  https://www.kickstarter.com/discover/categorie...      False      False   \n",
       "1  https://www.kickstarter.com/discover/categorie...       True      False   \n",
       "2  https://www.kickstarter.com/discover/categorie...       True      False   \n",
       "3  https://www.kickstarter.com/discover/categorie...      False      False   \n",
       "4  https://www.kickstarter.com/discover/categorie...       True      False   \n",
       "\n",
       "        state  state_changed_at  static_usd_rate  \\\n",
       "0        live        1548223375         1.000000   \n",
       "1  successful        1504976459         1.000000   \n",
       "2  successful        1371013395         1.000000   \n",
       "3      failed        1489425776         1.216066   \n",
       "4  successful        1357763527         1.000000   \n",
       "\n",
       "                                                urls   usd_pledged  \\\n",
       "0  {\"web\":{\"project\":\"https://www.kickstarter.com...  28645.000000   \n",
       "1  {\"web\":{\"project\":\"https://www.kickstarter.com...   1950.000000   \n",
       "2  {\"web\":{\"project\":\"https://www.kickstarter.com...  22404.000000   \n",
       "3  {\"web\":{\"project\":\"https://www.kickstarter.com...    165.384934   \n",
       "4  {\"web\":{\"project\":\"https://www.kickstarter.com...   2820.000000   \n",
       "\n",
       "        usd_type  \n",
       "0  international  \n",
       "1       domestic  \n",
       "2  international  \n",
       "3       domestic  \n",
       "4       domestic  \n",
       "\n",
       "[5 rows x 37 columns]"
      ],
      "text/html": "<div>\n<style scoped>\n    .dataframe tbody tr th:only-of-type {\n        vertical-align: middle;\n    }\n\n    .dataframe tbody tr th {\n        vertical-align: top;\n    }\n\n    .dataframe thead th {\n        text-align: right;\n    }\n</style>\n<table border=\"1\" class=\"dataframe\">\n  <thead>\n    <tr style=\"text-align: right;\">\n      <th></th>\n      <th>backers_count</th>\n      <th>blurb</th>\n      <th>category</th>\n      <th>converted_pledged_amount</th>\n      <th>country</th>\n      <th>created_at</th>\n      <th>creator</th>\n      <th>currency</th>\n      <th>currency_symbol</th>\n      <th>currency_trailing_code</th>\n      <th>...</th>\n      <th>slug</th>\n      <th>source_url</th>\n      <th>spotlight</th>\n      <th>staff_pick</th>\n      <th>state</th>\n      <th>state_changed_at</th>\n      <th>static_usd_rate</th>\n      <th>urls</th>\n      <th>usd_pledged</th>\n      <th>usd_type</th>\n    </tr>\n  </thead>\n  <tbody>\n    <tr>\n      <th>0</th>\n      <td>315</td>\n      <td>Babalus Shoes</td>\n      <td>{\"id\":266,\"name\":\"Footwear\",\"slug\":\"fashion/fo...</td>\n      <td>28645</td>\n      <td>US</td>\n      <td>1541459205</td>\n      <td>{\"id\":2094277840,\"name\":\"Lucy Conroy\",\"slug\":\"...</td>\n      <td>USD</td>\n      <td>$</td>\n      <td>True</td>\n      <td>...</td>\n      <td>babalus-childrens-shoes</td>\n      <td>https://www.kickstarter.com/discover/categorie...</td>\n      <td>False</td>\n      <td>False</td>\n      <td>live</td>\n      <td>1548223375</td>\n      <td>1.000000</td>\n      <td>{\"web\":{\"project\":\"https://www.kickstarter.com...</td>\n      <td>28645.000000</td>\n      <td>international</td>\n    </tr>\n    <tr>\n      <th>1</th>\n      <td>47</td>\n      <td>A colorful Dia de los Muertos themed oracle de...</td>\n      <td>{\"id\":273,\"name\":\"Playing Cards\",\"slug\":\"games...</td>\n      <td>1950</td>\n      <td>US</td>\n      <td>1501684093</td>\n      <td>{\"id\":723886115,\"name\":\"Lisa Vollrath\",\"slug\":...</td>\n      <td>USD</td>\n      <td>$</td>\n      <td>True</td>\n      <td>...</td>\n      <td>the-ofrenda-oracle-deck</td>\n      <td>https://www.kickstarter.com/discover/categorie...</td>\n      <td>True</td>\n      <td>False</td>\n      <td>successful</td>\n      <td>1504976459</td>\n      <td>1.000000</td>\n      <td>{\"web\":{\"project\":\"https://www.kickstarter.com...</td>\n      <td>1950.000000</td>\n      <td>domestic</td>\n    </tr>\n    <tr>\n      <th>2</th>\n      <td>271</td>\n      <td>Electra's long awaited, eclectic Debut Pop/Roc...</td>\n      <td>{\"id\":43,\"name\":\"Rock\",\"slug\":\"music/rock\",\"po...</td>\n      <td>22404</td>\n      <td>US</td>\n      <td>1348987533</td>\n      <td>{\"id\":323849677,\"name\":\"Electra\",\"is_registere...</td>\n      <td>USD</td>\n      <td>$</td>\n      <td>True</td>\n      <td>...</td>\n      <td>record-electras-debut-album-pop-rock-classical</td>\n      <td>https://www.kickstarter.com/discover/categorie...</td>\n      <td>True</td>\n      <td>False</td>\n      <td>successful</td>\n      <td>1371013395</td>\n      <td>1.000000</td>\n      <td>{\"web\":{\"project\":\"https://www.kickstarter.com...</td>\n      <td>22404.000000</td>\n      <td>international</td>\n    </tr>\n    <tr>\n      <th>3</th>\n      <td>3</td>\n      <td>The Mist of Tribunal is a turn-based card game...</td>\n      <td>{\"id\":273,\"name\":\"Playing Cards\",\"slug\":\"games...</td>\n      <td>165</td>\n      <td>GB</td>\n      <td>1483780271</td>\n      <td>{\"id\":196281496,\"name\":\"Artur Ordijanc (delete...</td>\n      <td>GBP</td>\n      <td>£</td>\n      <td>False</td>\n      <td>...</td>\n      <td>the-mist-of-tribunal-a-card-game</td>\n      <td>https://www.kickstarter.com/discover/categorie...</td>\n      <td>False</td>\n      <td>False</td>\n      <td>failed</td>\n      <td>1489425776</td>\n      <td>1.216066</td>\n      <td>{\"web\":{\"project\":\"https://www.kickstarter.com...</td>\n      <td>165.384934</td>\n      <td>domestic</td>\n    </tr>\n    <tr>\n      <th>4</th>\n      <td>3</td>\n      <td>Livng with a brain impairment, what its like t...</td>\n      <td>{\"id\":48,\"name\":\"Nonfiction\",\"slug\":\"publishin...</td>\n      <td>2820</td>\n      <td>US</td>\n      <td>1354817071</td>\n      <td>{\"id\":1178460181,\"name\":\"Dawn Johnston\",\"is_re...</td>\n      <td>USD</td>\n      <td>$</td>\n      <td>True</td>\n      <td>...</td>\n      <td>help-change-the-face-of-brain-impairment</td>\n      <td>https://www.kickstarter.com/discover/categorie...</td>\n      <td>True</td>\n      <td>False</td>\n      <td>successful</td>\n      <td>1357763527</td>\n      <td>1.000000</td>\n      <td>{\"web\":{\"project\":\"https://www.kickstarter.com...</td>\n      <td>2820.000000</td>\n      <td>domestic</td>\n    </tr>\n  </tbody>\n</table>\n<p>5 rows × 37 columns</p>\n</div>"
     },
     "metadata": {},
     "execution_count": 7
    }
   ],
   "source": [
    "df.head()"
   ]
  },
  {
   "cell_type": "code",
   "execution_count": 5,
   "id": "e0e6d1d8",
   "metadata": {},
   "outputs": [
    {
     "output_type": "stream",
     "name": "stdout",
     "text": [
      "<class 'pandas.core.frame.DataFrame'>\nInt64Index: 209222 entries, 0 to 3791\nData columns (total 37 columns):\n #   Column                    Non-Null Count   Dtype  \n---  ------                    --------------   -----  \n 0   backers_count             209222 non-null  int64  \n 1   blurb                     209214 non-null  object \n 2   category                  209222 non-null  object \n 3   converted_pledged_amount  209222 non-null  int64  \n 4   country                   209222 non-null  object \n 5   created_at                209222 non-null  int64  \n 6   creator                   209222 non-null  object \n 7   currency                  209222 non-null  object \n 8   currency_symbol           209222 non-null  object \n 9   currency_trailing_code    209222 non-null  bool   \n 10  current_currency          209222 non-null  object \n 11  deadline                  209222 non-null  int64  \n 12  disable_communication     209222 non-null  bool   \n 13  friends                   300 non-null     object \n 14  fx_rate                   209222 non-null  float64\n 15  goal                      209222 non-null  float64\n 16  id                        209222 non-null  int64  \n 17  is_backing                300 non-null     object \n 18  is_starrable              209222 non-null  bool   \n 19  is_starred                300 non-null     object \n 20  launched_at               209222 non-null  int64  \n 21  location                  208996 non-null  object \n 22  name                      209222 non-null  object \n 23  permissions               300 non-null     object \n 24  photo                     209222 non-null  object \n 25  pledged                   209222 non-null  float64\n 26  profile                   209222 non-null  object \n 27  slug                      209222 non-null  object \n 28  source_url                209222 non-null  object \n 29  spotlight                 209222 non-null  bool   \n 30  staff_pick                209222 non-null  bool   \n 31  state                     209222 non-null  object \n 32  state_changed_at          209222 non-null  int64  \n 33  static_usd_rate           209222 non-null  float64\n 34  urls                      209222 non-null  object \n 35  usd_pledged               209222 non-null  float64\n 36  usd_type                  208742 non-null  object \ndtypes: bool(5), float64(5), int64(7), object(20)\nmemory usage: 53.7+ MB\n"
     ]
    }
   ],
   "source": [
    "df.info()"
   ]
  },
  {
   "cell_type": "code",
   "execution_count": 15,
   "id": "a538fa71",
   "metadata": {},
   "outputs": [
    {
     "data": {
      "text/plain": [
       "array(['[]'], dtype=object)"
      ]
     },
     "execution_count": 15,
     "metadata": {},
     "output_type": "execute_result"
    }
   ],
   "source": [
    "df[df.friends.isnull() == False]['friends'].unique()"
   ]
  },
  {
   "cell_type": "code",
   "execution_count": 9,
   "id": "7d5f4479",
   "metadata": {},
   "outputs": [
    {
     "output_type": "execute_result",
     "data": {
      "text/plain": [
       "Index(['backers_count', 'blurb', 'category', 'converted_pledged_amount',\n",
       "       'country', 'created_at', 'creator', 'currency', 'currency_symbol',\n",
       "       'currency_trailing_code', 'current_currency', 'deadline',\n",
       "       'disable_communication', 'friends', 'fx_rate', 'goal', 'id',\n",
       "       'is_backing', 'is_starrable', 'is_starred', 'launched_at', 'location',\n",
       "       'name', 'permissions', 'photo', 'pledged', 'profile', 'slug',\n",
       "       'source_url', 'spotlight', 'staff_pick', 'state', 'state_changed_at',\n",
       "       'static_usd_rate', 'urls', 'usd_pledged', 'usd_type'],\n",
       "      dtype='object')"
      ]
     },
     "metadata": {},
     "execution_count": 9
    }
   ],
   "source": [
    "df.columns"
   ]
  },
  {
   "cell_type": "code",
   "execution_count": 17,
   "id": "fa988443",
   "metadata": {},
   "outputs": [
    {
     "output_type": "execute_result",
     "data": {
      "text/plain": [
       "<seaborn.axisgrid.FacetGrid at 0x13abcdbb0>"
      ]
     },
     "metadata": {},
     "execution_count": 17
    },
    {
     "output_type": "display_data",
     "data": {
      "text/plain": "<Figure size 421.25x360 with 1 Axes>",
      "image/svg+xml": "<?xml version=\"1.0\" encoding=\"utf-8\" standalone=\"no\"?>\n<!DOCTYPE svg PUBLIC \"-//W3C//DTD SVG 1.1//EN\"\n  \"http://www.w3.org/Graphics/SVG/1.1/DTD/svg11.dtd\">\n<!-- Created with matplotlib (https://matplotlib.org/) -->\n<svg height=\"366.15625pt\" version=\"1.1\" viewBox=\"0 0 425.599045 366.15625\" width=\"425.599045pt\" xmlns=\"http://www.w3.org/2000/svg\" xmlns:xlink=\"http://www.w3.org/1999/xlink\">\n <metadata>\n  <rdf:RDF xmlns:cc=\"http://creativecommons.org/ns#\" xmlns:dc=\"http://purl.org/dc/elements/1.1/\" xmlns:rdf=\"http://www.w3.org/1999/02/22-rdf-syntax-ns#\">\n   <cc:Work>\n    <dc:type rdf:resource=\"http://purl.org/dc/dcmitype/StillImage\"/>\n    <dc:date>2021-06-24T19:30:21.209800</dc:date>\n    <dc:format>image/svg+xml</dc:format>\n    <dc:creator>\n     <cc:Agent>\n      <dc:title>Matplotlib v3.3.4, https://matplotlib.org/</dc:title>\n     </cc:Agent>\n    </dc:creator>\n   </cc:Work>\n  </rdf:RDF>\n </metadata>\n <defs>\n  <style type=\"text/css\">*{stroke-linecap:butt;stroke-linejoin:round;}</style>\n </defs>\n <g id=\"figure_1\">\n  <g id=\"patch_1\">\n   <path d=\"M 0 366.15625 \nL 425.599045 366.15625 \nL 425.599045 0 \nL 0 0 \nz\n\" style=\"fill:none;\"/>\n  </g>\n  <g id=\"axes_1\">\n   <g id=\"patch_2\">\n    <path d=\"M 59.690625 328.6 \nL 357.936545 328.6 \nL 357.936545 7.2 \nL 59.690625 7.2 \nz\n\" style=\"fill:#ffffff;\"/>\n   </g>\n   <g id=\"patch_3\">\n    <path clip-path=\"url(#p0df8b7da7f)\" d=\"M 65.655543 328.6 \nL 89.515217 328.6 \nL 89.515217 307.031765 \nL 65.655543 307.031765 \nz\n\" style=\"fill:#3274a1;\"/>\n   </g>\n   <g id=\"patch_4\">\n    <path clip-path=\"url(#p0df8b7da7f)\" d=\"M 125.304727 328.6 \nL 149.164401 328.6 \nL 149.164401 22.504762 \nL 125.304727 22.504762 \nz\n\" style=\"fill:#3274a1;\"/>\n   </g>\n   <g id=\"patch_5\">\n    <path clip-path=\"url(#p0df8b7da7f)\" d=\"M 184.953911 328.6 \nL 208.813585 328.6 \nL 208.813585 90.523387 \nL 184.953911 90.523387 \nz\n\" style=\"fill:#3274a1;\"/>\n   </g>\n   <g id=\"patch_6\">\n    <path clip-path=\"url(#p0df8b7da7f)\" d=\"M 244.603095 328.6 \nL 268.462769 328.6 \nL 268.462769 301.399733 \nL 244.603095 301.399733 \nz\n\" style=\"fill:#3274a1;\"/>\n   </g>\n   <g id=\"patch_7\">\n    <path clip-path=\"url(#p0df8b7da7f)\" d=\"M 304.25228 328.6 \nL 328.111953 328.6 \nL 328.111953 326.565939 \nL 304.25228 326.565939 \nz\n\" style=\"fill:#3274a1;\"/>\n   </g>\n   <g id=\"patch_8\">\n    <path clip-path=\"url(#p0df8b7da7f)\" d=\"M 89.515217 328.6 \nL 113.374891 328.6 \nL 113.374891 326.298213 \nL 89.515217 326.298213 \nz\n\" style=\"fill:#e1812c;\"/>\n   </g>\n   <g id=\"patch_9\">\n    <path clip-path=\"url(#p0df8b7da7f)\" d=\"M 149.164401 328.6 \nL 173.024075 328.6 \nL 173.024075 251.17833 \nL 149.164401 251.17833 \nz\n\" style=\"fill:#e1812c;\"/>\n   </g>\n   <g id=\"patch_10\">\n    <path clip-path=\"url(#p0df8b7da7f)\" d=\"M 208.813585 328.6 \nL 232.673259 328.6 \nL 232.673259 321.155923 \nL 208.813585 321.155923 \nz\n\" style=\"fill:#e1812c;\"/>\n   </g>\n   <g id=\"patch_11\">\n    <path clip-path=\"url(#p0df8b7da7f)\" d=\"M 268.462769 328.6 \nL 292.322443 328.6 \nL 292.322443 327.643371 \nL 268.462769 327.643371 \nz\n\" style=\"fill:#e1812c;\"/>\n   </g>\n   <g id=\"patch_12\">\n    <path clip-path=\"url(#p0df8b7da7f)\" d=\"M 0 0 \nz\n\" style=\"fill:#e1812c;\"/>\n   </g>\n   <g id=\"matplotlib.axis_1\">\n    <g id=\"xtick_1\">\n     <g id=\"line2d_1\">\n      <defs>\n       <path d=\"M 0 0 \nL 0 3.5 \n\" id=\"m4953790736\" style=\"stroke:#000000;stroke-width:0.8;\"/>\n      </defs>\n      <g>\n       <use style=\"stroke:#000000;stroke-width:0.8;\" x=\"89.515217\" xlink:href=\"#m4953790736\" y=\"328.6\"/>\n      </g>\n     </g>\n     <g id=\"text_1\">\n      <!-- live -->\n      <g transform=\"translate(80.701155 343.198437)scale(0.1 -0.1)\">\n       <defs>\n        <path d=\"M 9.421875 75.984375 \nL 18.40625 75.984375 \nL 18.40625 0 \nL 9.421875 0 \nz\n\" id=\"DejaVuSans-108\"/>\n        <path d=\"M 9.421875 54.6875 \nL 18.40625 54.6875 \nL 18.40625 0 \nL 9.421875 0 \nz\nM 9.421875 75.984375 \nL 18.40625 75.984375 \nL 18.40625 64.59375 \nL 9.421875 64.59375 \nz\n\" id=\"DejaVuSans-105\"/>\n        <path d=\"M 2.984375 54.6875 \nL 12.5 54.6875 \nL 29.59375 8.796875 \nL 46.6875 54.6875 \nL 56.203125 54.6875 \nL 35.6875 0 \nL 23.484375 0 \nz\n\" id=\"DejaVuSans-118\"/>\n        <path d=\"M 56.203125 29.59375 \nL 56.203125 25.203125 \nL 14.890625 25.203125 \nQ 15.484375 15.921875 20.484375 11.0625 \nQ 25.484375 6.203125 34.421875 6.203125 \nQ 39.59375 6.203125 44.453125 7.46875 \nQ 49.3125 8.734375 54.109375 11.28125 \nL 54.109375 2.78125 \nQ 49.265625 0.734375 44.1875 -0.34375 \nQ 39.109375 -1.421875 33.890625 -1.421875 \nQ 20.796875 -1.421875 13.15625 6.1875 \nQ 5.515625 13.8125 5.515625 26.8125 \nQ 5.515625 40.234375 12.765625 48.109375 \nQ 20.015625 56 32.328125 56 \nQ 43.359375 56 49.78125 48.890625 \nQ 56.203125 41.796875 56.203125 29.59375 \nz\nM 47.21875 32.234375 \nQ 47.125 39.59375 43.09375 43.984375 \nQ 39.0625 48.390625 32.421875 48.390625 \nQ 24.90625 48.390625 20.390625 44.140625 \nQ 15.875 39.890625 15.1875 32.171875 \nz\n\" id=\"DejaVuSans-101\"/>\n       </defs>\n       <use xlink:href=\"#DejaVuSans-108\"/>\n       <use x=\"27.783203\" xlink:href=\"#DejaVuSans-105\"/>\n       <use x=\"55.566406\" xlink:href=\"#DejaVuSans-118\"/>\n       <use x=\"114.746094\" xlink:href=\"#DejaVuSans-101\"/>\n      </g>\n     </g>\n    </g>\n    <g id=\"xtick_2\">\n     <g id=\"line2d_2\">\n      <g>\n       <use style=\"stroke:#000000;stroke-width:0.8;\" x=\"149.164401\" xlink:href=\"#m4953790736\" y=\"328.6\"/>\n      </g>\n     </g>\n     <g id=\"text_2\">\n      <!-- successful -->\n      <g transform=\"translate(123.28862 343.198437)scale(0.1 -0.1)\">\n       <defs>\n        <path d=\"M 44.28125 53.078125 \nL 44.28125 44.578125 \nQ 40.484375 46.53125 36.375 47.5 \nQ 32.28125 48.484375 27.875 48.484375 \nQ 21.1875 48.484375 17.84375 46.4375 \nQ 14.5 44.390625 14.5 40.28125 \nQ 14.5 37.15625 16.890625 35.375 \nQ 19.28125 33.59375 26.515625 31.984375 \nL 29.59375 31.296875 \nQ 39.15625 29.25 43.1875 25.515625 \nQ 47.21875 21.78125 47.21875 15.09375 \nQ 47.21875 7.46875 41.1875 3.015625 \nQ 35.15625 -1.421875 24.609375 -1.421875 \nQ 20.21875 -1.421875 15.453125 -0.5625 \nQ 10.6875 0.296875 5.421875 2 \nL 5.421875 11.28125 \nQ 10.40625 8.6875 15.234375 7.390625 \nQ 20.0625 6.109375 24.8125 6.109375 \nQ 31.15625 6.109375 34.5625 8.28125 \nQ 37.984375 10.453125 37.984375 14.40625 \nQ 37.984375 18.0625 35.515625 20.015625 \nQ 33.0625 21.96875 24.703125 23.78125 \nL 21.578125 24.515625 \nQ 13.234375 26.265625 9.515625 29.90625 \nQ 5.8125 33.546875 5.8125 39.890625 \nQ 5.8125 47.609375 11.28125 51.796875 \nQ 16.75 56 26.8125 56 \nQ 31.78125 56 36.171875 55.265625 \nQ 40.578125 54.546875 44.28125 53.078125 \nz\n\" id=\"DejaVuSans-115\"/>\n        <path d=\"M 8.5 21.578125 \nL 8.5 54.6875 \nL 17.484375 54.6875 \nL 17.484375 21.921875 \nQ 17.484375 14.15625 20.5 10.265625 \nQ 23.53125 6.390625 29.59375 6.390625 \nQ 36.859375 6.390625 41.078125 11.03125 \nQ 45.3125 15.671875 45.3125 23.6875 \nL 45.3125 54.6875 \nL 54.296875 54.6875 \nL 54.296875 0 \nL 45.3125 0 \nL 45.3125 8.40625 \nQ 42.046875 3.421875 37.71875 1 \nQ 33.40625 -1.421875 27.6875 -1.421875 \nQ 18.265625 -1.421875 13.375 4.4375 \nQ 8.5 10.296875 8.5 21.578125 \nz\nM 31.109375 56 \nz\n\" id=\"DejaVuSans-117\"/>\n        <path d=\"M 48.78125 52.59375 \nL 48.78125 44.1875 \nQ 44.96875 46.296875 41.140625 47.34375 \nQ 37.3125 48.390625 33.40625 48.390625 \nQ 24.65625 48.390625 19.8125 42.84375 \nQ 14.984375 37.3125 14.984375 27.296875 \nQ 14.984375 17.28125 19.8125 11.734375 \nQ 24.65625 6.203125 33.40625 6.203125 \nQ 37.3125 6.203125 41.140625 7.25 \nQ 44.96875 8.296875 48.78125 10.40625 \nL 48.78125 2.09375 \nQ 45.015625 0.34375 40.984375 -0.53125 \nQ 36.96875 -1.421875 32.421875 -1.421875 \nQ 20.0625 -1.421875 12.78125 6.34375 \nQ 5.515625 14.109375 5.515625 27.296875 \nQ 5.515625 40.671875 12.859375 48.328125 \nQ 20.21875 56 33.015625 56 \nQ 37.15625 56 41.109375 55.140625 \nQ 45.0625 54.296875 48.78125 52.59375 \nz\n\" id=\"DejaVuSans-99\"/>\n        <path d=\"M 37.109375 75.984375 \nL 37.109375 68.5 \nL 28.515625 68.5 \nQ 23.6875 68.5 21.796875 66.546875 \nQ 19.921875 64.59375 19.921875 59.515625 \nL 19.921875 54.6875 \nL 34.71875 54.6875 \nL 34.71875 47.703125 \nL 19.921875 47.703125 \nL 19.921875 0 \nL 10.890625 0 \nL 10.890625 47.703125 \nL 2.296875 47.703125 \nL 2.296875 54.6875 \nL 10.890625 54.6875 \nL 10.890625 58.5 \nQ 10.890625 67.625 15.140625 71.796875 \nQ 19.390625 75.984375 28.609375 75.984375 \nz\n\" id=\"DejaVuSans-102\"/>\n       </defs>\n       <use xlink:href=\"#DejaVuSans-115\"/>\n       <use x=\"52.099609\" xlink:href=\"#DejaVuSans-117\"/>\n       <use x=\"115.478516\" xlink:href=\"#DejaVuSans-99\"/>\n       <use x=\"170.458984\" xlink:href=\"#DejaVuSans-99\"/>\n       <use x=\"225.439453\" xlink:href=\"#DejaVuSans-101\"/>\n       <use x=\"286.962891\" xlink:href=\"#DejaVuSans-115\"/>\n       <use x=\"339.0625\" xlink:href=\"#DejaVuSans-115\"/>\n       <use x=\"391.162109\" xlink:href=\"#DejaVuSans-102\"/>\n       <use x=\"426.367188\" xlink:href=\"#DejaVuSans-117\"/>\n       <use x=\"489.746094\" xlink:href=\"#DejaVuSans-108\"/>\n      </g>\n     </g>\n    </g>\n    <g id=\"xtick_3\">\n     <g id=\"line2d_3\">\n      <g>\n       <use style=\"stroke:#000000;stroke-width:0.8;\" x=\"208.813585\" xlink:href=\"#m4953790736\" y=\"328.6\"/>\n      </g>\n     </g>\n     <g id=\"text_3\">\n      <!-- failed -->\n      <g transform=\"translate(194.96046 343.198437)scale(0.1 -0.1)\">\n       <defs>\n        <path d=\"M 34.28125 27.484375 \nQ 23.390625 27.484375 19.1875 25 \nQ 14.984375 22.515625 14.984375 16.5 \nQ 14.984375 11.71875 18.140625 8.90625 \nQ 21.296875 6.109375 26.703125 6.109375 \nQ 34.1875 6.109375 38.703125 11.40625 \nQ 43.21875 16.703125 43.21875 25.484375 \nL 43.21875 27.484375 \nz\nM 52.203125 31.203125 \nL 52.203125 0 \nL 43.21875 0 \nL 43.21875 8.296875 \nQ 40.140625 3.328125 35.546875 0.953125 \nQ 30.953125 -1.421875 24.3125 -1.421875 \nQ 15.921875 -1.421875 10.953125 3.296875 \nQ 6 8.015625 6 15.921875 \nQ 6 25.140625 12.171875 29.828125 \nQ 18.359375 34.515625 30.609375 34.515625 \nL 43.21875 34.515625 \nL 43.21875 35.40625 \nQ 43.21875 41.609375 39.140625 45 \nQ 35.0625 48.390625 27.6875 48.390625 \nQ 23 48.390625 18.546875 47.265625 \nQ 14.109375 46.140625 10.015625 43.890625 \nL 10.015625 52.203125 \nQ 14.9375 54.109375 19.578125 55.046875 \nQ 24.21875 56 28.609375 56 \nQ 40.484375 56 46.34375 49.84375 \nQ 52.203125 43.703125 52.203125 31.203125 \nz\n\" id=\"DejaVuSans-97\"/>\n        <path d=\"M 45.40625 46.390625 \nL 45.40625 75.984375 \nL 54.390625 75.984375 \nL 54.390625 0 \nL 45.40625 0 \nL 45.40625 8.203125 \nQ 42.578125 3.328125 38.25 0.953125 \nQ 33.9375 -1.421875 27.875 -1.421875 \nQ 17.96875 -1.421875 11.734375 6.484375 \nQ 5.515625 14.40625 5.515625 27.296875 \nQ 5.515625 40.1875 11.734375 48.09375 \nQ 17.96875 56 27.875 56 \nQ 33.9375 56 38.25 53.625 \nQ 42.578125 51.265625 45.40625 46.390625 \nz\nM 14.796875 27.296875 \nQ 14.796875 17.390625 18.875 11.75 \nQ 22.953125 6.109375 30.078125 6.109375 \nQ 37.203125 6.109375 41.296875 11.75 \nQ 45.40625 17.390625 45.40625 27.296875 \nQ 45.40625 37.203125 41.296875 42.84375 \nQ 37.203125 48.484375 30.078125 48.484375 \nQ 22.953125 48.484375 18.875 42.84375 \nQ 14.796875 37.203125 14.796875 27.296875 \nz\n\" id=\"DejaVuSans-100\"/>\n       </defs>\n       <use xlink:href=\"#DejaVuSans-102\"/>\n       <use x=\"35.205078\" xlink:href=\"#DejaVuSans-97\"/>\n       <use x=\"96.484375\" xlink:href=\"#DejaVuSans-105\"/>\n       <use x=\"124.267578\" xlink:href=\"#DejaVuSans-108\"/>\n       <use x=\"152.050781\" xlink:href=\"#DejaVuSans-101\"/>\n       <use x=\"213.574219\" xlink:href=\"#DejaVuSans-100\"/>\n      </g>\n     </g>\n    </g>\n    <g id=\"xtick_4\">\n     <g id=\"line2d_4\">\n      <g>\n       <use style=\"stroke:#000000;stroke-width:0.8;\" x=\"268.462769\" xlink:href=\"#m4953790736\" y=\"328.6\"/>\n      </g>\n     </g>\n     <g id=\"text_4\">\n      <!-- canceled -->\n      <g transform=\"translate(246.015113 343.198437)scale(0.1 -0.1)\">\n       <defs>\n        <path d=\"M 54.890625 33.015625 \nL 54.890625 0 \nL 45.90625 0 \nL 45.90625 32.71875 \nQ 45.90625 40.484375 42.875 44.328125 \nQ 39.84375 48.1875 33.796875 48.1875 \nQ 26.515625 48.1875 22.3125 43.546875 \nQ 18.109375 38.921875 18.109375 30.90625 \nL 18.109375 0 \nL 9.078125 0 \nL 9.078125 54.6875 \nL 18.109375 54.6875 \nL 18.109375 46.1875 \nQ 21.34375 51.125 25.703125 53.5625 \nQ 30.078125 56 35.796875 56 \nQ 45.21875 56 50.046875 50.171875 \nQ 54.890625 44.34375 54.890625 33.015625 \nz\n\" id=\"DejaVuSans-110\"/>\n       </defs>\n       <use xlink:href=\"#DejaVuSans-99\"/>\n       <use x=\"54.980469\" xlink:href=\"#DejaVuSans-97\"/>\n       <use x=\"116.259766\" xlink:href=\"#DejaVuSans-110\"/>\n       <use x=\"179.638672\" xlink:href=\"#DejaVuSans-99\"/>\n       <use x=\"234.619141\" xlink:href=\"#DejaVuSans-101\"/>\n       <use x=\"296.142578\" xlink:href=\"#DejaVuSans-108\"/>\n       <use x=\"323.925781\" xlink:href=\"#DejaVuSans-101\"/>\n       <use x=\"385.449219\" xlink:href=\"#DejaVuSans-100\"/>\n      </g>\n     </g>\n    </g>\n    <g id=\"xtick_5\">\n     <g id=\"line2d_5\">\n      <g>\n       <use style=\"stroke:#000000;stroke-width:0.8;\" x=\"328.111953\" xlink:href=\"#m4953790736\" y=\"328.6\"/>\n      </g>\n     </g>\n     <g id=\"text_5\">\n      <!-- suspended -->\n      <g transform=\"translate(300.889297 343.198437)scale(0.1 -0.1)\">\n       <defs>\n        <path d=\"M 18.109375 8.203125 \nL 18.109375 -20.796875 \nL 9.078125 -20.796875 \nL 9.078125 54.6875 \nL 18.109375 54.6875 \nL 18.109375 46.390625 \nQ 20.953125 51.265625 25.265625 53.625 \nQ 29.59375 56 35.59375 56 \nQ 45.5625 56 51.78125 48.09375 \nQ 58.015625 40.1875 58.015625 27.296875 \nQ 58.015625 14.40625 51.78125 6.484375 \nQ 45.5625 -1.421875 35.59375 -1.421875 \nQ 29.59375 -1.421875 25.265625 0.953125 \nQ 20.953125 3.328125 18.109375 8.203125 \nz\nM 48.6875 27.296875 \nQ 48.6875 37.203125 44.609375 42.84375 \nQ 40.53125 48.484375 33.40625 48.484375 \nQ 26.265625 48.484375 22.1875 42.84375 \nQ 18.109375 37.203125 18.109375 27.296875 \nQ 18.109375 17.390625 22.1875 11.75 \nQ 26.265625 6.109375 33.40625 6.109375 \nQ 40.53125 6.109375 44.609375 11.75 \nQ 48.6875 17.390625 48.6875 27.296875 \nz\n\" id=\"DejaVuSans-112\"/>\n       </defs>\n       <use xlink:href=\"#DejaVuSans-115\"/>\n       <use x=\"52.099609\" xlink:href=\"#DejaVuSans-117\"/>\n       <use x=\"115.478516\" xlink:href=\"#DejaVuSans-115\"/>\n       <use x=\"167.578125\" xlink:href=\"#DejaVuSans-112\"/>\n       <use x=\"231.054688\" xlink:href=\"#DejaVuSans-101\"/>\n       <use x=\"292.578125\" xlink:href=\"#DejaVuSans-110\"/>\n       <use x=\"355.957031\" xlink:href=\"#DejaVuSans-100\"/>\n       <use x=\"419.433594\" xlink:href=\"#DejaVuSans-101\"/>\n       <use x=\"480.957031\" xlink:href=\"#DejaVuSans-100\"/>\n      </g>\n     </g>\n    </g>\n    <g id=\"text_6\">\n     <!-- state -->\n     <g transform=\"translate(196.14796 356.876562)scale(0.1 -0.1)\">\n      <defs>\n       <path d=\"M 18.3125 70.21875 \nL 18.3125 54.6875 \nL 36.8125 54.6875 \nL 36.8125 47.703125 \nL 18.3125 47.703125 \nL 18.3125 18.015625 \nQ 18.3125 11.328125 20.140625 9.421875 \nQ 21.96875 7.515625 27.59375 7.515625 \nL 36.8125 7.515625 \nL 36.8125 0 \nL 27.59375 0 \nQ 17.1875 0 13.234375 3.875 \nQ 9.28125 7.765625 9.28125 18.015625 \nL 9.28125 47.703125 \nL 2.6875 47.703125 \nL 2.6875 54.6875 \nL 9.28125 54.6875 \nL 9.28125 70.21875 \nz\n\" id=\"DejaVuSans-116\"/>\n      </defs>\n      <use xlink:href=\"#DejaVuSans-115\"/>\n      <use x=\"52.099609\" xlink:href=\"#DejaVuSans-116\"/>\n      <use x=\"91.308594\" xlink:href=\"#DejaVuSans-97\"/>\n      <use x=\"152.587891\" xlink:href=\"#DejaVuSans-116\"/>\n      <use x=\"191.796875\" xlink:href=\"#DejaVuSans-101\"/>\n     </g>\n    </g>\n   </g>\n   <g id=\"matplotlib.axis_2\">\n    <g id=\"ytick_1\">\n     <g id=\"line2d_6\">\n      <defs>\n       <path d=\"M 0 0 \nL -3.5 0 \n\" id=\"m5e6dff5a67\" style=\"stroke:#000000;stroke-width:0.8;\"/>\n      </defs>\n      <g>\n       <use style=\"stroke:#000000;stroke-width:0.8;\" x=\"59.690625\" xlink:href=\"#m5e6dff5a67\" y=\"328.6\"/>\n      </g>\n     </g>\n     <g id=\"text_7\">\n      <!-- 0 -->\n      <g transform=\"translate(46.328125 332.399219)scale(0.1 -0.1)\">\n       <defs>\n        <path d=\"M 31.78125 66.40625 \nQ 24.171875 66.40625 20.328125 58.90625 \nQ 16.5 51.421875 16.5 36.375 \nQ 16.5 21.390625 20.328125 13.890625 \nQ 24.171875 6.390625 31.78125 6.390625 \nQ 39.453125 6.390625 43.28125 13.890625 \nQ 47.125 21.390625 47.125 36.375 \nQ 47.125 51.421875 43.28125 58.90625 \nQ 39.453125 66.40625 31.78125 66.40625 \nz\nM 31.78125 74.21875 \nQ 44.046875 74.21875 50.515625 64.515625 \nQ 56.984375 54.828125 56.984375 36.375 \nQ 56.984375 17.96875 50.515625 8.265625 \nQ 44.046875 -1.421875 31.78125 -1.421875 \nQ 19.53125 -1.421875 13.0625 8.265625 \nQ 6.59375 17.96875 6.59375 36.375 \nQ 6.59375 54.828125 13.0625 64.515625 \nQ 19.53125 74.21875 31.78125 74.21875 \nz\n\" id=\"DejaVuSans-48\"/>\n       </defs>\n       <use xlink:href=\"#DejaVuSans-48\"/>\n      </g>\n     </g>\n    </g>\n    <g id=\"ytick_2\">\n     <g id=\"line2d_7\">\n      <g>\n       <use style=\"stroke:#000000;stroke-width:0.8;\" x=\"59.690625\" xlink:href=\"#m5e6dff5a67\" y=\"263.301076\"/>\n      </g>\n     </g>\n     <g id=\"text_8\">\n      <!-- 20000 -->\n      <g transform=\"translate(20.878125 267.100294)scale(0.1 -0.1)\">\n       <defs>\n        <path d=\"M 19.1875 8.296875 \nL 53.609375 8.296875 \nL 53.609375 0 \nL 7.328125 0 \nL 7.328125 8.296875 \nQ 12.9375 14.109375 22.625 23.890625 \nQ 32.328125 33.6875 34.8125 36.53125 \nQ 39.546875 41.84375 41.421875 45.53125 \nQ 43.3125 49.21875 43.3125 52.78125 \nQ 43.3125 58.59375 39.234375 62.25 \nQ 35.15625 65.921875 28.609375 65.921875 \nQ 23.96875 65.921875 18.8125 64.3125 \nQ 13.671875 62.703125 7.8125 59.421875 \nL 7.8125 69.390625 \nQ 13.765625 71.78125 18.9375 73 \nQ 24.125 74.21875 28.421875 74.21875 \nQ 39.75 74.21875 46.484375 68.546875 \nQ 53.21875 62.890625 53.21875 53.421875 \nQ 53.21875 48.921875 51.53125 44.890625 \nQ 49.859375 40.875 45.40625 35.40625 \nQ 44.1875 33.984375 37.640625 27.21875 \nQ 31.109375 20.453125 19.1875 8.296875 \nz\n\" id=\"DejaVuSans-50\"/>\n       </defs>\n       <use xlink:href=\"#DejaVuSans-50\"/>\n       <use x=\"63.623047\" xlink:href=\"#DejaVuSans-48\"/>\n       <use x=\"127.246094\" xlink:href=\"#DejaVuSans-48\"/>\n       <use x=\"190.869141\" xlink:href=\"#DejaVuSans-48\"/>\n       <use x=\"254.492188\" xlink:href=\"#DejaVuSans-48\"/>\n      </g>\n     </g>\n    </g>\n    <g id=\"ytick_3\">\n     <g id=\"line2d_8\">\n      <g>\n       <use style=\"stroke:#000000;stroke-width:0.8;\" x=\"59.690625\" xlink:href=\"#m5e6dff5a67\" y=\"198.002151\"/>\n      </g>\n     </g>\n     <g id=\"text_9\">\n      <!-- 40000 -->\n      <g transform=\"translate(20.878125 201.80137)scale(0.1 -0.1)\">\n       <defs>\n        <path d=\"M 37.796875 64.3125 \nL 12.890625 25.390625 \nL 37.796875 25.390625 \nz\nM 35.203125 72.90625 \nL 47.609375 72.90625 \nL 47.609375 25.390625 \nL 58.015625 25.390625 \nL 58.015625 17.1875 \nL 47.609375 17.1875 \nL 47.609375 0 \nL 37.796875 0 \nL 37.796875 17.1875 \nL 4.890625 17.1875 \nL 4.890625 26.703125 \nz\n\" id=\"DejaVuSans-52\"/>\n       </defs>\n       <use xlink:href=\"#DejaVuSans-52\"/>\n       <use x=\"63.623047\" xlink:href=\"#DejaVuSans-48\"/>\n       <use x=\"127.246094\" xlink:href=\"#DejaVuSans-48\"/>\n       <use x=\"190.869141\" xlink:href=\"#DejaVuSans-48\"/>\n       <use x=\"254.492188\" xlink:href=\"#DejaVuSans-48\"/>\n      </g>\n     </g>\n    </g>\n    <g id=\"ytick_4\">\n     <g id=\"line2d_9\">\n      <g>\n       <use style=\"stroke:#000000;stroke-width:0.8;\" x=\"59.690625\" xlink:href=\"#m5e6dff5a67\" y=\"132.703227\"/>\n      </g>\n     </g>\n     <g id=\"text_10\">\n      <!-- 60000 -->\n      <g transform=\"translate(20.878125 136.502446)scale(0.1 -0.1)\">\n       <defs>\n        <path d=\"M 33.015625 40.375 \nQ 26.375 40.375 22.484375 35.828125 \nQ 18.609375 31.296875 18.609375 23.390625 \nQ 18.609375 15.53125 22.484375 10.953125 \nQ 26.375 6.390625 33.015625 6.390625 \nQ 39.65625 6.390625 43.53125 10.953125 \nQ 47.40625 15.53125 47.40625 23.390625 \nQ 47.40625 31.296875 43.53125 35.828125 \nQ 39.65625 40.375 33.015625 40.375 \nz\nM 52.59375 71.296875 \nL 52.59375 62.3125 \nQ 48.875 64.0625 45.09375 64.984375 \nQ 41.3125 65.921875 37.59375 65.921875 \nQ 27.828125 65.921875 22.671875 59.328125 \nQ 17.53125 52.734375 16.796875 39.40625 \nQ 19.671875 43.65625 24.015625 45.921875 \nQ 28.375 48.1875 33.59375 48.1875 \nQ 44.578125 48.1875 50.953125 41.515625 \nQ 57.328125 34.859375 57.328125 23.390625 \nQ 57.328125 12.15625 50.6875 5.359375 \nQ 44.046875 -1.421875 33.015625 -1.421875 \nQ 20.359375 -1.421875 13.671875 8.265625 \nQ 6.984375 17.96875 6.984375 36.375 \nQ 6.984375 53.65625 15.1875 63.9375 \nQ 23.390625 74.21875 37.203125 74.21875 \nQ 40.921875 74.21875 44.703125 73.484375 \nQ 48.484375 72.75 52.59375 71.296875 \nz\n\" id=\"DejaVuSans-54\"/>\n       </defs>\n       <use xlink:href=\"#DejaVuSans-54\"/>\n       <use x=\"63.623047\" xlink:href=\"#DejaVuSans-48\"/>\n       <use x=\"127.246094\" xlink:href=\"#DejaVuSans-48\"/>\n       <use x=\"190.869141\" xlink:href=\"#DejaVuSans-48\"/>\n       <use x=\"254.492188\" xlink:href=\"#DejaVuSans-48\"/>\n      </g>\n     </g>\n    </g>\n    <g id=\"ytick_5\">\n     <g id=\"line2d_10\">\n      <g>\n       <use style=\"stroke:#000000;stroke-width:0.8;\" x=\"59.690625\" xlink:href=\"#m5e6dff5a67\" y=\"67.404302\"/>\n      </g>\n     </g>\n     <g id=\"text_11\">\n      <!-- 80000 -->\n      <g transform=\"translate(20.878125 71.203521)scale(0.1 -0.1)\">\n       <defs>\n        <path d=\"M 31.78125 34.625 \nQ 24.75 34.625 20.71875 30.859375 \nQ 16.703125 27.09375 16.703125 20.515625 \nQ 16.703125 13.921875 20.71875 10.15625 \nQ 24.75 6.390625 31.78125 6.390625 \nQ 38.8125 6.390625 42.859375 10.171875 \nQ 46.921875 13.96875 46.921875 20.515625 \nQ 46.921875 27.09375 42.890625 30.859375 \nQ 38.875 34.625 31.78125 34.625 \nz\nM 21.921875 38.8125 \nQ 15.578125 40.375 12.03125 44.71875 \nQ 8.5 49.078125 8.5 55.328125 \nQ 8.5 64.0625 14.71875 69.140625 \nQ 20.953125 74.21875 31.78125 74.21875 \nQ 42.671875 74.21875 48.875 69.140625 \nQ 55.078125 64.0625 55.078125 55.328125 \nQ 55.078125 49.078125 51.53125 44.71875 \nQ 48 40.375 41.703125 38.8125 \nQ 48.828125 37.15625 52.796875 32.3125 \nQ 56.78125 27.484375 56.78125 20.515625 \nQ 56.78125 9.90625 50.3125 4.234375 \nQ 43.84375 -1.421875 31.78125 -1.421875 \nQ 19.734375 -1.421875 13.25 4.234375 \nQ 6.78125 9.90625 6.78125 20.515625 \nQ 6.78125 27.484375 10.78125 32.3125 \nQ 14.796875 37.15625 21.921875 38.8125 \nz\nM 18.3125 54.390625 \nQ 18.3125 48.734375 21.84375 45.5625 \nQ 25.390625 42.390625 31.78125 42.390625 \nQ 38.140625 42.390625 41.71875 45.5625 \nQ 45.3125 48.734375 45.3125 54.390625 \nQ 45.3125 60.0625 41.71875 63.234375 \nQ 38.140625 66.40625 31.78125 66.40625 \nQ 25.390625 66.40625 21.84375 63.234375 \nQ 18.3125 60.0625 18.3125 54.390625 \nz\n\" id=\"DejaVuSans-56\"/>\n       </defs>\n       <use xlink:href=\"#DejaVuSans-56\"/>\n       <use x=\"63.623047\" xlink:href=\"#DejaVuSans-48\"/>\n       <use x=\"127.246094\" xlink:href=\"#DejaVuSans-48\"/>\n       <use x=\"190.869141\" xlink:href=\"#DejaVuSans-48\"/>\n       <use x=\"254.492188\" xlink:href=\"#DejaVuSans-48\"/>\n      </g>\n     </g>\n    </g>\n    <g id=\"text_12\">\n     <!-- count -->\n     <g transform=\"translate(14.798438 182.00625)rotate(-90)scale(0.1 -0.1)\">\n      <defs>\n       <path d=\"M 30.609375 48.390625 \nQ 23.390625 48.390625 19.1875 42.75 \nQ 14.984375 37.109375 14.984375 27.296875 \nQ 14.984375 17.484375 19.15625 11.84375 \nQ 23.34375 6.203125 30.609375 6.203125 \nQ 37.796875 6.203125 41.984375 11.859375 \nQ 46.1875 17.53125 46.1875 27.296875 \nQ 46.1875 37.015625 41.984375 42.703125 \nQ 37.796875 48.390625 30.609375 48.390625 \nz\nM 30.609375 56 \nQ 42.328125 56 49.015625 48.375 \nQ 55.71875 40.765625 55.71875 27.296875 \nQ 55.71875 13.875 49.015625 6.21875 \nQ 42.328125 -1.421875 30.609375 -1.421875 \nQ 18.84375 -1.421875 12.171875 6.21875 \nQ 5.515625 13.875 5.515625 27.296875 \nQ 5.515625 40.765625 12.171875 48.375 \nQ 18.84375 56 30.609375 56 \nz\n\" id=\"DejaVuSans-111\"/>\n      </defs>\n      <use xlink:href=\"#DejaVuSans-99\"/>\n      <use x=\"54.980469\" xlink:href=\"#DejaVuSans-111\"/>\n      <use x=\"116.162109\" xlink:href=\"#DejaVuSans-117\"/>\n      <use x=\"179.541016\" xlink:href=\"#DejaVuSans-110\"/>\n      <use x=\"242.919922\" xlink:href=\"#DejaVuSans-116\"/>\n     </g>\n    </g>\n   </g>\n   <g id=\"patch_13\">\n    <path d=\"M 59.690625 328.6 \nL 59.690625 7.2 \n\" style=\"fill:none;stroke:#000000;stroke-linecap:square;stroke-linejoin:miter;stroke-width:0.8;\"/>\n   </g>\n   <g id=\"patch_14\">\n    <path d=\"M 59.690625 328.6 \nL 357.936545 328.6 \n\" style=\"fill:none;stroke:#000000;stroke-linecap:square;stroke-linejoin:miter;stroke-width:0.8;\"/>\n   </g>\n  </g>\n  <g id=\"legend_1\">\n   <g id=\"text_13\">\n    <!-- staff_pick -->\n    <g transform=\"translate(366.188108 171.020312)scale(0.1 -0.1)\">\n     <defs>\n      <path d=\"M 50.984375 -16.609375 \nL 50.984375 -23.578125 \nL -0.984375 -23.578125 \nL -0.984375 -16.609375 \nz\n\" id=\"DejaVuSans-95\"/>\n      <path d=\"M 9.078125 75.984375 \nL 18.109375 75.984375 \nL 18.109375 31.109375 \nL 44.921875 54.6875 \nL 56.390625 54.6875 \nL 27.390625 29.109375 \nL 57.625 0 \nL 45.90625 0 \nL 18.109375 26.703125 \nL 18.109375 0 \nL 9.078125 0 \nz\n\" id=\"DejaVuSans-107\"/>\n     </defs>\n     <use xlink:href=\"#DejaVuSans-115\"/>\n     <use x=\"52.099609\" xlink:href=\"#DejaVuSans-116\"/>\n     <use x=\"91.308594\" xlink:href=\"#DejaVuSans-97\"/>\n     <use x=\"152.587891\" xlink:href=\"#DejaVuSans-102\"/>\n     <use x=\"187.792969\" xlink:href=\"#DejaVuSans-102\"/>\n     <use x=\"222.998047\" xlink:href=\"#DejaVuSans-95\"/>\n     <use x=\"272.998047\" xlink:href=\"#DejaVuSans-112\"/>\n     <use x=\"336.474609\" xlink:href=\"#DejaVuSans-105\"/>\n     <use x=\"364.257812\" xlink:href=\"#DejaVuSans-99\"/>\n     <use x=\"419.238281\" xlink:href=\"#DejaVuSans-107\"/>\n    </g>\n   </g>\n   <g id=\"patch_15\">\n    <path d=\"M 363.491233 185.976562 \nL 383.491233 185.976562 \nL 383.491233 178.976562 \nL 363.491233 178.976562 \nz\n\" style=\"fill:#3274a1;\"/>\n   </g>\n   <g id=\"text_14\">\n    <!-- False -->\n    <g transform=\"translate(391.491233 185.976562)scale(0.1 -0.1)\">\n     <defs>\n      <path d=\"M 9.8125 72.90625 \nL 51.703125 72.90625 \nL 51.703125 64.59375 \nL 19.671875 64.59375 \nL 19.671875 43.109375 \nL 48.578125 43.109375 \nL 48.578125 34.8125 \nL 19.671875 34.8125 \nL 19.671875 0 \nL 9.8125 0 \nz\n\" id=\"DejaVuSans-70\"/>\n     </defs>\n     <use xlink:href=\"#DejaVuSans-70\"/>\n     <use x=\"48.394531\" xlink:href=\"#DejaVuSans-97\"/>\n     <use x=\"109.673828\" xlink:href=\"#DejaVuSans-108\"/>\n     <use x=\"137.457031\" xlink:href=\"#DejaVuSans-115\"/>\n     <use x=\"189.556641\" xlink:href=\"#DejaVuSans-101\"/>\n    </g>\n   </g>\n   <g id=\"patch_16\">\n    <path d=\"M 363.491233 200.654687 \nL 383.491233 200.654687 \nL 383.491233 193.654687 \nL 363.491233 193.654687 \nz\n\" style=\"fill:#e1812c;\"/>\n   </g>\n   <g id=\"text_15\">\n    <!-- True -->\n    <g transform=\"translate(391.491233 200.654687)scale(0.1 -0.1)\">\n     <defs>\n      <path d=\"M -0.296875 72.90625 \nL 61.375 72.90625 \nL 61.375 64.59375 \nL 35.5 64.59375 \nL 35.5 0 \nL 25.59375 0 \nL 25.59375 64.59375 \nL -0.296875 64.59375 \nz\n\" id=\"DejaVuSans-84\"/>\n      <path d=\"M 41.109375 46.296875 \nQ 39.59375 47.171875 37.8125 47.578125 \nQ 36.03125 48 33.890625 48 \nQ 26.265625 48 22.1875 43.046875 \nQ 18.109375 38.09375 18.109375 28.8125 \nL 18.109375 0 \nL 9.078125 0 \nL 9.078125 54.6875 \nL 18.109375 54.6875 \nL 18.109375 46.1875 \nQ 20.953125 51.171875 25.484375 53.578125 \nQ 30.03125 56 36.53125 56 \nQ 37.453125 56 38.578125 55.875 \nQ 39.703125 55.765625 41.0625 55.515625 \nz\n\" id=\"DejaVuSans-114\"/>\n     </defs>\n     <use xlink:href=\"#DejaVuSans-84\"/>\n     <use x=\"46.333984\" xlink:href=\"#DejaVuSans-114\"/>\n     <use x=\"87.447266\" xlink:href=\"#DejaVuSans-117\"/>\n     <use x=\"150.826172\" xlink:href=\"#DejaVuSans-101\"/>\n    </g>\n   </g>\n  </g>\n </g>\n <defs>\n  <clipPath id=\"p0df8b7da7f\">\n   <rect height=\"321.4\" width=\"298.24592\" x=\"59.690625\" y=\"7.2\"/>\n  </clipPath>\n </defs>\n</svg>\n",
      "image/png": "[encoded data removed]"
     },
     "metadata": {
      "needs_background": "light"
     }
    }
   ],
   "source": [
    "sns.catplot(data=df, x='state', hue='staff_pick', kind='count')"
   ]
  },
  {
   "cell_type": "code",
   "execution_count": null,
   "metadata": {},
   "outputs": [],
   "source": []
  }
 ],
 "metadata": {
  "kernelspec": {
   "name": "python3",
   "display_name": "Python 3.8.5 64-bit ('.venv': venv)"
  },
  "language_info": {
   "codemirror_mode": {
    "name": "ipython",
    "version": 3
   },
   "file_extension": ".py",
   "mimetype": "text/x-python",
   "name": "python",
   "nbconvert_exporter": "python",
   "pygments_lexer": "ipython3",
   "version": "3.8.5"
  },
  "interpreter": {
   "hash": "bf5992e0605dd9e6158526ebb6dcf4b92d0de49751f459d287c2f437276e3f64"
  }
 },
 "nbformat": 4,
 "nbformat_minor": 5
}